{
  "nbformat": 4,
  "nbformat_minor": 0,
  "metadata": {
    "colab": {
      "name": "HyperparameterTuning.ipynb",
      "provenance": [],
      "collapsed_sections": [],
      "authorship_tag": "ABX9TyO12r22tegpfQ86lAZ5yncS",
      "include_colab_link": true
    },
    "kernelspec": {
      "name": "python3",
      "display_name": "Python 3"
    },
    "language_info": {
      "name": "python"
    },
    "widgets": {
      "application/vnd.jupyter.widget-state+json": {
        "7ebdb96b0a2c4d8fbf9a3e8aca0d5050": {
          "model_module": "@jupyter-widgets/controls",
          "model_name": "HBoxModel",
          "model_module_version": "1.5.0",
          "state": {
            "_view_name": "HBoxView",
            "_dom_classes": [],
            "_model_name": "HBoxModel",
            "_view_module": "@jupyter-widgets/controls",
            "_model_module_version": "1.5.0",
            "_view_count": null,
            "_view_module_version": "1.5.0",
            "box_style": "",
            "layout": "IPY_MODEL_1e3c6be3de864ecc99e84a95bf9c89b6",
            "_model_module": "@jupyter-widgets/controls",
            "children": [
              "IPY_MODEL_0a75c378807b42acb2d99adb5a53ebc6",
              "IPY_MODEL_cd9eccbf06bb4c58af8a39f6ce708edb",
              "IPY_MODEL_9defba22f8fa425ca127ad12b54aea9a"
            ]
          }
        },
        "1e3c6be3de864ecc99e84a95bf9c89b6": {
          "model_module": "@jupyter-widgets/base",
          "model_name": "LayoutModel",
          "model_module_version": "1.2.0",
          "state": {
            "_view_name": "LayoutView",
            "grid_template_rows": null,
            "right": null,
            "justify_content": null,
            "_view_module": "@jupyter-widgets/base",
            "overflow": null,
            "_model_module_version": "1.2.0",
            "_view_count": null,
            "flex_flow": null,
            "width": null,
            "min_width": null,
            "border": null,
            "align_items": null,
            "bottom": null,
            "_model_module": "@jupyter-widgets/base",
            "top": null,
            "grid_column": null,
            "overflow_y": null,
            "overflow_x": null,
            "grid_auto_flow": null,
            "grid_area": null,
            "grid_template_columns": null,
            "flex": null,
            "_model_name": "LayoutModel",
            "justify_items": null,
            "grid_row": null,
            "max_height": null,
            "align_content": null,
            "visibility": null,
            "align_self": null,
            "height": null,
            "min_height": null,
            "padding": null,
            "grid_auto_rows": null,
            "grid_gap": null,
            "max_width": null,
            "order": null,
            "_view_module_version": "1.2.0",
            "grid_template_areas": null,
            "object_position": null,
            "object_fit": null,
            "grid_auto_columns": null,
            "margin": null,
            "display": null,
            "left": null
          }
        },
        "0a75c378807b42acb2d99adb5a53ebc6": {
          "model_module": "@jupyter-widgets/controls",
          "model_name": "HTMLModel",
          "model_module_version": "1.5.0",
          "state": {
            "_view_name": "HTMLView",
            "style": "IPY_MODEL_97b31df442ca47cb9a394f6f4f0cdb95",
            "_dom_classes": [],
            "description": "",
            "_model_name": "HTMLModel",
            "placeholder": "​",
            "_view_module": "@jupyter-widgets/controls",
            "_model_module_version": "1.5.0",
            "value": "Optimization Progress: 100%",
            "_view_count": null,
            "_view_module_version": "1.5.0",
            "description_tooltip": null,
            "_model_module": "@jupyter-widgets/controls",
            "layout": "IPY_MODEL_340f8c8915304318a0dd7f56d775a96c"
          }
        },
        "cd9eccbf06bb4c58af8a39f6ce708edb": {
          "model_module": "@jupyter-widgets/controls",
          "model_name": "FloatProgressModel",
          "model_module_version": "1.5.0",
          "state": {
            "_view_name": "ProgressView",
            "style": "IPY_MODEL_a93ab0139f97450c9cc61d2d5aa0eb6a",
            "_dom_classes": [],
            "description": "",
            "_model_name": "FloatProgressModel",
            "bar_style": "",
            "max": 84,
            "_view_module": "@jupyter-widgets/controls",
            "_model_module_version": "1.5.0",
            "value": 84,
            "_view_count": null,
            "_view_module_version": "1.5.0",
            "orientation": "horizontal",
            "min": 0,
            "description_tooltip": null,
            "_model_module": "@jupyter-widgets/controls",
            "layout": "IPY_MODEL_ff23f00b080d4a6080cfce7fd10ef809"
          }
        },
        "9defba22f8fa425ca127ad12b54aea9a": {
          "model_module": "@jupyter-widgets/controls",
          "model_name": "HTMLModel",
          "model_module_version": "1.5.0",
          "state": {
            "_view_name": "HTMLView",
            "style": "IPY_MODEL_91b0dbf6ab1645f8bea79cf7ce0a6655",
            "_dom_classes": [],
            "description": "",
            "_model_name": "HTMLModel",
            "placeholder": "​",
            "_view_module": "@jupyter-widgets/controls",
            "_model_module_version": "1.5.0",
            "value": " 84/84 [20:03&lt;00:00, 18.10s/pipeline]",
            "_view_count": null,
            "_view_module_version": "1.5.0",
            "description_tooltip": null,
            "_model_module": "@jupyter-widgets/controls",
            "layout": "IPY_MODEL_56f473f11a56486b84381b6f98105cb5"
          }
        },
        "97b31df442ca47cb9a394f6f4f0cdb95": {
          "model_module": "@jupyter-widgets/controls",
          "model_name": "DescriptionStyleModel",
          "model_module_version": "1.5.0",
          "state": {
            "_view_name": "StyleView",
            "_model_name": "DescriptionStyleModel",
            "description_width": "",
            "_view_module": "@jupyter-widgets/base",
            "_model_module_version": "1.5.0",
            "_view_count": null,
            "_view_module_version": "1.2.0",
            "_model_module": "@jupyter-widgets/controls"
          }
        },
        "340f8c8915304318a0dd7f56d775a96c": {
          "model_module": "@jupyter-widgets/base",
          "model_name": "LayoutModel",
          "model_module_version": "1.2.0",
          "state": {
            "_view_name": "LayoutView",
            "grid_template_rows": null,
            "right": null,
            "justify_content": null,
            "_view_module": "@jupyter-widgets/base",
            "overflow": null,
            "_model_module_version": "1.2.0",
            "_view_count": null,
            "flex_flow": null,
            "width": null,
            "min_width": null,
            "border": null,
            "align_items": null,
            "bottom": null,
            "_model_module": "@jupyter-widgets/base",
            "top": null,
            "grid_column": null,
            "overflow_y": null,
            "overflow_x": null,
            "grid_auto_flow": null,
            "grid_area": null,
            "grid_template_columns": null,
            "flex": null,
            "_model_name": "LayoutModel",
            "justify_items": null,
            "grid_row": null,
            "max_height": null,
            "align_content": null,
            "visibility": null,
            "align_self": null,
            "height": null,
            "min_height": null,
            "padding": null,
            "grid_auto_rows": null,
            "grid_gap": null,
            "max_width": null,
            "order": null,
            "_view_module_version": "1.2.0",
            "grid_template_areas": null,
            "object_position": null,
            "object_fit": null,
            "grid_auto_columns": null,
            "margin": null,
            "display": null,
            "left": null
          }
        },
        "a93ab0139f97450c9cc61d2d5aa0eb6a": {
          "model_module": "@jupyter-widgets/controls",
          "model_name": "ProgressStyleModel",
          "model_module_version": "1.5.0",
          "state": {
            "_view_name": "StyleView",
            "_model_name": "ProgressStyleModel",
            "description_width": "",
            "_view_module": "@jupyter-widgets/base",
            "_model_module_version": "1.5.0",
            "_view_count": null,
            "_view_module_version": "1.2.0",
            "bar_color": null,
            "_model_module": "@jupyter-widgets/controls"
          }
        },
        "ff23f00b080d4a6080cfce7fd10ef809": {
          "model_module": "@jupyter-widgets/base",
          "model_name": "LayoutModel",
          "model_module_version": "1.2.0",
          "state": {
            "_view_name": "LayoutView",
            "grid_template_rows": null,
            "right": null,
            "justify_content": null,
            "_view_module": "@jupyter-widgets/base",
            "overflow": null,
            "_model_module_version": "1.2.0",
            "_view_count": null,
            "flex_flow": null,
            "width": null,
            "min_width": null,
            "border": null,
            "align_items": null,
            "bottom": null,
            "_model_module": "@jupyter-widgets/base",
            "top": null,
            "grid_column": null,
            "overflow_y": null,
            "overflow_x": null,
            "grid_auto_flow": null,
            "grid_area": null,
            "grid_template_columns": null,
            "flex": null,
            "_model_name": "LayoutModel",
            "justify_items": null,
            "grid_row": null,
            "max_height": null,
            "align_content": null,
            "visibility": null,
            "align_self": null,
            "height": null,
            "min_height": null,
            "padding": null,
            "grid_auto_rows": null,
            "grid_gap": null,
            "max_width": null,
            "order": null,
            "_view_module_version": "1.2.0",
            "grid_template_areas": null,
            "object_position": null,
            "object_fit": null,
            "grid_auto_columns": null,
            "margin": null,
            "display": null,
            "left": null
          }
        },
        "91b0dbf6ab1645f8bea79cf7ce0a6655": {
          "model_module": "@jupyter-widgets/controls",
          "model_name": "DescriptionStyleModel",
          "model_module_version": "1.5.0",
          "state": {
            "_view_name": "StyleView",
            "_model_name": "DescriptionStyleModel",
            "description_width": "",
            "_view_module": "@jupyter-widgets/base",
            "_model_module_version": "1.5.0",
            "_view_count": null,
            "_view_module_version": "1.2.0",
            "_model_module": "@jupyter-widgets/controls"
          }
        },
        "56f473f11a56486b84381b6f98105cb5": {
          "model_module": "@jupyter-widgets/base",
          "model_name": "LayoutModel",
          "model_module_version": "1.2.0",
          "state": {
            "_view_name": "LayoutView",
            "grid_template_rows": null,
            "right": null,
            "justify_content": null,
            "_view_module": "@jupyter-widgets/base",
            "overflow": null,
            "_model_module_version": "1.2.0",
            "_view_count": null,
            "flex_flow": null,
            "width": null,
            "min_width": null,
            "border": null,
            "align_items": null,
            "bottom": null,
            "_model_module": "@jupyter-widgets/base",
            "top": null,
            "grid_column": null,
            "overflow_y": null,
            "overflow_x": null,
            "grid_auto_flow": null,
            "grid_area": null,
            "grid_template_columns": null,
            "flex": null,
            "_model_name": "LayoutModel",
            "justify_items": null,
            "grid_row": null,
            "max_height": null,
            "align_content": null,
            "visibility": null,
            "align_self": null,
            "height": null,
            "min_height": null,
            "padding": null,
            "grid_auto_rows": null,
            "grid_gap": null,
            "max_width": null,
            "order": null,
            "_view_module_version": "1.2.0",
            "grid_template_areas": null,
            "object_position": null,
            "object_fit": null,
            "grid_auto_columns": null,
            "margin": null,
            "display": null,
            "left": null
          }
        }
      }
    }
  },
  "cells": [
    {
      "cell_type": "markdown",
      "metadata": {
        "id": "view-in-github",
        "colab_type": "text"
      },
      "source": [
        "<a href=\"https://colab.research.google.com/github/keithferns98/ML_Models/blob/main/HyperparameterTuning.ipynb\" target=\"_parent\"><img src=\"https://colab.research.google.com/assets/colab-badge.svg\" alt=\"Open In Colab\"/></a>"
      ]
    },
    {
      "cell_type": "markdown",
      "metadata": {
        "id": "C2ZGggeez9ZN"
      },
      "source": [
        "All Techniques Of Hyper Parameter \n",
        "\n",
        "Optimization\n",
        "\n",
        "GridSearchCV\n",
        "\n",
        "RandomizedSearchCV\n",
        "\n",
        "Bayesian Optimization -Automate \n",
        "\n",
        "Hyperparameter Tuning (Hyperopt)\n",
        "\n",
        "Sequential Model Based Optimization(Tuning \n",
        "a scikit-learn estimator with skopt)\n",
        "\n",
        "Optuna- Automate Hyperparameter Tuning\n",
        "\n",
        "Genetic Algorithms (TPOT Classifier)"
      ]
    },
    {
      "cell_type": "code",
      "metadata": {
        "id": "od_ibqkk-Eps"
      },
      "source": [
        "import warnings\n",
        "warnings.filterwarnings('ignore')"
      ],
      "execution_count": 1,
      "outputs": []
    },
    {
      "cell_type": "code",
      "metadata": {
        "colab": {
          "base_uri": "https://localhost:8080/",
          "height": 222
        },
        "id": "fxM9SQAl-G4E",
        "outputId": "7cf5760e-1046-4698-e27a-6d89fac4f893"
      },
      "source": [
        "import pandas as pd\n",
        "df=pd.read_csv('diabetes.csv')\n",
        "df.head()"
      ],
      "execution_count": 2,
      "outputs": [
        {
          "output_type": "execute_result",
          "data": {
            "text/html": [
              "<div>\n",
              "<style scoped>\n",
              "    .dataframe tbody tr th:only-of-type {\n",
              "        vertical-align: middle;\n",
              "    }\n",
              "\n",
              "    .dataframe tbody tr th {\n",
              "        vertical-align: top;\n",
              "    }\n",
              "\n",
              "    .dataframe thead th {\n",
              "        text-align: right;\n",
              "    }\n",
              "</style>\n",
              "<table border=\"1\" class=\"dataframe\">\n",
              "  <thead>\n",
              "    <tr style=\"text-align: right;\">\n",
              "      <th></th>\n",
              "      <th>Pregnancies</th>\n",
              "      <th>Glucose</th>\n",
              "      <th>BloodPressure</th>\n",
              "      <th>SkinThickness</th>\n",
              "      <th>Insulin</th>\n",
              "      <th>BMI</th>\n",
              "      <th>DiabetesPedigreeFunction</th>\n",
              "      <th>Age</th>\n",
              "      <th>Outcome</th>\n",
              "    </tr>\n",
              "  </thead>\n",
              "  <tbody>\n",
              "    <tr>\n",
              "      <th>0</th>\n",
              "      <td>6</td>\n",
              "      <td>148</td>\n",
              "      <td>72</td>\n",
              "      <td>35</td>\n",
              "      <td>0</td>\n",
              "      <td>33.6</td>\n",
              "      <td>0.627</td>\n",
              "      <td>50</td>\n",
              "      <td>1</td>\n",
              "    </tr>\n",
              "    <tr>\n",
              "      <th>1</th>\n",
              "      <td>1</td>\n",
              "      <td>85</td>\n",
              "      <td>66</td>\n",
              "      <td>29</td>\n",
              "      <td>0</td>\n",
              "      <td>26.6</td>\n",
              "      <td>0.351</td>\n",
              "      <td>31</td>\n",
              "      <td>0</td>\n",
              "    </tr>\n",
              "    <tr>\n",
              "      <th>2</th>\n",
              "      <td>8</td>\n",
              "      <td>183</td>\n",
              "      <td>64</td>\n",
              "      <td>0</td>\n",
              "      <td>0</td>\n",
              "      <td>23.3</td>\n",
              "      <td>0.672</td>\n",
              "      <td>32</td>\n",
              "      <td>1</td>\n",
              "    </tr>\n",
              "    <tr>\n",
              "      <th>3</th>\n",
              "      <td>1</td>\n",
              "      <td>89</td>\n",
              "      <td>66</td>\n",
              "      <td>23</td>\n",
              "      <td>94</td>\n",
              "      <td>28.1</td>\n",
              "      <td>0.167</td>\n",
              "      <td>21</td>\n",
              "      <td>0</td>\n",
              "    </tr>\n",
              "    <tr>\n",
              "      <th>4</th>\n",
              "      <td>0</td>\n",
              "      <td>137</td>\n",
              "      <td>40</td>\n",
              "      <td>35</td>\n",
              "      <td>168</td>\n",
              "      <td>43.1</td>\n",
              "      <td>2.288</td>\n",
              "      <td>33</td>\n",
              "      <td>1</td>\n",
              "    </tr>\n",
              "  </tbody>\n",
              "</table>\n",
              "</div>"
            ],
            "text/plain": [
              "   Pregnancies  Glucose  BloodPressure  ...  DiabetesPedigreeFunction  Age  Outcome\n",
              "0            6      148             72  ...                     0.627   50        1\n",
              "1            1       85             66  ...                     0.351   31        0\n",
              "2            8      183             64  ...                     0.672   32        1\n",
              "3            1       89             66  ...                     0.167   21        0\n",
              "4            0      137             40  ...                     2.288   33        1\n",
              "\n",
              "[5 rows x 9 columns]"
            ]
          },
          "metadata": {},
          "execution_count": 2
        }
      ]
    },
    {
      "cell_type": "code",
      "metadata": {
        "colab": {
          "base_uri": "https://localhost:8080/"
        },
        "id": "rHW4nb1q-KX0",
        "outputId": "554e23fb-657e-40b5-96ab-393b097745fc"
      },
      "source": [
        "df.shape"
      ],
      "execution_count": 3,
      "outputs": [
        {
          "output_type": "execute_result",
          "data": {
            "text/plain": [
              "(768, 9)"
            ]
          },
          "metadata": {},
          "execution_count": 3
        }
      ]
    },
    {
      "cell_type": "code",
      "metadata": {
        "colab": {
          "base_uri": "https://localhost:8080/",
          "height": 222
        },
        "id": "umwXSNmW-LBw",
        "outputId": "822fcffd-3e35-45a4-f702-ba02d834ebd6"
      },
      "source": [
        "df.tail()"
      ],
      "execution_count": 4,
      "outputs": [
        {
          "output_type": "execute_result",
          "data": {
            "text/html": [
              "<div>\n",
              "<style scoped>\n",
              "    .dataframe tbody tr th:only-of-type {\n",
              "        vertical-align: middle;\n",
              "    }\n",
              "\n",
              "    .dataframe tbody tr th {\n",
              "        vertical-align: top;\n",
              "    }\n",
              "\n",
              "    .dataframe thead th {\n",
              "        text-align: right;\n",
              "    }\n",
              "</style>\n",
              "<table border=\"1\" class=\"dataframe\">\n",
              "  <thead>\n",
              "    <tr style=\"text-align: right;\">\n",
              "      <th></th>\n",
              "      <th>Pregnancies</th>\n",
              "      <th>Glucose</th>\n",
              "      <th>BloodPressure</th>\n",
              "      <th>SkinThickness</th>\n",
              "      <th>Insulin</th>\n",
              "      <th>BMI</th>\n",
              "      <th>DiabetesPedigreeFunction</th>\n",
              "      <th>Age</th>\n",
              "      <th>Outcome</th>\n",
              "    </tr>\n",
              "  </thead>\n",
              "  <tbody>\n",
              "    <tr>\n",
              "      <th>763</th>\n",
              "      <td>10</td>\n",
              "      <td>101</td>\n",
              "      <td>76</td>\n",
              "      <td>48</td>\n",
              "      <td>180</td>\n",
              "      <td>32.9</td>\n",
              "      <td>0.171</td>\n",
              "      <td>63</td>\n",
              "      <td>0</td>\n",
              "    </tr>\n",
              "    <tr>\n",
              "      <th>764</th>\n",
              "      <td>2</td>\n",
              "      <td>122</td>\n",
              "      <td>70</td>\n",
              "      <td>27</td>\n",
              "      <td>0</td>\n",
              "      <td>36.8</td>\n",
              "      <td>0.340</td>\n",
              "      <td>27</td>\n",
              "      <td>0</td>\n",
              "    </tr>\n",
              "    <tr>\n",
              "      <th>765</th>\n",
              "      <td>5</td>\n",
              "      <td>121</td>\n",
              "      <td>72</td>\n",
              "      <td>23</td>\n",
              "      <td>112</td>\n",
              "      <td>26.2</td>\n",
              "      <td>0.245</td>\n",
              "      <td>30</td>\n",
              "      <td>0</td>\n",
              "    </tr>\n",
              "    <tr>\n",
              "      <th>766</th>\n",
              "      <td>1</td>\n",
              "      <td>126</td>\n",
              "      <td>60</td>\n",
              "      <td>0</td>\n",
              "      <td>0</td>\n",
              "      <td>30.1</td>\n",
              "      <td>0.349</td>\n",
              "      <td>47</td>\n",
              "      <td>1</td>\n",
              "    </tr>\n",
              "    <tr>\n",
              "      <th>767</th>\n",
              "      <td>1</td>\n",
              "      <td>93</td>\n",
              "      <td>70</td>\n",
              "      <td>31</td>\n",
              "      <td>0</td>\n",
              "      <td>30.4</td>\n",
              "      <td>0.315</td>\n",
              "      <td>23</td>\n",
              "      <td>0</td>\n",
              "    </tr>\n",
              "  </tbody>\n",
              "</table>\n",
              "</div>"
            ],
            "text/plain": [
              "     Pregnancies  Glucose  ...  Age  Outcome\n",
              "763           10      101  ...   63        0\n",
              "764            2      122  ...   27        0\n",
              "765            5      121  ...   30        0\n",
              "766            1      126  ...   47        1\n",
              "767            1       93  ...   23        0\n",
              "\n",
              "[5 rows x 9 columns]"
            ]
          },
          "metadata": {},
          "execution_count": 4
        }
      ]
    },
    {
      "cell_type": "code",
      "metadata": {
        "id": "r3ckYnkI-M2z"
      },
      "source": [
        "#df=df.dropna()"
      ],
      "execution_count": 5,
      "outputs": []
    },
    {
      "cell_type": "code",
      "metadata": {
        "id": "VSi30i_v-WwG"
      },
      "source": [
        "#df"
      ],
      "execution_count": 6,
      "outputs": []
    },
    {
      "cell_type": "code",
      "metadata": {
        "colab": {
          "base_uri": "https://localhost:8080/",
          "height": 222
        },
        "id": "DGqsxYJK-Xam",
        "outputId": "b5e4435b-72fc-4cd1-c942-d7b40a12d8df"
      },
      "source": [
        "import numpy as np\n",
        "df['Glucose']=np.where(df['Glucose']==0,df['Glucose'].median(),df['Glucose'])\n",
        "df['Insulin']=np.where(df['Insulin']==0,df['Insulin'].median(),df['Insulin'])\n",
        "df['SkinThickness']=np.where(df['SkinThickness']==0,df['SkinThickness'].median(),df['SkinThickness'])\n",
        "df.head()"
      ],
      "execution_count": 7,
      "outputs": [
        {
          "output_type": "execute_result",
          "data": {
            "text/html": [
              "<div>\n",
              "<style scoped>\n",
              "    .dataframe tbody tr th:only-of-type {\n",
              "        vertical-align: middle;\n",
              "    }\n",
              "\n",
              "    .dataframe tbody tr th {\n",
              "        vertical-align: top;\n",
              "    }\n",
              "\n",
              "    .dataframe thead th {\n",
              "        text-align: right;\n",
              "    }\n",
              "</style>\n",
              "<table border=\"1\" class=\"dataframe\">\n",
              "  <thead>\n",
              "    <tr style=\"text-align: right;\">\n",
              "      <th></th>\n",
              "      <th>Pregnancies</th>\n",
              "      <th>Glucose</th>\n",
              "      <th>BloodPressure</th>\n",
              "      <th>SkinThickness</th>\n",
              "      <th>Insulin</th>\n",
              "      <th>BMI</th>\n",
              "      <th>DiabetesPedigreeFunction</th>\n",
              "      <th>Age</th>\n",
              "      <th>Outcome</th>\n",
              "    </tr>\n",
              "  </thead>\n",
              "  <tbody>\n",
              "    <tr>\n",
              "      <th>0</th>\n",
              "      <td>6</td>\n",
              "      <td>148.0</td>\n",
              "      <td>72</td>\n",
              "      <td>35.0</td>\n",
              "      <td>30.5</td>\n",
              "      <td>33.6</td>\n",
              "      <td>0.627</td>\n",
              "      <td>50</td>\n",
              "      <td>1</td>\n",
              "    </tr>\n",
              "    <tr>\n",
              "      <th>1</th>\n",
              "      <td>1</td>\n",
              "      <td>85.0</td>\n",
              "      <td>66</td>\n",
              "      <td>29.0</td>\n",
              "      <td>30.5</td>\n",
              "      <td>26.6</td>\n",
              "      <td>0.351</td>\n",
              "      <td>31</td>\n",
              "      <td>0</td>\n",
              "    </tr>\n",
              "    <tr>\n",
              "      <th>2</th>\n",
              "      <td>8</td>\n",
              "      <td>183.0</td>\n",
              "      <td>64</td>\n",
              "      <td>23.0</td>\n",
              "      <td>30.5</td>\n",
              "      <td>23.3</td>\n",
              "      <td>0.672</td>\n",
              "      <td>32</td>\n",
              "      <td>1</td>\n",
              "    </tr>\n",
              "    <tr>\n",
              "      <th>3</th>\n",
              "      <td>1</td>\n",
              "      <td>89.0</td>\n",
              "      <td>66</td>\n",
              "      <td>23.0</td>\n",
              "      <td>94.0</td>\n",
              "      <td>28.1</td>\n",
              "      <td>0.167</td>\n",
              "      <td>21</td>\n",
              "      <td>0</td>\n",
              "    </tr>\n",
              "    <tr>\n",
              "      <th>4</th>\n",
              "      <td>0</td>\n",
              "      <td>137.0</td>\n",
              "      <td>40</td>\n",
              "      <td>35.0</td>\n",
              "      <td>168.0</td>\n",
              "      <td>43.1</td>\n",
              "      <td>2.288</td>\n",
              "      <td>33</td>\n",
              "      <td>1</td>\n",
              "    </tr>\n",
              "  </tbody>\n",
              "</table>\n",
              "</div>"
            ],
            "text/plain": [
              "   Pregnancies  Glucose  BloodPressure  ...  DiabetesPedigreeFunction  Age  Outcome\n",
              "0            6    148.0             72  ...                     0.627   50        1\n",
              "1            1     85.0             66  ...                     0.351   31        0\n",
              "2            8    183.0             64  ...                     0.672   32        1\n",
              "3            1     89.0             66  ...                     0.167   21        0\n",
              "4            0    137.0             40  ...                     2.288   33        1\n",
              "\n",
              "[5 rows x 9 columns]"
            ]
          },
          "metadata": {},
          "execution_count": 7
        }
      ]
    },
    {
      "cell_type": "code",
      "metadata": {
        "id": "Y-q_nd2K-gtv"
      },
      "source": [
        "X=df.drop('Outcome',axis=1)\n",
        "y=df['Outcome']"
      ],
      "execution_count": 8,
      "outputs": []
    },
    {
      "cell_type": "code",
      "metadata": {
        "colab": {
          "base_uri": "https://localhost:8080/"
        },
        "id": "G3ZLWULe-sNc",
        "outputId": "c1c575bc-6c2b-4c2a-8c56-8dfebdb50e20"
      },
      "source": [
        "X.shape,y.shape"
      ],
      "execution_count": 9,
      "outputs": [
        {
          "output_type": "execute_result",
          "data": {
            "text/plain": [
              "((768, 8), (768,))"
            ]
          },
          "metadata": {},
          "execution_count": 9
        }
      ]
    },
    {
      "cell_type": "code",
      "metadata": {
        "colab": {
          "base_uri": "https://localhost:8080/"
        },
        "id": "kLD9QNseT4hF",
        "outputId": "a1d23e34-7ab4-4ca0-9bdb-afee50372a7d"
      },
      "source": [
        "\n",
        "#### Train Test Split\n",
        "from sklearn.model_selection import train_test_split\n",
        "X_train,X_test,y_train,y_test=train_test_split(X,y,test_size=0.20,random_state=0)\n",
        "\n",
        "from sklearn.ensemble import RandomForestClassifier\n",
        "rf_classifier=RandomForestClassifier(n_estimators=10).fit(X_train,y_train)\n",
        "y_pred=rf_classifier.predict(X_test)\n",
        "y.value_counts()"
      ],
      "execution_count": 10,
      "outputs": [
        {
          "output_type": "execute_result",
          "data": {
            "text/plain": [
              "0    500\n",
              "1    268\n",
              "Name: Outcome, dtype: int64"
            ]
          },
          "metadata": {},
          "execution_count": 10
        }
      ]
    },
    {
      "cell_type": "code",
      "metadata": {
        "colab": {
          "base_uri": "https://localhost:8080/"
        },
        "id": "prhjuEGc_9rC",
        "outputId": "d401a613-40d4-4f76-9722-23d6ccb88ef1"
      },
      "source": [
        "y.value_counts()"
      ],
      "execution_count": 11,
      "outputs": [
        {
          "output_type": "execute_result",
          "data": {
            "text/plain": [
              "0    500\n",
              "1    268\n",
              "Name: Outcome, dtype: int64"
            ]
          },
          "metadata": {},
          "execution_count": 11
        }
      ]
    },
    {
      "cell_type": "code",
      "metadata": {
        "colab": {
          "base_uri": "https://localhost:8080/"
        },
        "id": "lxCrnGAMAH4p",
        "outputId": "a3b6fe99-496f-4438-bfb8-98b9c8d89f7c"
      },
      "source": [
        "from sklearn.metrics import accuracy_score,classification_report,confusion_matrix\n",
        "print(confusion_matrix(y_test,y_pred))\n",
        "print(accuracy_score(y_test,y_pred))\n",
        "print(classification_report(y_test,y_pred))"
      ],
      "execution_count": 12,
      "outputs": [
        {
          "output_type": "stream",
          "name": "stdout",
          "text": [
            "[[92 15]\n",
            " [19 28]]\n",
            "0.7792207792207793\n",
            "              precision    recall  f1-score   support\n",
            "\n",
            "           0       0.83      0.86      0.84       107\n",
            "           1       0.65      0.60      0.62        47\n",
            "\n",
            "    accuracy                           0.78       154\n",
            "   macro avg       0.74      0.73      0.73       154\n",
            "weighted avg       0.77      0.78      0.78       154\n",
            "\n"
          ]
        }
      ]
    },
    {
      "cell_type": "code",
      "metadata": {
        "colab": {
          "base_uri": "https://localhost:8080/"
        },
        "id": "CGdf7RQEF67k",
        "outputId": "343af0df-3ec9-4779-9b9c-b80d7ba414da"
      },
      "source": [
        "#Manual Hyperparameter Tuning\n",
        "\n",
        "model=RandomForestClassifier(n_estimators=300,criterion='entropy',max_features='sqrt',min_samples_leaf=10,random_state=100).fit(X_train,y_train)\n",
        "y_predmn=model.predict(X_test)\n",
        "print(accuracy_score(y_test,y_predmn))\n",
        "print(confusion_matrix(y_test,y_pred))\n",
        "print(classification_report(y_test,y_pred))"
      ],
      "execution_count": 13,
      "outputs": [
        {
          "output_type": "stream",
          "name": "stdout",
          "text": [
            "0.8246753246753247\n",
            "[[92 15]\n",
            " [19 28]]\n",
            "              precision    recall  f1-score   support\n",
            "\n",
            "           0       0.83      0.86      0.84       107\n",
            "           1       0.65      0.60      0.62        47\n",
            "\n",
            "    accuracy                           0.78       154\n",
            "   macro avg       0.74      0.73      0.73       154\n",
            "weighted avg       0.77      0.78      0.78       154\n",
            "\n"
          ]
        }
      ]
    },
    {
      "cell_type": "code",
      "metadata": {
        "colab": {
          "base_uri": "https://localhost:8080/"
        },
        "id": "4icVgBYRWRPL",
        "outputId": "e649dea2-37b0-41de-a44f-4bab0c2b3455"
      },
      "source": [
        "from sklearn.model_selection import RandomizedSearchCV\n",
        "n_estimators=[int(x) for x in np.linspace(start=200,stop=2000,num=10)]\n",
        "max_features=['auto','sqrt','log2']\n",
        "max_depth=[int(x) for x in np.linspace(10,1000,10)]\n",
        "min_samples_split=[1,2,3,4,5,7,9,10,14]\n",
        "min_samples_leaf=[1,2,4,6,8,5,7,9,10,12]\n",
        "random_grid={'n_estimators':n_estimators,\n",
        "             'max_features':max_features,\n",
        "             'max_depth':max_depth,\n",
        "             'min_samples_split':min_samples_split,\n",
        "             'min_samples_leaf':min_samples_leaf,\n",
        "             'criterion':['gini','entropy']\n",
        "             }\n",
        "print(random_grid)"
      ],
      "execution_count": 14,
      "outputs": [
        {
          "output_type": "stream",
          "name": "stdout",
          "text": [
            "{'n_estimators': [200, 400, 600, 800, 1000, 1200, 1400, 1600, 1800, 2000], 'max_features': ['auto', 'sqrt', 'log2'], 'max_depth': [10, 120, 230, 340, 450, 560, 670, 780, 890, 1000], 'min_samples_split': [1, 2, 3, 4, 5, 7, 9, 10, 14], 'min_samples_leaf': [1, 2, 4, 6, 8, 5, 7, 9, 10, 12], 'criterion': ['gini', 'entropy']}\n"
          ]
        }
      ]
    },
    {
      "cell_type": "code",
      "metadata": {
        "colab": {
          "base_uri": "https://localhost:8080/"
        },
        "id": "VsNYS6TVoNv2",
        "outputId": "2d0f041c-8ca3-4237-c83e-144677b0f84c"
      },
      "source": [
        "\n",
        "rf=RandomForestClassifier()\n",
        "rf_randomcv=RandomizedSearchCV(estimator=rf,param_distributions=random_grid,n_iter=100,\n",
        "                               cv=3,verbose=2,random_state=100,n_jobs=-1)\n",
        "rf_randomcv.fit(X_train,y_train)"
      ],
      "execution_count": 15,
      "outputs": [
        {
          "output_type": "stream",
          "name": "stdout",
          "text": [
            "Fitting 3 folds for each of 100 candidates, totalling 300 fits\n"
          ]
        },
        {
          "output_type": "stream",
          "name": "stderr",
          "text": [
            "[Parallel(n_jobs=-1)]: Using backend LokyBackend with 2 concurrent workers.\n",
            "[Parallel(n_jobs=-1)]: Done  37 tasks      | elapsed:   59.8s\n",
            "[Parallel(n_jobs=-1)]: Done 158 tasks      | elapsed:  3.9min\n",
            "[Parallel(n_jobs=-1)]: Done 300 out of 300 | elapsed:  7.0min finished\n"
          ]
        },
        {
          "output_type": "execute_result",
          "data": {
            "text/plain": [
              "RandomizedSearchCV(cv=3, error_score=nan,\n",
              "                   estimator=RandomForestClassifier(bootstrap=True,\n",
              "                                                    ccp_alpha=0.0,\n",
              "                                                    class_weight=None,\n",
              "                                                    criterion='gini',\n",
              "                                                    max_depth=None,\n",
              "                                                    max_features='auto',\n",
              "                                                    max_leaf_nodes=None,\n",
              "                                                    max_samples=None,\n",
              "                                                    min_impurity_decrease=0.0,\n",
              "                                                    min_impurity_split=None,\n",
              "                                                    min_samples_leaf=1,\n",
              "                                                    min_samples_split=2,\n",
              "                                                    min_weight_fraction_leaf=0.0,\n",
              "                                                    n_estimators=100,\n",
              "                                                    n_jobs...\n",
              "                   param_distributions={'criterion': ['gini', 'entropy'],\n",
              "                                        'max_depth': [10, 120, 230, 340, 450,\n",
              "                                                      560, 670, 780, 890,\n",
              "                                                      1000],\n",
              "                                        'max_features': ['auto', 'sqrt',\n",
              "                                                         'log2'],\n",
              "                                        'min_samples_leaf': [1, 2, 4, 6, 8, 5,\n",
              "                                                             7, 9, 10, 12],\n",
              "                                        'min_samples_split': [1, 2, 3, 4, 5, 7,\n",
              "                                                              9, 10, 14],\n",
              "                                        'n_estimators': [200, 400, 600, 800,\n",
              "                                                         1000, 1200, 1400, 1600,\n",
              "                                                         1800, 2000]},\n",
              "                   pre_dispatch='2*n_jobs', random_state=100, refit=True,\n",
              "                   return_train_score=False, scoring=None, verbose=2)"
            ]
          },
          "metadata": {},
          "execution_count": 15
        }
      ]
    },
    {
      "cell_type": "code",
      "metadata": {
        "colab": {
          "base_uri": "https://localhost:8080/"
        },
        "id": "HW-SNwO5ra3d",
        "outputId": "9b50af9a-0557-4bcd-b341-71af9a12d971"
      },
      "source": [
        "rf_randomcv.best_params_ "
      ],
      "execution_count": 16,
      "outputs": [
        {
          "output_type": "execute_result",
          "data": {
            "text/plain": [
              "{'criterion': 'gini',\n",
              " 'max_depth': 340,\n",
              " 'max_features': 'sqrt',\n",
              " 'min_samples_leaf': 10,\n",
              " 'min_samples_split': 3,\n",
              " 'n_estimators': 400}"
            ]
          },
          "metadata": {},
          "execution_count": 16
        }
      ]
    },
    {
      "cell_type": "code",
      "metadata": {
        "id": "ckWuNFTpsWpj"
      },
      "source": [
        "best_random_grid=rf_randomcv.best_estimator_"
      ],
      "execution_count": 17,
      "outputs": []
    },
    {
      "cell_type": "code",
      "metadata": {
        "colab": {
          "base_uri": "https://localhost:8080/"
        },
        "id": "nuDHW1wbuI4b",
        "outputId": "a33b7a74-e58c-4f95-8cd6-3fd6ad5fb0a6"
      },
      "source": [
        "y_pred_rf=best_random_grid.predict(X_test)\n",
        "print(accuracy_score(y_test,y_pred_rf))\n",
        "print(confusion_matrix(y_test,y_pred_rf))\n",
        "print(classification_report(y_test,y_pred))"
      ],
      "execution_count": 18,
      "outputs": [
        {
          "output_type": "stream",
          "name": "stdout",
          "text": [
            "0.8246753246753247\n",
            "[[97 10]\n",
            " [17 30]]\n",
            "              precision    recall  f1-score   support\n",
            "\n",
            "           0       0.83      0.86      0.84       107\n",
            "           1       0.65      0.60      0.62        47\n",
            "\n",
            "    accuracy                           0.78       154\n",
            "   macro avg       0.74      0.73      0.73       154\n",
            "weighted avg       0.77      0.78      0.78       154\n",
            "\n"
          ]
        }
      ]
    },
    {
      "cell_type": "markdown",
      "metadata": {
        "id": "_aJ3oQX4u2Yd"
      },
      "source": [
        "GridSearchCV"
      ]
    },
    {
      "cell_type": "code",
      "metadata": {
        "colab": {
          "base_uri": "https://localhost:8080/"
        },
        "id": "lM0NLiY3vJ4o",
        "outputId": "980d45fb-7f02-4457-a0ae-095ff6ba1153"
      },
      "source": [
        "rf_randomcv.best_params_"
      ],
      "execution_count": 19,
      "outputs": [
        {
          "output_type": "execute_result",
          "data": {
            "text/plain": [
              "{'criterion': 'gini',\n",
              " 'max_depth': 340,\n",
              " 'max_features': 'sqrt',\n",
              " 'min_samples_leaf': 10,\n",
              " 'min_samples_split': 3,\n",
              " 'n_estimators': 400}"
            ]
          },
          "metadata": {},
          "execution_count": 19
        }
      ]
    },
    {
      "cell_type": "code",
      "metadata": {
        "colab": {
          "base_uri": "https://localhost:8080/"
        },
        "id": "rcAlTnDdvTea",
        "outputId": "e21d25f0-e196-4c3d-df70-f6e1fea672bc"
      },
      "source": [
        "from sklearn.model_selection import GridSearchCV\n",
        "param_grid={\n",
        "    'criterion':[rf_randomcv.best_params_['criterion']],\n",
        "    'max_depth':[rf_randomcv.best_params_['max_depth']],\n",
        "    'max_features':[rf_randomcv.best_params_['max_features']],\n",
        "    'min_samples_leaf':[rf_randomcv.best_params_['min_samples_leaf'],\n",
        "                       rf_randomcv.best_params_['min_samples_leaf']+2,\n",
        "                       rf_randomcv.best_params_['min_samples_leaf']+4],\n",
        "    'n_estimators':[rf_randomcv.best_params_['n_estimators']-150,rf_randomcv.best_params_['n_estimators']-100,\n",
        "                    rf_randomcv.best_params_['n_estimators'],\n",
        "                    rf_randomcv.best_params_['n_estimators']+150 , rf_randomcv.best_params_['n_estimators']+100],\n",
        "\n",
        "    'min_samples_split':[rf_randomcv.best_params_['min_samples_split']-2,\n",
        "                         rf_randomcv.best_params_['min_samples_split']-1,\n",
        "                         rf_randomcv.best_params_['min_samples_split'],\n",
        "                         rf_randomcv.best_params_['min_samples_split']+1,\n",
        "                         rf_randomcv.best_params_['min_samples_split']+2]\n",
        "             \n",
        "}\n",
        "print(param_grid)"
      ],
      "execution_count": 20,
      "outputs": [
        {
          "output_type": "stream",
          "name": "stdout",
          "text": [
            "{'criterion': ['gini'], 'max_depth': [340], 'max_features': ['sqrt'], 'min_samples_leaf': [10, 12, 14], 'n_estimators': [250, 300, 400, 550, 500], 'min_samples_split': [1, 2, 3, 4, 5]}\n"
          ]
        }
      ]
    },
    {
      "cell_type": "code",
      "metadata": {
        "colab": {
          "base_uri": "https://localhost:8080/"
        },
        "id": "AuuraMTnJnOn",
        "outputId": "133b3c54-4bdd-4de4-adfe-d60fe332933e"
      },
      "source": [
        "rf_grid=RandomForestClassifier()\n",
        "grid_search=GridSearchCV(estimator=rf,param_grid=param_grid,cv=10,n_jobs=-1,verbose=2)\n",
        "grid_search.fit(X_train,y_train)"
      ],
      "execution_count": 21,
      "outputs": [
        {
          "output_type": "stream",
          "name": "stdout",
          "text": [
            "Fitting 10 folds for each of 75 candidates, totalling 750 fits\n"
          ]
        },
        {
          "output_type": "stream",
          "name": "stderr",
          "text": [
            "[Parallel(n_jobs=-1)]: Using backend LokyBackend with 2 concurrent workers.\n",
            "[Parallel(n_jobs=-1)]: Done  37 tasks      | elapsed:    5.9s\n",
            "[Parallel(n_jobs=-1)]: Done 158 tasks      | elapsed:  1.2min\n",
            "[Parallel(n_jobs=-1)]: Done 361 tasks      | elapsed:  2.8min\n",
            "[Parallel(n_jobs=-1)]: Done 644 tasks      | elapsed:  5.1min\n",
            "[Parallel(n_jobs=-1)]: Done 750 out of 750 | elapsed:  6.1min finished\n"
          ]
        },
        {
          "output_type": "execute_result",
          "data": {
            "text/plain": [
              "GridSearchCV(cv=10, error_score=nan,\n",
              "             estimator=RandomForestClassifier(bootstrap=True, ccp_alpha=0.0,\n",
              "                                              class_weight=None,\n",
              "                                              criterion='gini', max_depth=None,\n",
              "                                              max_features='auto',\n",
              "                                              max_leaf_nodes=None,\n",
              "                                              max_samples=None,\n",
              "                                              min_impurity_decrease=0.0,\n",
              "                                              min_impurity_split=None,\n",
              "                                              min_samples_leaf=1,\n",
              "                                              min_samples_split=2,\n",
              "                                              min_weight_fraction_leaf=0.0,\n",
              "                                              n_estimators=100, n_jobs=None,\n",
              "                                              oob_score=False,\n",
              "                                              random_state=None, verbose=0,\n",
              "                                              warm_start=False),\n",
              "             iid='deprecated', n_jobs=-1,\n",
              "             param_grid={'criterion': ['gini'], 'max_depth': [340],\n",
              "                         'max_features': ['sqrt'],\n",
              "                         'min_samples_leaf': [10, 12, 14],\n",
              "                         'min_samples_split': [1, 2, 3, 4, 5],\n",
              "                         'n_estimators': [250, 300, 400, 550, 500]},\n",
              "             pre_dispatch='2*n_jobs', refit=True, return_train_score=False,\n",
              "             scoring=None, verbose=2)"
            ]
          },
          "metadata": {},
          "execution_count": 21
        }
      ]
    },
    {
      "cell_type": "code",
      "metadata": {
        "id": "bv9rHt61K9if"
      },
      "source": [
        "best_pred=grid_search.best_estimator_"
      ],
      "execution_count": 22,
      "outputs": []
    },
    {
      "cell_type": "code",
      "metadata": {
        "colab": {
          "base_uri": "https://localhost:8080/"
        },
        "id": "sAXaHI-dMC63",
        "outputId": "43ce543f-d2ed-4a3c-fd88-241a12809cfb"
      },
      "source": [
        "grid_search.best_params_"
      ],
      "execution_count": 23,
      "outputs": [
        {
          "output_type": "execute_result",
          "data": {
            "text/plain": [
              "{'criterion': 'gini',\n",
              " 'max_depth': 340,\n",
              " 'max_features': 'sqrt',\n",
              " 'min_samples_leaf': 14,\n",
              " 'min_samples_split': 2,\n",
              " 'n_estimators': 300}"
            ]
          },
          "metadata": {},
          "execution_count": 23
        }
      ]
    },
    {
      "cell_type": "code",
      "metadata": {
        "colab": {
          "base_uri": "https://localhost:8080/"
        },
        "id": "KuctPVURMHut",
        "outputId": "0ddb937c-31a7-4e17-877f-7204cbf8b7c3"
      },
      "source": [
        "y_pred_grid=best_pred.predict(X_test)\n",
        "print(accuracy_score(y_test,y_pred_grid))\n",
        "print(confusion_matrix(y_test,y_pred_grid))\n",
        "print(classification_report(y_test,y_pred_grid))"
      ],
      "execution_count": 24,
      "outputs": [
        {
          "output_type": "stream",
          "name": "stdout",
          "text": [
            "0.8181818181818182\n",
            "[[97 10]\n",
            " [18 29]]\n",
            "              precision    recall  f1-score   support\n",
            "\n",
            "           0       0.84      0.91      0.87       107\n",
            "           1       0.74      0.62      0.67        47\n",
            "\n",
            "    accuracy                           0.82       154\n",
            "   macro avg       0.79      0.76      0.77       154\n",
            "weighted avg       0.81      0.82      0.81       154\n",
            "\n"
          ]
        }
      ]
    },
    {
      "cell_type": "markdown",
      "metadata": {
        "id": "zqHPivkrOIWr"
      },
      "source": [
        "Automated Hyperparameter Tuning can be done by using techniques such as\n",
        "\n",
        "Bayesian Optimization\n",
        "\n",
        "Gradient Descent\n",
        "\n",
        "Evolutionary AlgorithmsAutomated Hyperparamter \n",
        "\n",
        "Tuning"
      ]
    },
    {
      "cell_type": "markdown",
      "metadata": {
        "id": "VoF-gI09Orsu"
      },
      "source": [
        "1. Bayesian Optimization\n",
        "Bayesian optimization uses probability to find the minimum of a function. The final aim is to find the input value to a function which can gives us the lowest possible output value.It usually performs better than random,grid and manual search providing better performance in the testing phase and reduced optimization time. In Hyperopt, Bayesian Optimization can be implemented giving 3 three main parameters to the function fmin.\n",
        "\n",
        "Objective Function = defines the loss function to minimize.\n",
        "\n",
        "Domain Space = defines the range of input values to test (in Bayesian Optimization this space creates a probability distribution for each of the used Hyperparameters).\n",
        "\n",
        "Optimization Algorithm = defines the search algorithm to use to select the best input values to use in each new iteration"
      ]
    },
    {
      "cell_type": "code",
      "metadata": {
        "id": "qNpcXHn4PCim"
      },
      "source": [
        "from hyperopt import hp,fmin,tpe,STATUS_OK,Trials \n"
      ],
      "execution_count": 25,
      "outputs": []
    },
    {
      "cell_type": "code",
      "metadata": {
        "id": "0cGJDcqdbOKo"
      },
      "source": [
        "space={'criterion':hp.choice('criterion', ['entropy','gini']),\n",
        "       'max_depth':hp.quniform('max_depth',10,1200,10), #prints 10 nos between 10-1200\n",
        "       'max_features':hp.choice('max_features',['auto','log2','sqrt',None]),\n",
        "       'min_samples_leaf':hp.uniform('min_samples_leaf',0,0.5),\n",
        "       'min_samples_split':hp.uniform('min_samples_split',0,1),\n",
        "       'n_estimators':hp.choice('n_estimators',[10,50,300,750,1200,1300,1500])\n",
        "       }"
      ],
      "execution_count": 26,
      "outputs": []
    },
    {
      "cell_type": "code",
      "metadata": {
        "id": "jgM1IV54nLN1",
        "outputId": "c6bd590f-ad54-4fc7-e823-69989acad84b",
        "colab": {
          "base_uri": "https://localhost:8080/"
        }
      },
      "source": [
        "space"
      ],
      "execution_count": 27,
      "outputs": [
        {
          "output_type": "execute_result",
          "data": {
            "text/plain": [
              "{'criterion': <hyperopt.pyll.base.Apply at 0x7fa945d54fd0>,\n",
              " 'max_depth': <hyperopt.pyll.base.Apply at 0x7fa945d543d0>,\n",
              " 'max_features': <hyperopt.pyll.base.Apply at 0x7fa945d54490>,\n",
              " 'min_samples_leaf': <hyperopt.pyll.base.Apply at 0x7fa945d542d0>,\n",
              " 'min_samples_split': <hyperopt.pyll.base.Apply at 0x7fa945d54d10>,\n",
              " 'n_estimators': <hyperopt.pyll.base.Apply at 0x7fa945d54610>}"
            ]
          },
          "metadata": {},
          "execution_count": 27
        }
      ]
    },
    {
      "cell_type": "code",
      "metadata": {
        "id": "IcbqwC59nMcr",
        "outputId": "782a4709-5e72-4999-d6b3-664c6546e816",
        "colab": {
          "base_uri": "https://localhost:8080/"
        }
      },
      "source": [
        "space['criterion']"
      ],
      "execution_count": 30,
      "outputs": [
        {
          "output_type": "execute_result",
          "data": {
            "text/plain": [
              "<hyperopt.pyll.base.Apply at 0x7fa945d54fd0>"
            ]
          },
          "metadata": {},
          "execution_count": 30
        }
      ]
    },
    {
      "cell_type": "code",
      "metadata": {
        "id": "TLhVWwYfnSFl"
      },
      "source": [
        "def objective(space):\n",
        "  model=RandomForestClassifier(criterion=space['criterion'],max_depth=space['max_depth'],\n",
        "                              max_features=space['max_features'],min_samples_leaf=space['min_samples_leaf'],\n",
        "                              min_samples_split=space['min_samples_split'],n_estimators=space['n_estimators'])\n",
        "  accuracy_hp=cross_val_score(model,X_train,y_train,cv=5).mean()\n",
        "  return{'loss':-accuracy_hp,'status':STATUS_OK}"
      ],
      "execution_count": 34,
      "outputs": []
    },
    {
      "cell_type": "code",
      "metadata": {
        "id": "nza39gbApbWt",
        "outputId": "af5fe20b-ba0c-4f7c-91d3-3fee2e374bab",
        "colab": {
          "base_uri": "https://localhost:8080/"
        }
      },
      "source": [
        "from sklearn.model_selection import cross_val_score\n",
        "trials=Trials()\n",
        "best=fmin(fn=objective,space=space,algo=tpe.suggest,max_evals=100,trials=trials)\n",
        "best"
      ],
      "execution_count": 35,
      "outputs": [
        {
          "output_type": "stream",
          "name": "stdout",
          "text": [
            "100%|██████████| 100/100 [11:20<00:00,  6.81s/it, best loss: -0.767093162734906]\n"
          ]
        },
        {
          "output_type": "execute_result",
          "data": {
            "text/plain": [
              "{'criterion': 0,\n",
              " 'max_depth': 940.0,\n",
              " 'max_features': 1,\n",
              " 'min_samples_leaf': 0.10439495227344749,\n",
              " 'min_samples_split': 0.007334894862042279,\n",
              " 'n_estimators': 4}"
            ]
          },
          "metadata": {},
          "execution_count": 35
        }
      ]
    },
    {
      "cell_type": "code",
      "metadata": {
        "id": "9EEZf3r-qXp9",
        "outputId": "f3ff7576-6545-4907-99c4-3e465899f15a",
        "colab": {
          "base_uri": "https://localhost:8080/"
        }
      },
      "source": [
        "\n",
        "crit = {0: 'entropy', 1: 'gini'}\n",
        "feat = {0: 'auto', 1: 'sqrt', 2: 'log2', 3: None}\n",
        "est = {0: 10, 1: 50, 2: 300, 3: 750, 4: 1200,5:1300,6:1500}\n",
        "\n",
        "\n",
        "print(crit[best['criterion']])\n",
        "print(feat[best['max_features']])\n",
        "print(est[best['n_estimators']])"
      ],
      "execution_count": 36,
      "outputs": [
        {
          "output_type": "stream",
          "name": "stdout",
          "text": [
            "entropy\n",
            "sqrt\n",
            "1200\n"
          ]
        }
      ]
    },
    {
      "cell_type": "code",
      "metadata": {
        "id": "DyQjT3kEtH0p",
        "outputId": "59e59591-104b-4abd-c4c0-184e0792c32a",
        "colab": {
          "base_uri": "https://localhost:8080/"
        }
      },
      "source": [
        "trainedforest = RandomForestClassifier(criterion = crit[best['criterion']], max_depth = best['max_depth'], \n",
        "                                       max_features = feat[best['max_features']], \n",
        "                                       min_samples_leaf = 14, \n",
        "                                       min_samples_split = 2, \n",
        "                                       n_estimators = est[best['n_estimators']]).fit(X_train,y_train)\n",
        "predictionforest = trainedforest.predict(X_test)\n",
        "print(confusion_matrix(y_test,predictionforest))\n",
        "print(accuracy_score(y_test,predictionforest))\n",
        "print(classification_report(y_test,predictionforest))\n",
        "acc5 = accuracy_score(y_test,predictionforest)"
      ],
      "execution_count": 38,
      "outputs": [
        {
          "output_type": "stream",
          "name": "stdout",
          "text": [
            "[[98  9]\n",
            " [21 26]]\n",
            "0.8051948051948052\n",
            "              precision    recall  f1-score   support\n",
            "\n",
            "           0       0.82      0.92      0.87       107\n",
            "           1       0.74      0.55      0.63        47\n",
            "\n",
            "    accuracy                           0.81       154\n",
            "   macro avg       0.78      0.73      0.75       154\n",
            "weighted avg       0.80      0.81      0.80       154\n",
            "\n"
          ]
        }
      ]
    },
    {
      "cell_type": "markdown",
      "metadata": {
        "id": "P2khP3JdtRVa"
      },
      "source": [
        "Genetic Algorithm\n",
        "\n",
        "Genetic Algorithms tries to apply natural selection mechanisms to Machine Learning contexts.\n",
        "\n",
        "Let's immagine we create a population of N Machine Learning models with some predifined Hyperparameters. We can then calculate the accuracy of each model and decide to keep just half of the models (the ones that performs best). We can now generate some offsprings having similar Hyperparameters to the ones of the best models so that go get again a population of N models. At this point we can again caltulate the accuracy of each model and repeate the cycle for a defined number of generations. In this way, just the best models will survive at the end of the process."
      ]
    },
    {
      "cell_type": "code",
      "metadata": {
        "id": "R-04wQaJ59uv",
        "outputId": "40805f84-0cfd-425d-fc62-607e6d3d0dbf",
        "colab": {
          "base_uri": "https://localhost:8080/"
        }
      },
      "source": [
        "n_estimators=[int(x) for x in np.linspace(start=200,stop=2000,num=10)]\n",
        "max_features=['auto','sqrt','log2']\n",
        "min_samples_split=[2,5,10,14]\n",
        "max_depth=[int(x) for x in np.linspace(10,1000,10) ]\n",
        "min_samples_leaf=[1,2,4,6,8]\n",
        "param={'n_estimators':n_estimators,\n",
        "       'max_features':max_features,\n",
        "       'max_depth':max_depth,\n",
        "       'min_samples_leaf':min_samples_leaf,\n",
        "       'min_samples_split':min_samples_split\n",
        "    \n",
        "}\n",
        "print(param)"
      ],
      "execution_count": 42,
      "outputs": [
        {
          "output_type": "stream",
          "name": "stdout",
          "text": [
            "{'n_estimators': [200, 400, 600, 800, 1000, 1200, 1400, 1600, 1800, 2000], 'max_features': ['auto', 'sqrt', 'log2'], 'max_depth': [10, 120, 230, 340, 450, 560, 670, 780, 890, 1000], 'min_samples_leaf': [1, 2, 4, 6, 8], 'min_samples_split': [2, 5, 10, 14]}\n"
          ]
        }
      ]
    },
    {
      "cell_type": "code",
      "metadata": {
        "id": "2W0N4CSW-AuQ",
        "outputId": "728ab35d-baa9-4281-b1d1-e0ab6f2d35f9",
        "colab": {
          "base_uri": "https://localhost:8080/"
        }
      },
      "source": [
        "!pip install tpot\n"
      ],
      "execution_count": 44,
      "outputs": [
        {
          "output_type": "stream",
          "name": "stdout",
          "text": [
            "Collecting tpot\n",
            "  Downloading TPOT-0.11.7-py3-none-any.whl (87 kB)\n",
            "\u001b[?25l\r\u001b[K     |███▊                            | 10 kB 18.4 MB/s eta 0:00:01\r\u001b[K     |███████▌                        | 20 kB 21.4 MB/s eta 0:00:01\r\u001b[K     |███████████▎                    | 30 kB 17.0 MB/s eta 0:00:01\r\u001b[K     |███████████████                 | 40 kB 12.0 MB/s eta 0:00:01\r\u001b[K     |██████████████████▉             | 51 kB 9.1 MB/s eta 0:00:01\r\u001b[K     |██████████████████████▋         | 61 kB 9.3 MB/s eta 0:00:01\r\u001b[K     |██████████████████████████▎     | 71 kB 7.6 MB/s eta 0:00:01\r\u001b[K     |██████████████████████████████  | 81 kB 8.3 MB/s eta 0:00:01\r\u001b[K     |████████████████████████████████| 87 kB 2.7 MB/s \n",
            "\u001b[?25hRequirement already satisfied: tqdm>=4.36.1 in /usr/local/lib/python3.7/dist-packages (from tpot) (4.62.0)\n",
            "Requirement already satisfied: pandas>=0.24.2 in /usr/local/lib/python3.7/dist-packages (from tpot) (1.1.5)\n",
            "Collecting deap>=1.2\n",
            "  Downloading deap-1.3.1-cp37-cp37m-manylinux_2_5_x86_64.manylinux1_x86_64.manylinux_2_12_x86_64.manylinux2010_x86_64.whl (160 kB)\n",
            "\u001b[K     |████████████████████████████████| 160 kB 17.7 MB/s \n",
            "\u001b[?25hCollecting xgboost>=1.1.0\n",
            "  Downloading xgboost-1.4.2-py3-none-manylinux2010_x86_64.whl (166.7 MB)\n",
            "\u001b[K     |████████████████████████████████| 166.7 MB 5.7 kB/s \n",
            "\u001b[?25hCollecting stopit>=1.1.1\n",
            "  Downloading stopit-1.1.2.tar.gz (18 kB)\n",
            "Requirement already satisfied: scikit-learn>=0.22.0 in /usr/local/lib/python3.7/dist-packages (from tpot) (0.22.2.post1)\n",
            "Requirement already satisfied: joblib>=0.13.2 in /usr/local/lib/python3.7/dist-packages (from tpot) (1.0.1)\n",
            "Collecting update-checker>=0.16\n",
            "  Downloading update_checker-0.18.0-py3-none-any.whl (7.0 kB)\n",
            "Requirement already satisfied: scipy>=1.3.1 in /usr/local/lib/python3.7/dist-packages (from tpot) (1.4.1)\n",
            "Requirement already satisfied: numpy>=1.16.3 in /usr/local/lib/python3.7/dist-packages (from tpot) (1.19.5)\n",
            "Requirement already satisfied: python-dateutil>=2.7.3 in /usr/local/lib/python3.7/dist-packages (from pandas>=0.24.2->tpot) (2.8.2)\n",
            "Requirement already satisfied: pytz>=2017.2 in /usr/local/lib/python3.7/dist-packages (from pandas>=0.24.2->tpot) (2018.9)\n",
            "Requirement already satisfied: six>=1.5 in /usr/local/lib/python3.7/dist-packages (from python-dateutil>=2.7.3->pandas>=0.24.2->tpot) (1.15.0)\n",
            "Requirement already satisfied: requests>=2.3.0 in /usr/local/lib/python3.7/dist-packages (from update-checker>=0.16->tpot) (2.23.0)\n",
            "Requirement already satisfied: chardet<4,>=3.0.2 in /usr/local/lib/python3.7/dist-packages (from requests>=2.3.0->update-checker>=0.16->tpot) (3.0.4)\n",
            "Requirement already satisfied: urllib3!=1.25.0,!=1.25.1,<1.26,>=1.21.1 in /usr/local/lib/python3.7/dist-packages (from requests>=2.3.0->update-checker>=0.16->tpot) (1.24.3)\n",
            "Requirement already satisfied: certifi>=2017.4.17 in /usr/local/lib/python3.7/dist-packages (from requests>=2.3.0->update-checker>=0.16->tpot) (2021.5.30)\n",
            "Requirement already satisfied: idna<3,>=2.5 in /usr/local/lib/python3.7/dist-packages (from requests>=2.3.0->update-checker>=0.16->tpot) (2.10)\n",
            "Building wheels for collected packages: stopit\n",
            "  Building wheel for stopit (setup.py) ... \u001b[?25l\u001b[?25hdone\n",
            "  Created wheel for stopit: filename=stopit-1.1.2-py3-none-any.whl size=11952 sha256=3dce86fc05f5f206cc5fdfe9ad45d9206e5297c4b7ba9664560f86119467e6e0\n",
            "  Stored in directory: /root/.cache/pip/wheels/e2/d2/79/eaf81edb391e27c87f51b8ef901ecc85a5363dc96b8b8d71e3\n",
            "Successfully built stopit\n",
            "Installing collected packages: xgboost, update-checker, stopit, deap, tpot\n",
            "  Attempting uninstall: xgboost\n",
            "    Found existing installation: xgboost 0.90\n",
            "    Uninstalling xgboost-0.90:\n",
            "      Successfully uninstalled xgboost-0.90\n",
            "Successfully installed deap-1.3.1 stopit-1.1.2 tpot-0.11.7 update-checker-0.18.0 xgboost-1.4.2\n"
          ]
        }
      ]
    },
    {
      "cell_type": "code",
      "metadata": {
        "id": "aBJ8FbAl_NIq"
      },
      "source": [
        "from tpot import TPOTClassifier"
      ],
      "execution_count": null,
      "outputs": []
    },
    {
      "cell_type": "code",
      "metadata": {
        "id": "JELIAIxx98YD",
        "outputId": "b4e9ab09-86ea-43c2-d3c7-57d0440199af",
        "colab": {
          "base_uri": "https://localhost:8080/",
          "height": 943,
          "referenced_widgets": [
            "7ebdb96b0a2c4d8fbf9a3e8aca0d5050",
            "1e3c6be3de864ecc99e84a95bf9c89b6",
            "0a75c378807b42acb2d99adb5a53ebc6",
            "cd9eccbf06bb4c58af8a39f6ce708edb",
            "9defba22f8fa425ca127ad12b54aea9a",
            "97b31df442ca47cb9a394f6f4f0cdb95",
            "340f8c8915304318a0dd7f56d775a96c",
            "a93ab0139f97450c9cc61d2d5aa0eb6a",
            "ff23f00b080d4a6080cfce7fd10ef809",
            "91b0dbf6ab1645f8bea79cf7ce0a6655",
            "56f473f11a56486b84381b6f98105cb5"
          ]
        }
      },
      "source": [
        "tpot=TPOTClassifier(generations=5,population_size=24,offspring_size=12,\n",
        "                    verbosity=2,early_stop=12,\n",
        "                    config_dict={'sklearn.ensemble.RandomForestClassifier':param},\n",
        "                    cv=4,scoring='accuracy')\n",
        "tpot.fit(X_train,y_train)"
      ],
      "execution_count": 46,
      "outputs": [
        {
          "output_type": "display_data",
          "data": {
            "application/vnd.jupyter.widget-view+json": {
              "model_id": "7ebdb96b0a2c4d8fbf9a3e8aca0d5050",
              "version_minor": 0,
              "version_major": 2
            },
            "text/plain": [
              "Optimization Progress:   0%|          | 0/84 [00:00<?, ?pipeline/s]"
            ]
          },
          "metadata": {}
        },
        {
          "output_type": "stream",
          "name": "stdout",
          "text": [
            "\n",
            "Generation 1 - Current best internal CV score: 0.7589657074951193\n",
            "\n",
            "Generation 2 - Current best internal CV score: 0.7589657074951193\n",
            "\n",
            "Generation 3 - Current best internal CV score: 0.7589657074951193\n",
            "\n",
            "Generation 4 - Current best internal CV score: 0.7638358373652491\n",
            "\n",
            "Generation 5 - Current best internal CV score: 0.7638358373652491\n",
            "\n",
            "Best pipeline: RandomForestClassifier(RandomForestClassifier(input_matrix, max_depth=670, max_features=log2, min_samples_leaf=8, min_samples_split=14, n_estimators=1400), max_depth=1000, max_features=auto, min_samples_leaf=6, min_samples_split=2, n_estimators=1200)\n"
          ]
        },
        {
          "output_type": "execute_result",
          "data": {
            "text/plain": [
              "TPOTClassifier(config_dict={'sklearn.ensemble.RandomForestClassifier': {'max_depth': [10,\n",
              "                                                                                      120,\n",
              "                                                                                      230,\n",
              "                                                                                      340,\n",
              "                                                                                      450,\n",
              "                                                                                      560,\n",
              "                                                                                      670,\n",
              "                                                                                      780,\n",
              "                                                                                      890,\n",
              "                                                                                      1000],\n",
              "                                                                        'max_features': ['auto',\n",
              "                                                                                         'sqrt',\n",
              "                                                                                         'log2'],\n",
              "                                                                        'min_samples_leaf': [1,\n",
              "                                                                                             2,\n",
              "                                                                                             4,\n",
              "                                                                                             6,\n",
              "                                                                                             8],\n",
              "                                                                        'min_samples_split': [2,\n",
              "                                                                                              5,\n",
              "                                                                                              10,\n",
              "                                                                                              14],\n",
              "                                                                        'n_estimators': [200,\n",
              "                                                                                         400,\n",
              "                                                                                         600,\n",
              "                                                                                         800,\n",
              "                                                                                         1000,\n",
              "                                                                                         1200,\n",
              "                                                                                         1400,\n",
              "                                                                                         1600,\n",
              "                                                                                         1800,\n",
              "                                                                                         2000]}},\n",
              "               crossover_rate=0.1, cv=4, disable_update_check=False,\n",
              "               early_stop=12, generations=5, log_file=None,\n",
              "               max_eval_time_mins=5, max_time_mins=None, memory=None,\n",
              "               mutation_rate=0.9, n_jobs=1, offspring_size=12,\n",
              "               periodic_checkpoint_folder=None, population_size=24,\n",
              "               random_state=None, scoring='accuracy', subsample=1.0,\n",
              "               template=None, use_dask=False, verbosity=2, warm_start=False)"
            ]
          },
          "metadata": {},
          "execution_count": 46
        }
      ]
    },
    {
      "cell_type": "code",
      "metadata": {
        "id": "l-T4Sp1h-80_"
      },
      "source": [
        "accuracy_tpot=tpot.score(X_test,y_test)"
      ],
      "execution_count": 48,
      "outputs": []
    },
    {
      "cell_type": "code",
      "metadata": {
        "id": "93FvEHPHFo59",
        "outputId": "ca64ecca-cb3d-4fc2-cd19-4303ee1145b4",
        "colab": {
          "base_uri": "https://localhost:8080/"
        }
      },
      "source": [
        "accuracy_tpot"
      ],
      "execution_count": 49,
      "outputs": [
        {
          "output_type": "execute_result",
          "data": {
            "text/plain": [
              "0.8571428571428571"
            ]
          },
          "metadata": {},
          "execution_count": 49
        }
      ]
    },
    {
      "cell_type": "code",
      "metadata": {
        "id": "qv5ohnN_Fr9I",
        "outputId": "e01de13f-144f-45d0-ff78-857981cb0c6f",
        "colab": {
          "base_uri": "https://localhost:8080/"
        }
      },
      "source": [
        "tpot.get_params"
      ],
      "execution_count": 50,
      "outputs": [
        {
          "output_type": "execute_result",
          "data": {
            "text/plain": [
              "<bound method BaseEstimator.get_params of TPOTClassifier(config_dict={'sklearn.ensemble.RandomForestClassifier': {'max_depth': [10,\n",
              "                                                                                      120,\n",
              "                                                                                      230,\n",
              "                                                                                      340,\n",
              "                                                                                      450,\n",
              "                                                                                      560,\n",
              "                                                                                      670,\n",
              "                                                                                      780,\n",
              "                                                                                      890,\n",
              "                                                                                      1000],\n",
              "                                                                        'max_features': ['auto',\n",
              "                                                                                         'sqrt',\n",
              "                                                                                         'log2'],\n",
              "                                                                        'min_samples_leaf': [1,\n",
              "                                                                                             2,\n",
              "                                                                                             4,\n",
              "                                                                                             6,\n",
              "                                                                                             8],\n",
              "                                                                        'min_samples_split': [2,\n",
              "                                                                                              5,\n",
              "                                                                                              10,\n",
              "                                                                                              14],\n",
              "                                                                        'n_estimators': [200,\n",
              "                                                                                         400,\n",
              "                                                                                         600,\n",
              "                                                                                         800,\n",
              "                                                                                         1000,\n",
              "                                                                                         1200,\n",
              "                                                                                         1400,\n",
              "                                                                                         1600,\n",
              "                                                                                         1800,\n",
              "                                                                                         2000]}},\n",
              "               crossover_rate=0.1, cv=4, disable_update_check=False,\n",
              "               early_stop=12, generations=5, log_file=None,\n",
              "               max_eval_time_mins=5, max_time_mins=None, memory=None,\n",
              "               mutation_rate=0.9, n_jobs=1, offspring_size=12,\n",
              "               periodic_checkpoint_folder=None, population_size=24,\n",
              "               random_state=None, scoring='accuracy', subsample=1.0,\n",
              "               template=None, use_dask=False, verbosity=2, warm_start=False)>"
            ]
          },
          "metadata": {},
          "execution_count": 50
        }
      ]
    },
    {
      "cell_type": "code",
      "metadata": {
        "id": "cCH1Z1etJdae",
        "outputId": "c428b847-f322-43a8-dc1b-cae9e8d37394",
        "colab": {
          "base_uri": "https://localhost:8080/"
        }
      },
      "source": [
        "!pip install optuna"
      ],
      "execution_count": 52,
      "outputs": [
        {
          "output_type": "stream",
          "name": "stdout",
          "text": [
            "Collecting optuna\n",
            "  Downloading optuna-2.9.1-py3-none-any.whl (302 kB)\n",
            "\u001b[K     |████████████████████████████████| 302 kB 8.4 MB/s \n",
            "\u001b[?25hRequirement already satisfied: PyYAML in /usr/local/lib/python3.7/dist-packages (from optuna) (3.13)\n",
            "Requirement already satisfied: numpy in /usr/local/lib/python3.7/dist-packages (from optuna) (1.19.5)\n",
            "Requirement already satisfied: scipy!=1.4.0 in /usr/local/lib/python3.7/dist-packages (from optuna) (1.4.1)\n",
            "Requirement already satisfied: sqlalchemy>=1.1.0 in /usr/local/lib/python3.7/dist-packages (from optuna) (1.4.22)\n",
            "Collecting colorlog\n",
            "  Downloading colorlog-6.4.1-py2.py3-none-any.whl (11 kB)\n",
            "Collecting cliff\n",
            "  Downloading cliff-3.9.0-py3-none-any.whl (80 kB)\n",
            "\u001b[K     |████████████████████████████████| 80 kB 6.1 MB/s \n",
            "\u001b[?25hRequirement already satisfied: packaging>=20.0 in /usr/local/lib/python3.7/dist-packages (from optuna) (21.0)\n",
            "Requirement already satisfied: tqdm in /usr/local/lib/python3.7/dist-packages (from optuna) (4.62.0)\n",
            "Collecting alembic\n",
            "  Downloading alembic-1.7.1-py3-none-any.whl (208 kB)\n",
            "\u001b[K     |████████████████████████████████| 208 kB 43.5 MB/s \n",
            "\u001b[?25hCollecting cmaes>=0.8.2\n",
            "  Downloading cmaes-0.8.2-py3-none-any.whl (15 kB)\n",
            "Requirement already satisfied: pyparsing>=2.0.2 in /usr/local/lib/python3.7/dist-packages (from packaging>=20.0->optuna) (2.4.7)\n",
            "Requirement already satisfied: greenlet!=0.4.17 in /usr/local/lib/python3.7/dist-packages (from sqlalchemy>=1.1.0->optuna) (1.1.1)\n",
            "Requirement already satisfied: importlib-metadata in /usr/local/lib/python3.7/dist-packages (from sqlalchemy>=1.1.0->optuna) (4.6.4)\n",
            "Requirement already satisfied: importlib-resources in /usr/local/lib/python3.7/dist-packages (from alembic->optuna) (5.2.2)\n",
            "Collecting Mako\n",
            "  Downloading Mako-1.1.5-py2.py3-none-any.whl (75 kB)\n",
            "\u001b[K     |████████████████████████████████| 75 kB 3.3 MB/s \n",
            "\u001b[?25hCollecting autopage>=0.4.0\n",
            "  Downloading autopage-0.4.0-py3-none-any.whl (20 kB)\n",
            "Requirement already satisfied: PrettyTable>=0.7.2 in /usr/local/lib/python3.7/dist-packages (from cliff->optuna) (2.1.0)\n",
            "Collecting cmd2>=1.0.0\n",
            "  Downloading cmd2-2.1.2-py3-none-any.whl (141 kB)\n",
            "\u001b[K     |████████████████████████████████| 141 kB 29.4 MB/s \n",
            "\u001b[?25hCollecting stevedore>=2.0.1\n",
            "  Downloading stevedore-3.4.0-py3-none-any.whl (49 kB)\n",
            "\u001b[K     |████████████████████████████████| 49 kB 4.5 MB/s \n",
            "\u001b[?25hCollecting pbr!=2.1.0,>=2.0.0\n",
            "  Downloading pbr-5.6.0-py2.py3-none-any.whl (111 kB)\n",
            "\u001b[K     |████████████████████████████████| 111 kB 42.4 MB/s \n",
            "\u001b[?25hCollecting pyperclip>=1.6\n",
            "  Downloading pyperclip-1.8.2.tar.gz (20 kB)\n",
            "Requirement already satisfied: wcwidth>=0.1.7 in /usr/local/lib/python3.7/dist-packages (from cmd2>=1.0.0->cliff->optuna) (0.2.5)\n",
            "Requirement already satisfied: typing-extensions in /usr/local/lib/python3.7/dist-packages (from cmd2>=1.0.0->cliff->optuna) (3.7.4.3)\n",
            "Collecting colorama>=0.3.7\n",
            "  Downloading colorama-0.4.4-py2.py3-none-any.whl (16 kB)\n",
            "Requirement already satisfied: attrs>=16.3.0 in /usr/local/lib/python3.7/dist-packages (from cmd2>=1.0.0->cliff->optuna) (21.2.0)\n",
            "Requirement already satisfied: zipp>=0.5 in /usr/local/lib/python3.7/dist-packages (from importlib-metadata->sqlalchemy>=1.1.0->optuna) (3.5.0)\n",
            "Requirement already satisfied: MarkupSafe>=0.9.2 in /usr/local/lib/python3.7/dist-packages (from Mako->alembic->optuna) (2.0.1)\n",
            "Building wheels for collected packages: pyperclip\n",
            "  Building wheel for pyperclip (setup.py) ... \u001b[?25l\u001b[?25hdone\n",
            "  Created wheel for pyperclip: filename=pyperclip-1.8.2-py3-none-any.whl size=11136 sha256=2585042b6200535e93b5edd5cd04e9c42421b10c7f49abad03b2662a85a41348\n",
            "  Stored in directory: /root/.cache/pip/wheels/9f/18/84/8f69f8b08169c7bae2dde6bd7daf0c19fca8c8e500ee620a28\n",
            "Successfully built pyperclip\n",
            "Installing collected packages: pyperclip, pbr, colorama, stevedore, Mako, cmd2, autopage, colorlog, cmaes, cliff, alembic, optuna\n",
            "Successfully installed Mako-1.1.5 alembic-1.7.1 autopage-0.4.0 cliff-3.9.0 cmaes-0.8.2 cmd2-2.1.2 colorama-0.4.4 colorlog-6.4.1 optuna-2.9.1 pbr-5.6.0 pyperclip-1.8.2 stevedore-3.4.0\n"
          ]
        }
      ]
    },
    {
      "cell_type": "code",
      "metadata": {
        "id": "JDHh7oS1F_yA"
      },
      "source": [
        "import optuna"
      ],
      "execution_count": 53,
      "outputs": []
    },
    {
      "cell_type": "code",
      "metadata": {
        "id": "Ps3y03onJa4w"
      },
      "source": [
        "import sklearn.svm\n",
        "def objective(trial):\n",
        "  classifier=trial.suggest_categorical('classifier',['RandomForest','SVC'])\n",
        "  if classifier=='RandomForest':\n",
        "    n_estimators=trial.suggest_int('n_estimators',200,2000,10)\n",
        "    max_depth=trial.suggest_int('max_depth',10,100,log=True)\n",
        "    min_samples_leaf=trial.suggest_int('min_samples_leaf',2,20,10)\n",
        "    clf=RandomForestClassifier(n_estimators=n_estimators,\n",
        "                                      max_depth=max_depth,\n",
        "                                      min_samples_leaf=min_samples_leaf)\n",
        "  else:\n",
        "      c=trial.suggest_float('svc_c',1e-10,1e10,log=True)\n",
        "      clf=sklearn.svm.SVC(C=c,gamma=True)\n",
        "  return cross_val_score(clf,X_train,y_train,n_jobs=-1,cv=3).mean()\n"
      ],
      "execution_count": 64,
      "outputs": []
    },
    {
      "cell_type": "code",
      "metadata": {
        "id": "EbbSBLyPOCpN",
        "outputId": "6f5281e5-06c5-4a08-8d44-6f8c57b77819",
        "colab": {
          "base_uri": "https://localhost:8080/"
        }
      },
      "source": [
        "study=optuna.create_study(direction='maximize')\n",
        "study.optimize(objective,n_trials=100)\n",
        "\n",
        "trial=study.best_trial\n",
        "\n",
        "print('Accuracy: {}'.format(trial.value))\n",
        "print('Best Hyperparamter: {}'.format(trial.params))"
      ],
      "execution_count": 65,
      "outputs": [
        {
          "output_type": "stream",
          "name": "stderr",
          "text": [
            "\u001b[32m[I 2021-09-03 10:37:35,120]\u001b[0m A new study created in memory with name: no-name-af546aa3-fffe-4660-9d3e-c6c8f270333d\u001b[0m\n",
            "\u001b[32m[I 2021-09-03 10:37:35,182]\u001b[0m Trial 0 finished with value: 0.640068547744301 and parameters: {'classifier': 'SVC', 'svc_c': 1.0281941770678745e-10}. Best is trial 0 with value: 0.640068547744301.\u001b[0m\n",
            "\u001b[32m[I 2021-09-03 10:37:37,218]\u001b[0m Trial 1 finished with value: 0.7540411286465806 and parameters: {'classifier': 'RandomForest', 'n_estimators': 450, 'max_depth': 21, 'min_samples_leaf': 12}. Best is trial 1 with value: 0.7540411286465806.\u001b[0m\n",
            "\u001b[32m[I 2021-09-03 10:37:45,366]\u001b[0m Trial 2 finished with value: 0.7507811254583134 and parameters: {'classifier': 'RandomForest', 'n_estimators': 1910, 'max_depth': 11, 'min_samples_leaf': 12}. Best is trial 1 with value: 0.7540411286465806.\u001b[0m\n",
            "\u001b[32m[I 2021-09-03 10:37:50,881]\u001b[0m Trial 3 finished with value: 0.752407141718476 and parameters: {'classifier': 'RandomForest', 'n_estimators': 1300, 'max_depth': 15, 'min_samples_leaf': 12}. Best is trial 1 with value: 0.7540411286465806.\u001b[0m\n",
            "\u001b[32m[I 2021-09-03 10:37:57,943]\u001b[0m Trial 4 finished with value: 0.7524390243902439 and parameters: {'classifier': 'RandomForest', 'n_estimators': 1540, 'max_depth': 29, 'min_samples_leaf': 2}. Best is trial 1 with value: 0.7540411286465806.\u001b[0m\n",
            "\u001b[32m[I 2021-09-03 10:37:58,004]\u001b[0m Trial 5 finished with value: 0.640068547744301 and parameters: {'classifier': 'SVC', 'svc_c': 659425.3725178144}. Best is trial 1 with value: 0.7540411286465806.\u001b[0m\n",
            "\u001b[32m[I 2021-09-03 10:37:58,061]\u001b[0m Trial 6 finished with value: 0.640068547744301 and parameters: {'classifier': 'SVC', 'svc_c': 42370.349762884}. Best is trial 1 with value: 0.7540411286465806.\u001b[0m\n",
            "\u001b[32m[I 2021-09-03 10:37:58,109]\u001b[0m Trial 7 finished with value: 0.640068547744301 and parameters: {'classifier': 'SVC', 'svc_c': 0.00014390829393980386}. Best is trial 1 with value: 0.7540411286465806.\u001b[0m\n",
            "\u001b[32m[I 2021-09-03 10:38:00,677]\u001b[0m Trial 8 finished with value: 0.7507890961262554 and parameters: {'classifier': 'RandomForest', 'n_estimators': 610, 'max_depth': 17, 'min_samples_leaf': 12}. Best is trial 1 with value: 0.7540411286465806.\u001b[0m\n",
            "\u001b[32m[I 2021-09-03 10:38:05,753]\u001b[0m Trial 9 finished with value: 0.7508050374621393 and parameters: {'classifier': 'RandomForest', 'n_estimators': 1110, 'max_depth': 82, 'min_samples_leaf': 2}. Best is trial 1 with value: 0.7540411286465806.\u001b[0m\n",
            "\u001b[32m[I 2021-09-03 10:38:07,235]\u001b[0m Trial 10 finished with value: 0.7458871353419417 and parameters: {'classifier': 'RandomForest', 'n_estimators': 330, 'max_depth': 44, 'min_samples_leaf': 12}. Best is trial 1 with value: 0.7540411286465806.\u001b[0m\n",
            "\u001b[32m[I 2021-09-03 10:38:14,811]\u001b[0m Trial 11 finished with value: 0.7508050374621393 and parameters: {'classifier': 'RandomForest', 'n_estimators': 1680, 'max_depth': 30, 'min_samples_leaf': 2}. Best is trial 1 with value: 0.7540411286465806.\u001b[0m\n",
            "\u001b[32m[I 2021-09-03 10:38:18,280]\u001b[0m Trial 12 finished with value: 0.7491710505340348 and parameters: {'classifier': 'RandomForest', 'n_estimators': 750, 'max_depth': 31, 'min_samples_leaf': 2}. Best is trial 1 with value: 0.7540411286465806.\u001b[0m\n",
            "\u001b[32m[I 2021-09-03 10:38:24,897]\u001b[0m Trial 13 finished with value: 0.7524390243902439 and parameters: {'classifier': 'RandomForest', 'n_estimators': 1450, 'max_depth': 24, 'min_samples_leaf': 2}. Best is trial 1 with value: 0.7540411286465806.\u001b[0m\n",
            "\u001b[32m[I 2021-09-03 10:38:25,907]\u001b[0m Trial 14 finished with value: 0.7475530049418141 and parameters: {'classifier': 'RandomForest', 'n_estimators': 210, 'max_depth': 47, 'min_samples_leaf': 2}. Best is trial 1 with value: 0.7540411286465806.\u001b[0m\n",
            "\u001b[32m[I 2021-09-03 10:38:29,208]\u001b[0m Trial 15 finished with value: 0.7442690897497211 and parameters: {'classifier': 'RandomForest', 'n_estimators': 760, 'max_depth': 19, 'min_samples_leaf': 12}. Best is trial 1 with value: 0.7540411286465806.\u001b[0m\n",
            "\u001b[32m[I 2021-09-03 10:38:36,127]\u001b[0m Trial 16 finished with value: 0.7508050374621393 and parameters: {'classifier': 'RandomForest', 'n_estimators': 1530, 'max_depth': 47, 'min_samples_leaf': 2}. Best is trial 1 with value: 0.7540411286465806.\u001b[0m\n",
            "\u001b[32m[I 2021-09-03 10:38:40,770]\u001b[0m Trial 17 finished with value: 0.7507811254583134 and parameters: {'classifier': 'RandomForest', 'n_estimators': 1090, 'max_depth': 21, 'min_samples_leaf': 12}. Best is trial 1 with value: 0.7540411286465806.\u001b[0m\n",
            "\u001b[32m[I 2021-09-03 10:38:40,832]\u001b[0m Trial 18 finished with value: 0.640068547744301 and parameters: {'classifier': 'SVC', 'svc_c': 0.0031747162071319042}. Best is trial 1 with value: 0.7540411286465806.\u001b[0m\n",
            "\u001b[32m[I 2021-09-03 10:38:49,571]\u001b[0m Trial 19 finished with value: 0.7459110473457676 and parameters: {'classifier': 'RandomForest', 'n_estimators': 1900, 'max_depth': 10, 'min_samples_leaf': 2}. Best is trial 1 with value: 0.7540411286465806.\u001b[0m\n",
            "\u001b[32m[I 2021-09-03 10:38:54,527]\u001b[0m Trial 20 finished with value: 0.7491551091981509 and parameters: {'classifier': 'RandomForest', 'n_estimators': 1160, 'max_depth': 32, 'min_samples_leaf': 12}. Best is trial 1 with value: 0.7540411286465806.\u001b[0m\n",
            "\u001b[32m[I 2021-09-03 10:39:01,009]\u001b[0m Trial 21 finished with value: 0.7508050374621393 and parameters: {'classifier': 'RandomForest', 'n_estimators': 1440, 'max_depth': 25, 'min_samples_leaf': 2}. Best is trial 1 with value: 0.7540411286465806.\u001b[0m\n",
            "\u001b[32m[I 2021-09-03 10:39:08,353]\u001b[0m Trial 22 finished with value: 0.7508050374621393 and parameters: {'classifier': 'RandomForest', 'n_estimators': 1610, 'max_depth': 14, 'min_samples_leaf': 2}. Best is trial 1 with value: 0.7540411286465806.\u001b[0m\n",
            "\u001b[32m[I 2021-09-03 10:39:14,240]\u001b[0m Trial 23 finished with value: 0.7475370636059302 and parameters: {'classifier': 'RandomForest', 'n_estimators': 1300, 'max_depth': 22, 'min_samples_leaf': 2}. Best is trial 1 with value: 0.7540411286465806.\u001b[0m\n",
            "\u001b[32m[I 2021-09-03 10:39:18,353]\u001b[0m Trial 24 finished with value: 0.7459110473457676 and parameters: {'classifier': 'RandomForest', 'n_estimators': 900, 'max_depth': 36, 'min_samples_leaf': 2}. Best is trial 1 with value: 0.7540411286465806.\u001b[0m\n",
            "\u001b[32m[I 2021-09-03 10:39:26,192]\u001b[0m Trial 25 finished with value: 0.7524390243902439 and parameters: {'classifier': 'RandomForest', 'n_estimators': 1710, 'max_depth': 25, 'min_samples_leaf': 2}. Best is trial 1 with value: 0.7540411286465806.\u001b[0m\n",
            "\u001b[32m[I 2021-09-03 10:39:26,274]\u001b[0m Trial 26 finished with value: 0.640068547744301 and parameters: {'classifier': 'SVC', 'svc_c': 9925975045.435015}. Best is trial 1 with value: 0.7540411286465806.\u001b[0m\n",
            "\u001b[32m[I 2021-09-03 10:39:32,424]\u001b[0m Trial 27 finished with value: 0.7491551091981509 and parameters: {'classifier': 'RandomForest', 'n_estimators': 1430, 'max_depth': 13, 'min_samples_leaf': 12}. Best is trial 1 with value: 0.7540411286465806.\u001b[0m\n",
            "\u001b[32m[I 2021-09-03 10:39:34,700]\u001b[0m Trial 28 finished with value: 0.7508130081300813 and parameters: {'classifier': 'RandomForest', 'n_estimators': 490, 'max_depth': 74, 'min_samples_leaf': 2}. Best is trial 1 with value: 0.7540411286465806.\u001b[0m\n",
            "\u001b[32m[I 2021-09-03 10:39:34,760]\u001b[0m Trial 29 finished with value: 0.640068547744301 and parameters: {'classifier': 'SVC', 'svc_c': 1.0418627683258475e-07}. Best is trial 1 with value: 0.7540411286465806.\u001b[0m\n",
            "\u001b[32m[I 2021-09-03 10:39:38,995]\u001b[0m Trial 30 finished with value: 0.7491869918699187 and parameters: {'classifier': 'RandomForest', 'n_estimators': 930, 'max_depth': 25, 'min_samples_leaf': 2}. Best is trial 1 with value: 0.7540411286465806.\u001b[0m\n",
            "\u001b[32m[I 2021-09-03 10:39:46,905]\u001b[0m Trial 31 finished with value: 0.7475530049418141 and parameters: {'classifier': 'RandomForest', 'n_estimators': 1730, 'max_depth': 24, 'min_samples_leaf': 2}. Best is trial 1 with value: 0.7540411286465806.\u001b[0m\n",
            "\u001b[32m[I 2021-09-03 10:39:55,107]\u001b[0m Trial 32 finished with value: 0.7524310537223019 and parameters: {'classifier': 'RandomForest', 'n_estimators': 1800, 'max_depth': 19, 'min_samples_leaf': 2}. Best is trial 1 with value: 0.7540411286465806.\u001b[0m\n",
            "\u001b[32m[I 2021-09-03 10:40:02,359]\u001b[0m Trial 33 finished with value: 0.75242308305436 and parameters: {'classifier': 'RandomForest', 'n_estimators': 1580, 'max_depth': 38, 'min_samples_leaf': 2}. Best is trial 1 with value: 0.7540411286465806.\u001b[0m\n",
            "\u001b[32m[I 2021-09-03 10:40:08,389]\u001b[0m Trial 34 finished with value: 0.7491710505340348 and parameters: {'classifier': 'RandomForest', 'n_estimators': 1310, 'max_depth': 27, 'min_samples_leaf': 2}. Best is trial 1 with value: 0.7540411286465806.\u001b[0m\n",
            "\u001b[32m[I 2021-09-03 10:40:15,085]\u001b[0m Trial 35 finished with value: 0.7491790212019768 and parameters: {'classifier': 'RandomForest', 'n_estimators': 1470, 'max_depth': 17, 'min_samples_leaf': 2}. Best is trial 1 with value: 0.7540411286465806.\u001b[0m\n",
            "\u001b[32m[I 2021-09-03 10:40:15,149]\u001b[0m Trial 36 finished with value: 0.640068547744301 and parameters: {'classifier': 'SVC', 'svc_c': 58.45189897465089}. Best is trial 1 with value: 0.7540411286465806.\u001b[0m\n",
            "\u001b[32m[I 2021-09-03 10:40:22,715]\u001b[0m Trial 37 finished with value: 0.7475290929379882 and parameters: {'classifier': 'RandomForest', 'n_estimators': 1790, 'max_depth': 28, 'min_samples_leaf': 12}. Best is trial 1 with value: 0.7540411286465806.\u001b[0m\n",
            "\u001b[32m[I 2021-09-03 10:40:30,379]\u001b[0m Trial 38 finished with value: 0.7491551091981509 and parameters: {'classifier': 'RandomForest', 'n_estimators': 1800, 'max_depth': 63, 'min_samples_leaf': 12}. Best is trial 1 with value: 0.7540411286465806.\u001b[0m\n",
            "\u001b[32m[I 2021-09-03 10:40:30,447]\u001b[0m Trial 39 finished with value: 0.640068547744301 and parameters: {'classifier': 'SVC', 'svc_c': 2682036333.480071}. Best is trial 1 with value: 0.7540411286465806.\u001b[0m\n",
            "\u001b[32m[I 2021-09-03 10:40:39,169]\u001b[0m Trial 40 finished with value: 0.7508130081300813 and parameters: {'classifier': 'RandomForest', 'n_estimators': 1870, 'max_depth': 21, 'min_samples_leaf': 2}. Best is trial 1 with value: 0.7540411286465806.\u001b[0m\n",
            "\u001b[32m[I 2021-09-03 10:40:48,156]\u001b[0m Trial 41 finished with value: 0.7459190180137095 and parameters: {'classifier': 'RandomForest', 'n_estimators': 1990, 'max_depth': 18, 'min_samples_leaf': 2}. Best is trial 1 with value: 0.7540411286465806.\u001b[0m\n",
            "\u001b[32m[I 2021-09-03 10:40:55,646]\u001b[0m Trial 42 finished with value: 0.75242308305436 and parameters: {'classifier': 'RandomForest', 'n_estimators': 1650, 'max_depth': 12, 'min_samples_leaf': 2}. Best is trial 1 with value: 0.7540411286465806.\u001b[0m\n",
            "\u001b[32m[I 2021-09-03 10:41:01,772]\u001b[0m Trial 43 finished with value: 0.7508130081300813 and parameters: {'classifier': 'RandomForest', 'n_estimators': 1340, 'max_depth': 16, 'min_samples_leaf': 2}. Best is trial 1 with value: 0.7540411286465806.\u001b[0m\n",
            "\u001b[32m[I 2021-09-03 10:41:09,922]\u001b[0m Trial 44 finished with value: 0.7508050374621393 and parameters: {'classifier': 'RandomForest', 'n_estimators': 1750, 'max_depth': 19, 'min_samples_leaf': 2}. Best is trial 1 with value: 0.7540411286465806.\u001b[0m\n",
            "\u001b[32m[I 2021-09-03 10:41:16,909]\u001b[0m Trial 45 finished with value: 0.7507970667941973 and parameters: {'classifier': 'RandomForest', 'n_estimators': 1530, 'max_depth': 22, 'min_samples_leaf': 2}. Best is trial 1 with value: 0.7540411286465806.\u001b[0m\n",
            "\u001b[32m[I 2021-09-03 10:41:21,955]\u001b[0m Trial 46 finished with value: 0.7475290929379882 and parameters: {'classifier': 'RandomForest', 'n_estimators': 1190, 'max_depth': 35, 'min_samples_leaf': 12}. Best is trial 1 with value: 0.7540411286465806.\u001b[0m\n",
            "\u001b[32m[I 2021-09-03 10:41:29,552]\u001b[0m Trial 47 finished with value: 0.7459110473457676 and parameters: {'classifier': 'RandomForest', 'n_estimators': 1680, 'max_depth': 28, 'min_samples_leaf': 2}. Best is trial 1 with value: 0.7540411286465806.\u001b[0m\n",
            "\u001b[32m[I 2021-09-03 10:41:31,755]\u001b[0m Trial 48 finished with value: 0.7507811254583134 and parameters: {'classifier': 'RandomForest', 'n_estimators': 480, 'max_depth': 15, 'min_samples_leaf': 2}. Best is trial 1 with value: 0.7540411286465806.\u001b[0m\n",
            "\u001b[32m[I 2021-09-03 10:41:31,823]\u001b[0m Trial 49 finished with value: 0.640068547744301 and parameters: {'classifier': 'SVC', 'svc_c': 1.4083741912097054}. Best is trial 1 with value: 0.7540411286465806.\u001b[0m\n",
            "\u001b[32m[I 2021-09-03 10:41:40,254]\u001b[0m Trial 50 finished with value: 0.7458871353419417 and parameters: {'classifier': 'RandomForest', 'n_estimators': 1970, 'max_depth': 24, 'min_samples_leaf': 12}. Best is trial 1 with value: 0.7540411286465806.\u001b[0m\n",
            "\u001b[32m[I 2021-09-03 10:41:47,434]\u001b[0m Trial 51 finished with value: 0.7475450342738722 and parameters: {'classifier': 'RandomForest', 'n_estimators': 1570, 'max_depth': 36, 'min_samples_leaf': 2}. Best is trial 1 with value: 0.7540411286465806.\u001b[0m\n",
            "\u001b[32m[I 2021-09-03 10:41:55,806]\u001b[0m Trial 52 finished with value: 0.7508130081300813 and parameters: {'classifier': 'RandomForest', 'n_estimators': 1840, 'max_depth': 42, 'min_samples_leaf': 2}. Best is trial 1 with value: 0.7540411286465806.\u001b[0m\n",
            "\u001b[32m[I 2021-09-03 10:42:02,256]\u001b[0m Trial 53 finished with value: 0.7508130081300813 and parameters: {'classifier': 'RandomForest', 'n_estimators': 1400, 'max_depth': 33, 'min_samples_leaf': 2}. Best is trial 1 with value: 0.7540411286465806.\u001b[0m\n",
            "\u001b[32m[I 2021-09-03 10:42:09,960]\u001b[0m Trial 54 finished with value: 0.7491869918699187 and parameters: {'classifier': 'RandomForest', 'n_estimators': 1670, 'max_depth': 11, 'min_samples_leaf': 2}. Best is trial 1 with value: 0.7540411286465806.\u001b[0m\n",
            "\u001b[32m[I 2021-09-03 10:42:17,239]\u001b[0m Trial 55 finished with value: 0.7491710505340348 and parameters: {'classifier': 'RandomForest', 'n_estimators': 1570, 'max_depth': 43, 'min_samples_leaf': 2}. Best is trial 1 with value: 0.7540411286465806.\u001b[0m\n",
            "\u001b[32m[I 2021-09-03 10:42:25,162]\u001b[0m Trial 56 finished with value: 0.7491710505340348 and parameters: {'classifier': 'RandomForest', 'n_estimators': 1740, 'max_depth': 12, 'min_samples_leaf': 2}. Best is trial 1 with value: 0.7540411286465806.\u001b[0m\n",
            "\u001b[32m[I 2021-09-03 10:42:32,133]\u001b[0m Trial 57 finished with value: 0.7507970667941973 and parameters: {'classifier': 'RandomForest', 'n_estimators': 1520, 'max_depth': 30, 'min_samples_leaf': 2}. Best is trial 1 with value: 0.7540411286465806.\u001b[0m\n",
            "\u001b[32m[I 2021-09-03 10:42:33,172]\u001b[0m Trial 58 finished with value: 0.7475530049418141 and parameters: {'classifier': 'RandomForest', 'n_estimators': 220, 'max_depth': 20, 'min_samples_leaf': 2}. Best is trial 1 with value: 0.7540411286465806.\u001b[0m\n",
            "\u001b[32m[I 2021-09-03 10:42:40,335]\u001b[0m Trial 59 finished with value: 0.7491551091981509 and parameters: {'classifier': 'RandomForest', 'n_estimators': 1670, 'max_depth': 10, 'min_samples_leaf': 12}. Best is trial 1 with value: 0.7540411286465806.\u001b[0m\n",
            "\u001b[32m[I 2021-09-03 10:42:40,390]\u001b[0m Trial 60 finished with value: 0.640068547744301 and parameters: {'classifier': 'SVC', 'svc_c': 7.554998076092196e-05}. Best is trial 1 with value: 0.7540411286465806.\u001b[0m\n",
            "\u001b[32m[I 2021-09-03 10:42:47,754]\u001b[0m Trial 61 finished with value: 0.7491710505340348 and parameters: {'classifier': 'RandomForest', 'n_estimators': 1600, 'max_depth': 38, 'min_samples_leaf': 2}. Best is trial 1 with value: 0.7540411286465806.\u001b[0m\n",
            "\u001b[32m[I 2021-09-03 10:42:55,220]\u001b[0m Trial 62 finished with value: 0.7524390243902439 and parameters: {'classifier': 'RandomForest', 'n_estimators': 1630, 'max_depth': 56, 'min_samples_leaf': 2}. Best is trial 1 with value: 0.7540411286465806.\u001b[0m\n",
            "\u001b[32m[I 2021-09-03 10:43:02,912]\u001b[0m Trial 63 finished with value: 0.7524390243902439 and parameters: {'classifier': 'RandomForest', 'n_estimators': 1670, 'max_depth': 98, 'min_samples_leaf': 2}. Best is trial 1 with value: 0.7540411286465806.\u001b[0m\n",
            "\u001b[32m[I 2021-09-03 10:43:08,559]\u001b[0m Trial 64 finished with value: 0.7475530049418141 and parameters: {'classifier': 'RandomForest', 'n_estimators': 1230, 'max_depth': 93, 'min_samples_leaf': 2}. Best is trial 1 with value: 0.7540411286465806.\u001b[0m\n",
            "\u001b[32m[I 2021-09-03 10:43:17,331]\u001b[0m Trial 65 finished with value: 0.7491790212019768 and parameters: {'classifier': 'RandomForest', 'n_estimators': 1920, 'max_depth': 57, 'min_samples_leaf': 2}. Best is trial 1 with value: 0.7540411286465806.\u001b[0m\n",
            "\u001b[32m[I 2021-09-03 10:43:22,276]\u001b[0m Trial 66 finished with value: 0.7475530049418141 and parameters: {'classifier': 'RandomForest', 'n_estimators': 1060, 'max_depth': 56, 'min_samples_leaf': 2}. Best is trial 1 with value: 0.7540411286465806.\u001b[0m\n",
            "\u001b[32m[I 2021-09-03 10:43:29,272]\u001b[0m Trial 67 finished with value: 0.7524390243902439 and parameters: {'classifier': 'RandomForest', 'n_estimators': 1480, 'max_depth': 99, 'min_samples_leaf': 2}. Best is trial 1 with value: 0.7540411286465806.\u001b[0m\n",
            "\u001b[32m[I 2021-09-03 10:43:35,939]\u001b[0m Trial 68 finished with value: 0.7491710505340348 and parameters: {'classifier': 'RandomForest', 'n_estimators': 1400, 'max_depth': 90, 'min_samples_leaf': 2}. Best is trial 1 with value: 0.7540411286465806.\u001b[0m\n",
            "\u001b[32m[I 2021-09-03 10:43:42,789]\u001b[0m Trial 69 finished with value: 0.7475530049418141 and parameters: {'classifier': 'RandomForest', 'n_estimators': 1470, 'max_depth': 89, 'min_samples_leaf': 2}. Best is trial 1 with value: 0.7540411286465806.\u001b[0m\n",
            "\u001b[32m[I 2021-09-03 10:43:45,979]\u001b[0m Trial 70 finished with value: 0.7458871353419417 and parameters: {'classifier': 'RandomForest', 'n_estimators': 730, 'max_depth': 78, 'min_samples_leaf': 12}. Best is trial 1 with value: 0.7540411286465806.\u001b[0m\n",
            "\u001b[32m[I 2021-09-03 10:43:54,445]\u001b[0m Trial 71 finished with value: 0.7508050374621393 and parameters: {'classifier': 'RandomForest', 'n_estimators': 1810, 'max_depth': 69, 'min_samples_leaf': 2}. Best is trial 1 with value: 0.7540411286465806.\u001b[0m\n",
            "\u001b[32m[I 2021-09-03 10:44:02,344]\u001b[0m Trial 72 finished with value: 0.7491790212019768 and parameters: {'classifier': 'RandomForest', 'n_estimators': 1730, 'max_depth': 26, 'min_samples_leaf': 2}. Best is trial 1 with value: 0.7540411286465806.\u001b[0m\n",
            "\u001b[32m[I 2021-09-03 10:44:09,912]\u001b[0m Trial 73 finished with value: 0.7507970667941973 and parameters: {'classifier': 'RandomForest', 'n_estimators': 1650, 'max_depth': 96, 'min_samples_leaf': 2}. Best is trial 1 with value: 0.7540411286465806.\u001b[0m\n",
            "\u001b[32m[I 2021-09-03 10:44:16,872]\u001b[0m Trial 74 finished with value: 0.7507970667941973 and parameters: {'classifier': 'RandomForest', 'n_estimators': 1510, 'max_depth': 22, 'min_samples_leaf': 2}. Best is trial 1 with value: 0.7540411286465806.\u001b[0m\n",
            "\u001b[32m[I 2021-09-03 10:44:21,429]\u001b[0m Trial 75 finished with value: 0.7475450342738722 and parameters: {'classifier': 'RandomForest', 'n_estimators': 990, 'max_depth': 24, 'min_samples_leaf': 2}. Best is trial 1 with value: 0.7540411286465806.\u001b[0m\n",
            "\u001b[32m[I 2021-09-03 10:44:21,498]\u001b[0m Trial 76 finished with value: 0.640068547744301 and parameters: {'classifier': 'SVC', 'svc_c': 19053.678717442428}. Best is trial 1 with value: 0.7540411286465806.\u001b[0m\n",
            "\u001b[32m[I 2021-09-03 10:44:27,749]\u001b[0m Trial 77 finished with value: 0.744285031085605 and parameters: {'classifier': 'RandomForest', 'n_estimators': 1350, 'max_depth': 84, 'min_samples_leaf': 2}. Best is trial 1 with value: 0.7540411286465806.\u001b[0m\n",
            "\u001b[32m[I 2021-09-03 10:44:33,544]\u001b[0m Trial 78 finished with value: 0.7524310537223019 and parameters: {'classifier': 'RandomForest', 'n_estimators': 1270, 'max_depth': 30, 'min_samples_leaf': 2}. Best is trial 1 with value: 0.7540411286465806.\u001b[0m\n",
            "\u001b[32m[I 2021-09-03 10:44:42,115]\u001b[0m Trial 79 finished with value: 0.7491790212019768 and parameters: {'classifier': 'RandomForest', 'n_estimators': 1890, 'max_depth': 98, 'min_samples_leaf': 2}. Best is trial 1 with value: 0.7540411286465806.\u001b[0m\n",
            "\u001b[32m[I 2021-09-03 10:44:49,527]\u001b[0m Trial 80 finished with value: 0.7524310537223019 and parameters: {'classifier': 'RandomForest', 'n_estimators': 1610, 'max_depth': 18, 'min_samples_leaf': 2}. Best is trial 1 with value: 0.7540411286465806.\u001b[0m\n",
            "\u001b[32m[I 2021-09-03 10:44:56,908]\u001b[0m Trial 81 finished with value: 0.7508050374621393 and parameters: {'classifier': 'RandomForest', 'n_estimators': 1610, 'max_depth': 17, 'min_samples_leaf': 2}. Best is trial 1 with value: 0.7540411286465806.\u001b[0m\n",
            "\u001b[32m[I 2021-09-03 10:45:03,226]\u001b[0m Trial 82 finished with value: 0.7540570699824646 and parameters: {'classifier': 'RandomForest', 'n_estimators': 1380, 'max_depth': 32, 'min_samples_leaf': 2}. Best is trial 82 with value: 0.7540570699824646.\u001b[0m\n",
            "\u001b[32m[I 2021-09-03 10:45:09,228]\u001b[0m Trial 83 finished with value: 0.7459110473457676 and parameters: {'classifier': 'RandomForest', 'n_estimators': 1280, 'max_depth': 32, 'min_samples_leaf': 2}. Best is trial 82 with value: 0.7540570699824646.\u001b[0m\n",
            "\u001b[32m[I 2021-09-03 10:45:15,914]\u001b[0m Trial 84 finished with value: 0.7524310537223019 and parameters: {'classifier': 'RandomForest', 'n_estimators': 1460, 'max_depth': 23, 'min_samples_leaf': 2}. Best is trial 82 with value: 0.7540570699824646.\u001b[0m\n",
            "\u001b[32m[I 2021-09-03 10:45:22,597]\u001b[0m Trial 85 finished with value: 0.7459269886816515 and parameters: {'classifier': 'RandomForest', 'n_estimators': 1460, 'max_depth': 50, 'min_samples_leaf': 2}. Best is trial 82 with value: 0.7540570699824646.\u001b[0m\n",
            "\u001b[32m[I 2021-09-03 10:45:29,180]\u001b[0m Trial 86 finished with value: 0.7508050374621393 and parameters: {'classifier': 'RandomForest', 'n_estimators': 1430, 'max_depth': 26, 'min_samples_leaf': 2}. Best is trial 82 with value: 0.7540570699824646.\u001b[0m\n",
            "\u001b[32m[I 2021-09-03 10:45:36,320]\u001b[0m Trial 87 finished with value: 0.7459110473457676 and parameters: {'classifier': 'RandomForest', 'n_estimators': 1540, 'max_depth': 69, 'min_samples_leaf': 2}. Best is trial 82 with value: 0.7540570699824646.\u001b[0m\n",
            "\u001b[32m[I 2021-09-03 10:45:36,378]\u001b[0m Trial 88 finished with value: 0.640068547744301 and parameters: {'classifier': 'SVC', 'svc_c': 2.716828304012515e-10}. Best is trial 82 with value: 0.7540570699824646.\u001b[0m\n",
            "\u001b[32m[I 2021-09-03 10:45:42,299]\u001b[0m Trial 89 finished with value: 0.7458951060098836 and parameters: {'classifier': 'RandomForest', 'n_estimators': 1380, 'max_depth': 22, 'min_samples_leaf': 12}. Best is trial 82 with value: 0.7540570699824646.\u001b[0m\n",
            "\u001b[32m[I 2021-09-03 10:45:50,192]\u001b[0m Trial 90 finished with value: 0.7508050374621393 and parameters: {'classifier': 'RandomForest', 'n_estimators': 1720, 'max_depth': 20, 'min_samples_leaf': 2}. Best is trial 82 with value: 0.7540570699824646.\u001b[0m\n",
            "\u001b[32m[I 2021-09-03 10:45:56,029]\u001b[0m Trial 91 finished with value: 0.7508050374621393 and parameters: {'classifier': 'RandomForest', 'n_estimators': 1250, 'max_depth': 29, 'min_samples_leaf': 2}. Best is trial 82 with value: 0.7540570699824646.\u001b[0m\n",
            "\u001b[32m[I 2021-09-03 10:46:02,959]\u001b[0m Trial 92 finished with value: 0.7508050374621393 and parameters: {'classifier': 'RandomForest', 'n_estimators': 1480, 'max_depth': 23, 'min_samples_leaf': 2}. Best is trial 82 with value: 0.7540570699824646.\u001b[0m\n",
            "\u001b[32m[I 2021-09-03 10:46:11,307]\u001b[0m Trial 93 finished with value: 0.75242308305436 and parameters: {'classifier': 'RandomForest', 'n_estimators': 1800, 'max_depth': 18, 'min_samples_leaf': 2}. Best is trial 82 with value: 0.7540570699824646.\u001b[0m\n",
            "\u001b[32m[I 2021-09-03 10:46:17,274]\u001b[0m Trial 94 finished with value: 0.7507970667941973 and parameters: {'classifier': 'RandomForest', 'n_estimators': 1300, 'max_depth': 34, 'min_samples_leaf': 2}. Best is trial 82 with value: 0.7540570699824646.\u001b[0m\n",
            "\u001b[32m[I 2021-09-03 10:46:24,790]\u001b[0m Trial 95 finished with value: 0.75242308305436 and parameters: {'classifier': 'RandomForest', 'n_estimators': 1620, 'max_depth': 26, 'min_samples_leaf': 2}. Best is trial 82 with value: 0.7540570699824646.\u001b[0m\n",
            "\u001b[32m[I 2021-09-03 10:46:30,240]\u001b[0m Trial 96 finished with value: 0.7524310537223019 and parameters: {'classifier': 'RandomForest', 'n_estimators': 1190, 'max_depth': 31, 'min_samples_leaf': 2}. Best is trial 82 with value: 0.7540570699824646.\u001b[0m\n",
            "\u001b[32m[I 2021-09-03 10:46:32,217]\u001b[0m Trial 97 finished with value: 0.7459190180137095 and parameters: {'classifier': 'RandomForest', 'n_estimators': 420, 'max_depth': 29, 'min_samples_leaf': 2}. Best is trial 82 with value: 0.7540570699824646.\u001b[0m\n",
            "\u001b[32m[I 2021-09-03 10:46:37,670]\u001b[0m Trial 98 finished with value: 0.7491710505340348 and parameters: {'classifier': 'RandomForest', 'n_estimators': 1180, 'max_depth': 38, 'min_samples_leaf': 2}. Best is trial 82 with value: 0.7540570699824646.\u001b[0m\n",
            "\u001b[32m[I 2021-09-03 10:46:43,584]\u001b[0m Trial 99 finished with value: 0.7507811254583134 and parameters: {'classifier': 'RandomForest', 'n_estimators': 1370, 'max_depth': 20, 'min_samples_leaf': 12}. Best is trial 82 with value: 0.7540570699824646.\u001b[0m\n"
          ]
        },
        {
          "output_type": "stream",
          "name": "stdout",
          "text": [
            "Accuracy: 0.7540570699824646\n",
            "Best Hyperparamter: {'classifier': 'RandomForest', 'n_estimators': 1380, 'max_depth': 32, 'min_samples_leaf': 2}\n"
          ]
        }
      ]
    },
    {
      "cell_type": "code",
      "metadata": {
        "id": "BeIA1BCjOqyP",
        "outputId": "10d64f3c-03c6-4c8a-ed24-0281ddb7af6e",
        "colab": {
          "base_uri": "https://localhost:8080/"
        }
      },
      "source": [
        "trial\n",
        "\n"
      ],
      "execution_count": 66,
      "outputs": [
        {
          "output_type": "execute_result",
          "data": {
            "text/plain": [
              "FrozenTrial(number=82, values=[0.7540570699824646], datetime_start=datetime.datetime(2021, 9, 3, 10, 44, 56, 910245), datetime_complete=datetime.datetime(2021, 9, 3, 10, 45, 3, 226145), params={'classifier': 'RandomForest', 'n_estimators': 1380, 'max_depth': 32, 'min_samples_leaf': 2}, distributions={'classifier': CategoricalDistribution(choices=('RandomForest', 'SVC')), 'n_estimators': IntUniformDistribution(high=2000, low=200, step=10), 'max_depth': IntLogUniformDistribution(high=100, low=10, step=1), 'min_samples_leaf': IntUniformDistribution(high=12, low=2, step=10)}, user_attrs={}, system_attrs={}, intermediate_values={}, trial_id=82, state=TrialState.COMPLETE, value=None)"
            ]
          },
          "metadata": {},
          "execution_count": 66
        }
      ]
    },
    {
      "cell_type": "code",
      "metadata": {
        "id": "fTXmsYvYfPJQ",
        "outputId": "bcb5560f-b21f-4fb8-bcf9-6a84d814a602",
        "colab": {
          "base_uri": "https://localhost:8080/"
        }
      },
      "source": [
        "study.best_params"
      ],
      "execution_count": 67,
      "outputs": [
        {
          "output_type": "execute_result",
          "data": {
            "text/plain": [
              "{'classifier': 'RandomForest',\n",
              " 'max_depth': 32,\n",
              " 'min_samples_leaf': 2,\n",
              " 'n_estimators': 1380}"
            ]
          },
          "metadata": {},
          "execution_count": 67
        }
      ]
    },
    {
      "cell_type": "code",
      "metadata": {
        "id": "CmQnh9P0fTS5",
        "outputId": "2228bf5c-2414-403f-fcc9-2a5e86bbee38",
        "colab": {
          "base_uri": "https://localhost:8080/"
        }
      },
      "source": [
        "rf=RandomForestClassifier(n_estimators=1300,max_depth=32,min_samples_leaf=2)\n",
        "rf.fit(X_train,y_train)"
      ],
      "execution_count": 68,
      "outputs": [
        {
          "output_type": "execute_result",
          "data": {
            "text/plain": [
              "RandomForestClassifier(bootstrap=True, ccp_alpha=0.0, class_weight=None,\n",
              "                       criterion='gini', max_depth=32, max_features='auto',\n",
              "                       max_leaf_nodes=None, max_samples=None,\n",
              "                       min_impurity_decrease=0.0, min_impurity_split=None,\n",
              "                       min_samples_leaf=2, min_samples_split=2,\n",
              "                       min_weight_fraction_leaf=0.0, n_estimators=1300,\n",
              "                       n_jobs=None, oob_score=False, random_state=None,\n",
              "                       verbose=0, warm_start=False)"
            ]
          },
          "metadata": {},
          "execution_count": 68
        }
      ]
    },
    {
      "cell_type": "code",
      "metadata": {
        "id": "HfFd8bOtfg6M",
        "outputId": "143f7879-da74-455a-e821-12f26539ccfc",
        "colab": {
          "base_uri": "https://localhost:8080/"
        }
      },
      "source": [
        "y_pred_opt=rf.predict(X_test)\n",
        "print(confusion_matrix(y_test,y_pred_opt))\n",
        "print(accuracy_score(y_test,y_pred_opt))\n",
        "print(classification_report(y_test,y_pred))"
      ],
      "execution_count": 69,
      "outputs": [
        {
          "output_type": "stream",
          "name": "stdout",
          "text": [
            "[[96 11]\n",
            " [16 31]]\n",
            "0.8246753246753247\n",
            "              precision    recall  f1-score   support\n",
            "\n",
            "           0       0.83      0.86      0.84       107\n",
            "           1       0.65      0.60      0.62        47\n",
            "\n",
            "    accuracy                           0.78       154\n",
            "   macro avg       0.74      0.73      0.73       154\n",
            "weighted avg       0.77      0.78      0.78       154\n",
            "\n"
          ]
        }
      ]
    },
    {
      "cell_type": "code",
      "metadata": {
        "id": "k13CvzOkfzgE"
      },
      "source": [
        ""
      ],
      "execution_count": null,
      "outputs": []
    }
  ]
}