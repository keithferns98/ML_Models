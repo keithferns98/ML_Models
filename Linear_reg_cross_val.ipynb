{
  "nbformat": 4,
  "nbformat_minor": 0,
  "metadata": {
    "colab": {
      "name": "Linear_reg_cross_val.ipynb",
      "provenance": [],
      "authorship_tag": "ABX9TyMlITkIrnLxeIqri+B1ZXgM",
      "include_colab_link": true
    },
    "kernelspec": {
      "name": "python3",
      "display_name": "Python 3"
    },
    "language_info": {
      "name": "python"
    }
  },
  "cells": [
    {
      "cell_type": "markdown",
      "metadata": {
        "id": "view-in-github",
        "colab_type": "text"
      },
      "source": [
        "<a href=\"https://colab.research.google.com/github/keithferns98/ML_Models/blob/main/Linear_reg_cross_val.ipynb\" target=\"_parent\"><img src=\"https://colab.research.google.com/assets/colab-badge.svg\" alt=\"Open In Colab\"/></a>"
      ]
    },
    {
      "cell_type": "code",
      "metadata": {
        "id": "T2iMdNgrpLWS"
      },
      "source": [
        "# import all libraries\n",
        "import numpy as np\n",
        "import pandas as pd\n",
        "import matplotlib.pyplot as plt \n",
        "import seaborn as sns\n",
        "import re\n",
        "\n",
        "import sklearn\n",
        "from sklearn.model_selection import train_test_split\n",
        "from sklearn.preprocessing import MinMaxScaler\n",
        "from sklearn.preprocessing import PolynomialFeatures\n",
        "from sklearn.preprocessing import scale\n",
        "from sklearn.feature_selection import RFE\n",
        "from sklearn.linear_model import LinearRegression\n",
        "from sklearn.model_selection import cross_val_score\n",
        "from sklearn.model_selection import KFold\n",
        "from sklearn.model_selection import GridSearchCV\n",
        "from sklearn.pipeline import make_pipeline\n",
        "\n",
        "import warnings # supress warnings\n",
        "warnings.filterwarnings('ignore')"
      ],
      "execution_count": 1,
      "outputs": []
    },
    {
      "cell_type": "code",
      "metadata": {
        "colab": {
          "base_uri": "https://localhost:8080/",
          "height": 225
        },
        "id": "7MWkz5MFpPul",
        "outputId": "23dcd8d7-b736-482c-8f8b-5c8bcddec2f8"
      },
      "source": [
        "housing = pd.read_csv('Housing.csv')\n",
        "housing.head()"
      ],
      "execution_count": 2,
      "outputs": [
        {
          "output_type": "execute_result",
          "data": {
            "text/html": [
              "<div>\n",
              "<style scoped>\n",
              "    .dataframe tbody tr th:only-of-type {\n",
              "        vertical-align: middle;\n",
              "    }\n",
              "\n",
              "    .dataframe tbody tr th {\n",
              "        vertical-align: top;\n",
              "    }\n",
              "\n",
              "    .dataframe thead th {\n",
              "        text-align: right;\n",
              "    }\n",
              "</style>\n",
              "<table border=\"1\" class=\"dataframe\">\n",
              "  <thead>\n",
              "    <tr style=\"text-align: right;\">\n",
              "      <th></th>\n",
              "      <th>price</th>\n",
              "      <th>area</th>\n",
              "      <th>bedrooms</th>\n",
              "      <th>bathrooms</th>\n",
              "      <th>stories</th>\n",
              "      <th>mainroad</th>\n",
              "      <th>guestroom</th>\n",
              "      <th>basement</th>\n",
              "      <th>hotwaterheating</th>\n",
              "      <th>airconditioning</th>\n",
              "      <th>parking</th>\n",
              "      <th>prefarea</th>\n",
              "      <th>furnishingstatus</th>\n",
              "    </tr>\n",
              "  </thead>\n",
              "  <tbody>\n",
              "    <tr>\n",
              "      <th>0</th>\n",
              "      <td>13300000</td>\n",
              "      <td>7420</td>\n",
              "      <td>4</td>\n",
              "      <td>2</td>\n",
              "      <td>3</td>\n",
              "      <td>yes</td>\n",
              "      <td>no</td>\n",
              "      <td>no</td>\n",
              "      <td>no</td>\n",
              "      <td>yes</td>\n",
              "      <td>2</td>\n",
              "      <td>yes</td>\n",
              "      <td>furnished</td>\n",
              "    </tr>\n",
              "    <tr>\n",
              "      <th>1</th>\n",
              "      <td>12250000</td>\n",
              "      <td>8960</td>\n",
              "      <td>4</td>\n",
              "      <td>4</td>\n",
              "      <td>4</td>\n",
              "      <td>yes</td>\n",
              "      <td>no</td>\n",
              "      <td>no</td>\n",
              "      <td>no</td>\n",
              "      <td>yes</td>\n",
              "      <td>3</td>\n",
              "      <td>no</td>\n",
              "      <td>furnished</td>\n",
              "    </tr>\n",
              "    <tr>\n",
              "      <th>2</th>\n",
              "      <td>12250000</td>\n",
              "      <td>9960</td>\n",
              "      <td>3</td>\n",
              "      <td>2</td>\n",
              "      <td>2</td>\n",
              "      <td>yes</td>\n",
              "      <td>no</td>\n",
              "      <td>yes</td>\n",
              "      <td>no</td>\n",
              "      <td>no</td>\n",
              "      <td>2</td>\n",
              "      <td>yes</td>\n",
              "      <td>semi-furnished</td>\n",
              "    </tr>\n",
              "    <tr>\n",
              "      <th>3</th>\n",
              "      <td>12215000</td>\n",
              "      <td>7500</td>\n",
              "      <td>4</td>\n",
              "      <td>2</td>\n",
              "      <td>2</td>\n",
              "      <td>yes</td>\n",
              "      <td>no</td>\n",
              "      <td>yes</td>\n",
              "      <td>no</td>\n",
              "      <td>yes</td>\n",
              "      <td>3</td>\n",
              "      <td>yes</td>\n",
              "      <td>furnished</td>\n",
              "    </tr>\n",
              "    <tr>\n",
              "      <th>4</th>\n",
              "      <td>11410000</td>\n",
              "      <td>7420</td>\n",
              "      <td>4</td>\n",
              "      <td>1</td>\n",
              "      <td>2</td>\n",
              "      <td>yes</td>\n",
              "      <td>yes</td>\n",
              "      <td>yes</td>\n",
              "      <td>no</td>\n",
              "      <td>yes</td>\n",
              "      <td>2</td>\n",
              "      <td>no</td>\n",
              "      <td>furnished</td>\n",
              "    </tr>\n",
              "  </tbody>\n",
              "</table>\n",
              "</div>"
            ],
            "text/plain": [
              "      price  area  bedrooms  ...  parking  prefarea furnishingstatus\n",
              "0  13300000  7420         4  ...        2       yes        furnished\n",
              "1  12250000  8960         4  ...        3        no        furnished\n",
              "2  12250000  9960         3  ...        2       yes   semi-furnished\n",
              "3  12215000  7500         4  ...        3       yes        furnished\n",
              "4  11410000  7420         4  ...        2        no        furnished\n",
              "\n",
              "[5 rows x 13 columns]"
            ]
          },
          "metadata": {},
          "execution_count": 2
        }
      ]
    },
    {
      "cell_type": "code",
      "metadata": {
        "colab": {
          "base_uri": "https://localhost:8080/",
          "height": 205
        },
        "id": "SzKeaE-RpUnk",
        "outputId": "0121d7f4-15c2-4885-e7a2-a3d834bae642"
      },
      "source": [
        "# filter only area and price\n",
        "df = housing.loc[:, ['area', 'price']]\n",
        "df.head()"
      ],
      "execution_count": 3,
      "outputs": [
        {
          "output_type": "execute_result",
          "data": {
            "text/html": [
              "<div>\n",
              "<style scoped>\n",
              "    .dataframe tbody tr th:only-of-type {\n",
              "        vertical-align: middle;\n",
              "    }\n",
              "\n",
              "    .dataframe tbody tr th {\n",
              "        vertical-align: top;\n",
              "    }\n",
              "\n",
              "    .dataframe thead th {\n",
              "        text-align: right;\n",
              "    }\n",
              "</style>\n",
              "<table border=\"1\" class=\"dataframe\">\n",
              "  <thead>\n",
              "    <tr style=\"text-align: right;\">\n",
              "      <th></th>\n",
              "      <th>area</th>\n",
              "      <th>price</th>\n",
              "    </tr>\n",
              "  </thead>\n",
              "  <tbody>\n",
              "    <tr>\n",
              "      <th>0</th>\n",
              "      <td>7420</td>\n",
              "      <td>13300000</td>\n",
              "    </tr>\n",
              "    <tr>\n",
              "      <th>1</th>\n",
              "      <td>8960</td>\n",
              "      <td>12250000</td>\n",
              "    </tr>\n",
              "    <tr>\n",
              "      <th>2</th>\n",
              "      <td>9960</td>\n",
              "      <td>12250000</td>\n",
              "    </tr>\n",
              "    <tr>\n",
              "      <th>3</th>\n",
              "      <td>7500</td>\n",
              "      <td>12215000</td>\n",
              "    </tr>\n",
              "    <tr>\n",
              "      <th>4</th>\n",
              "      <td>7420</td>\n",
              "      <td>11410000</td>\n",
              "    </tr>\n",
              "  </tbody>\n",
              "</table>\n",
              "</div>"
            ],
            "text/plain": [
              "   area     price\n",
              "0  7420  13300000\n",
              "1  8960  12250000\n",
              "2  9960  12250000\n",
              "3  7500  12215000\n",
              "4  7420  11410000"
            ]
          },
          "metadata": {},
          "execution_count": 3
        }
      ]
    },
    {
      "cell_type": "code",
      "metadata": {
        "colab": {
          "base_uri": "https://localhost:8080/",
          "height": 205
        },
        "id": "wVdSBELspY22",
        "outputId": "66afe321-c228-4aca-ffb5-1921b5f0580a"
      },
      "source": [
        "# recaling the variables (both)\n",
        "df_columns = df.columns\n",
        "scaler = MinMaxScaler()\n",
        "df = scaler.fit_transform(df)\n",
        "\n",
        "# rename columns (since now its an np array)\n",
        "df = pd.DataFrame(df)\n",
        "df.columns = df_columns\n",
        "\n",
        "df.head()"
      ],
      "execution_count": 4,
      "outputs": [
        {
          "output_type": "execute_result",
          "data": {
            "text/html": [
              "<div>\n",
              "<style scoped>\n",
              "    .dataframe tbody tr th:only-of-type {\n",
              "        vertical-align: middle;\n",
              "    }\n",
              "\n",
              "    .dataframe tbody tr th {\n",
              "        vertical-align: top;\n",
              "    }\n",
              "\n",
              "    .dataframe thead th {\n",
              "        text-align: right;\n",
              "    }\n",
              "</style>\n",
              "<table border=\"1\" class=\"dataframe\">\n",
              "  <thead>\n",
              "    <tr style=\"text-align: right;\">\n",
              "      <th></th>\n",
              "      <th>area</th>\n",
              "      <th>price</th>\n",
              "    </tr>\n",
              "  </thead>\n",
              "  <tbody>\n",
              "    <tr>\n",
              "      <th>0</th>\n",
              "      <td>0.396564</td>\n",
              "      <td>1.000000</td>\n",
              "    </tr>\n",
              "    <tr>\n",
              "      <th>1</th>\n",
              "      <td>0.502405</td>\n",
              "      <td>0.909091</td>\n",
              "    </tr>\n",
              "    <tr>\n",
              "      <th>2</th>\n",
              "      <td>0.571134</td>\n",
              "      <td>0.909091</td>\n",
              "    </tr>\n",
              "    <tr>\n",
              "      <th>3</th>\n",
              "      <td>0.402062</td>\n",
              "      <td>0.906061</td>\n",
              "    </tr>\n",
              "    <tr>\n",
              "      <th>4</th>\n",
              "      <td>0.396564</td>\n",
              "      <td>0.836364</td>\n",
              "    </tr>\n",
              "  </tbody>\n",
              "</table>\n",
              "</div>"
            ],
            "text/plain": [
              "       area     price\n",
              "0  0.396564  1.000000\n",
              "1  0.502405  0.909091\n",
              "2  0.571134  0.909091\n",
              "3  0.402062  0.906061\n",
              "4  0.396564  0.836364"
            ]
          },
          "metadata": {},
          "execution_count": 4
        }
      ]
    },
    {
      "cell_type": "code",
      "metadata": {
        "colab": {
          "base_uri": "https://localhost:8080/",
          "height": 297
        },
        "id": "bQKzIFuIpki5",
        "outputId": "20edc39a-267c-4a8c-bd6e-b66505398684"
      },
      "source": [
        "# visualise area-price relationship\n",
        "sns.regplot(x=\"area\", y=\"price\", data=df, fit_reg=False)"
      ],
      "execution_count": 5,
      "outputs": [
        {
          "output_type": "execute_result",
          "data": {
            "text/plain": [
              "<matplotlib.axes._subplots.AxesSubplot at 0x7f1b888b96d0>"
            ]
          },
          "metadata": {},
          "execution_count": 5
        },
        {
          "output_type": "display_data",
          "data": {
            "image/png": "[encoded data removed]",
            "text/plain": [
              "<Figure size 432x288 with 1 Axes>"
            ]
          },
          "metadata": {
            "needs_background": "light"
          }
        }
      ]
    },
    {
      "cell_type": "code",
      "metadata": {
        "colab": {
          "base_uri": "https://localhost:8080/"
        },
        "id": "KRv-fOwgpppX",
        "outputId": "c248dc19-d22d-43d4-f34b-eb0bbcea8563"
      },
      "source": [
        "# split into train and test\n",
        "df_train, df_test = train_test_split(df, \n",
        "                                     train_size = 0.7, \n",
        "                                     test_size = 0.3, \n",
        "                                     random_state = 10)\n",
        "print(len(df_train))\n",
        "print(len(df_test))"
      ],
      "execution_count": 6,
      "outputs": [
        {
          "output_type": "stream",
          "name": "stdout",
          "text": [
            "381\n",
            "164\n"
          ]
        }
      ]
    },
    {
      "cell_type": "code",
      "metadata": {
        "id": "jE-xzNCqpvPc"
      },
      "source": [
        "# split into X and y for both train and test sets\n",
        "# reshaping is required since sklearn requires the data to be in shape\n",
        "# (n, 1), not as a series of shape (n, )\n",
        "X_train = df_train['area']\n",
        "X_train = X_train.values.reshape(-1, 1)\n",
        "y_train = df_train['price']\n",
        "\n",
        "X_test = df_test['area']\n",
        "X_test = X_test.values.reshape(-1, 1)\n",
        "y_test = df_test['price']"
      ],
      "execution_count": 7,
      "outputs": []
    },
    {
      "cell_type": "code",
      "metadata": {
        "id": "kdEKmynhp1BP"
      },
      "source": [
        "# fit multiple polynomial features\n",
        "degrees = [1, 2, 3, 6, 10, 20]\n",
        "\n",
        "# initialise y_train_pred and y_test_pred matrices to store the train and test predictions\n",
        "# each row is a data point, each column a prediction using a polynomial of some degree\n",
        "y_train_pred = np.zeros((len(X_train), len(degrees)))\n",
        "y_test_pred = np.zeros((len(X_test), len(degrees)))\n",
        "\n",
        "for i, degree in enumerate(degrees):\n",
        "    \n",
        "    # make pipeline: create features, then feed them to linear_reg model\n",
        "    model = make_pipeline(PolynomialFeatures(degree), LinearRegression())\n",
        "    model.fit(X_train, y_train)\n",
        "    \n",
        "    # predict on test and train data\n",
        "    # store the predictions of each degree in the corresponding column\n",
        "    y_train_pred[:, i] = model.predict(X_train)\n",
        "    y_test_pred[:, i] = model.predict(X_test)"
      ],
      "execution_count": 8,
      "outputs": []
    },
    {
      "cell_type": "code",
      "metadata": {
        "colab": {
          "base_uri": "https://localhost:8080/",
          "height": 499
        },
        "id": "W_Im6auFp84x",
        "outputId": "6559bb95-e695-4c25-f270-8e924bbfdd1a"
      },
      "source": [
        "plt.figure(figsize=(16,8))\n",
        "plt.subplot(121)\n",
        "plt.scatter(X_train,y_train)\n",
        "plt.yscale('log')\n",
        "plt.title('TrainData')\n",
        "for i, degree in enumerate(degrees):    \n",
        "    plt.scatter(X_train, y_train_pred[:, i], s=15, label=str(degree))\n",
        "    plt.legend(loc='upper left')\n",
        "    \n",
        "# test data\n",
        "plt.subplot(122)\n",
        "plt.scatter(X_test, y_test)\n",
        "plt.yscale('log')\n",
        "plt.title(\"Test data\")\n",
        "for i, degree in enumerate(degrees):    \n",
        "    plt.scatter(X_test, y_test_pred[:, i], label=str(degree))\n",
        "    plt.legend(loc='upper left')"
      ],
      "execution_count": 9,
      "outputs": [
        {
          "output_type": "display_data",
          "data": {
            "image/png": "[encoded data removed]",
            "text/plain": [
              "<Figure size 1152x576 with 2 Axes>"
            ]
          },
          "metadata": {
            "needs_background": "light"
          }
        }
      ]
    },
    {
      "cell_type": "code",
      "metadata": {
        "colab": {
          "base_uri": "https://localhost:8080/"
        },
        "id": "doaUG5jstITT",
        "outputId": "e46afd3c-796a-4aef-916a-9a1cc905bde9"
      },
      "source": [
        "print('r-squaredvalues \\n')\n",
        "for i,degree in enumerate(degrees):\n",
        "    train_r2=round(sklearn.metrics.r2_score(y_train,y_train_pred[:,i]),2)\n",
        "    test_r2 = round(sklearn.metrics.r2_score(y_test, y_test_pred[:, i]), 2)\n",
        "    print(\"Polynomial degree {0}: train score={1}, test score={2}\".format(degree, \n",
        "                                                                         train_r2, \n",
        "                                                                         test_r2))"
      ],
      "execution_count": 10,
      "outputs": [
        {
          "output_type": "stream",
          "name": "stdout",
          "text": [
            "r-squaredvalues \n",
            "\n",
            "Polynomial degree 1: train score=0.29, test score=0.25\n",
            "Polynomial degree 2: train score=0.34, test score=0.22\n",
            "Polynomial degree 3: train score=0.34, test score=0.22\n",
            "Polynomial degree 6: train score=0.36, test score=0.11\n",
            "Polynomial degree 10: train score=0.37, test score=-108.76\n",
            "Polynomial degree 20: train score=0.38, test score=-297146555779.79\n"
          ]
        }
      ]
    },
    {
      "cell_type": "markdown",
      "metadata": {
        "id": "bcHlBl7duMzn"
      },
      "source": [
        "1. Building a Model Without Cross-Validation\n",
        "Let's now build a multiple regression model. First, let's build a vanilla MLR model without any cross-validation etc."
      ]
    },
    {
      "cell_type": "code",
      "metadata": {
        "id": "73Oi56CZt9by"
      },
      "source": [
        "#Data Preparation\n",
        "\n",
        "binary_vars_list=['mainroad','guestroom','basement','hotwaterheating','airconditioning','prefarea']\n",
        "\n",
        "def binary_map(x):\n",
        "    return x.map({'yes':1,'no':0})\n",
        "\n",
        "housing[binary_vars_list]=housing[binary_vars_list].apply(binary_map)\n"
      ],
      "execution_count": 11,
      "outputs": []
    },
    {
      "cell_type": "code",
      "metadata": {
        "colab": {
          "base_uri": "https://localhost:8080/",
          "height": 442
        },
        "id": "zw7Sk2n4uNmO",
        "outputId": "5fab8923-bd5f-410a-e05d-cd5b2c3ece55"
      },
      "source": [
        "housing"
      ],
      "execution_count": 12,
      "outputs": [
        {
          "output_type": "execute_result",
          "data": {
            "text/html": [
              "<div>\n",
              "<style scoped>\n",
              "    .dataframe tbody tr th:only-of-type {\n",
              "        vertical-align: middle;\n",
              "    }\n",
              "\n",
              "    .dataframe tbody tr th {\n",
              "        vertical-align: top;\n",
              "    }\n",
              "\n",
              "    .dataframe thead th {\n",
              "        text-align: right;\n",
              "    }\n",
              "</style>\n",
              "<table border=\"1\" class=\"dataframe\">\n",
              "  <thead>\n",
              "    <tr style=\"text-align: right;\">\n",
              "      <th></th>\n",
              "      <th>price</th>\n",
              "      <th>area</th>\n",
              "      <th>bedrooms</th>\n",
              "      <th>bathrooms</th>\n",
              "      <th>stories</th>\n",
              "      <th>mainroad</th>\n",
              "      <th>guestroom</th>\n",
              "      <th>basement</th>\n",
              "      <th>hotwaterheating</th>\n",
              "      <th>airconditioning</th>\n",
              "      <th>parking</th>\n",
              "      <th>prefarea</th>\n",
              "      <th>furnishingstatus</th>\n",
              "    </tr>\n",
              "  </thead>\n",
              "  <tbody>\n",
              "    <tr>\n",
              "      <th>0</th>\n",
              "      <td>13300000</td>\n",
              "      <td>7420</td>\n",
              "      <td>4</td>\n",
              "      <td>2</td>\n",
              "      <td>3</td>\n",
              "      <td>1</td>\n",
              "      <td>0</td>\n",
              "      <td>0</td>\n",
              "      <td>0</td>\n",
              "      <td>1</td>\n",
              "      <td>2</td>\n",
              "      <td>1</td>\n",
              "      <td>furnished</td>\n",
              "    </tr>\n",
              "    <tr>\n",
              "      <th>1</th>\n",
              "      <td>12250000</td>\n",
              "      <td>8960</td>\n",
              "      <td>4</td>\n",
              "      <td>4</td>\n",
              "      <td>4</td>\n",
              "      <td>1</td>\n",
              "      <td>0</td>\n",
              "      <td>0</td>\n",
              "      <td>0</td>\n",
              "      <td>1</td>\n",
              "      <td>3</td>\n",
              "      <td>0</td>\n",
              "      <td>furnished</td>\n",
              "    </tr>\n",
              "    <tr>\n",
              "      <th>2</th>\n",
              "      <td>12250000</td>\n",
              "      <td>9960</td>\n",
              "      <td>3</td>\n",
              "      <td>2</td>\n",
              "      <td>2</td>\n",
              "      <td>1</td>\n",
              "      <td>0</td>\n",
              "      <td>1</td>\n",
              "      <td>0</td>\n",
              "      <td>0</td>\n",
              "      <td>2</td>\n",
              "      <td>1</td>\n",
              "      <td>semi-furnished</td>\n",
              "    </tr>\n",
              "    <tr>\n",
              "      <th>3</th>\n",
              "      <td>12215000</td>\n",
              "      <td>7500</td>\n",
              "      <td>4</td>\n",
              "      <td>2</td>\n",
              "      <td>2</td>\n",
              "      <td>1</td>\n",
              "      <td>0</td>\n",
              "      <td>1</td>\n",
              "      <td>0</td>\n",
              "      <td>1</td>\n",
              "      <td>3</td>\n",
              "      <td>1</td>\n",
              "      <td>furnished</td>\n",
              "    </tr>\n",
              "    <tr>\n",
              "      <th>4</th>\n",
              "      <td>11410000</td>\n",
              "      <td>7420</td>\n",
              "      <td>4</td>\n",
              "      <td>1</td>\n",
              "      <td>2</td>\n",
              "      <td>1</td>\n",
              "      <td>1</td>\n",
              "      <td>1</td>\n",
              "      <td>0</td>\n",
              "      <td>1</td>\n",
              "      <td>2</td>\n",
              "      <td>0</td>\n",
              "      <td>furnished</td>\n",
              "    </tr>\n",
              "    <tr>\n",
              "      <th>...</th>\n",
              "      <td>...</td>\n",
              "      <td>...</td>\n",
              "      <td>...</td>\n",
              "      <td>...</td>\n",
              "      <td>...</td>\n",
              "      <td>...</td>\n",
              "      <td>...</td>\n",
              "      <td>...</td>\n",
              "      <td>...</td>\n",
              "      <td>...</td>\n",
              "      <td>...</td>\n",
              "      <td>...</td>\n",
              "      <td>...</td>\n",
              "    </tr>\n",
              "    <tr>\n",
              "      <th>540</th>\n",
              "      <td>1820000</td>\n",
              "      <td>3000</td>\n",
              "      <td>2</td>\n",
              "      <td>1</td>\n",
              "      <td>1</td>\n",
              "      <td>1</td>\n",
              "      <td>0</td>\n",
              "      <td>1</td>\n",
              "      <td>0</td>\n",
              "      <td>0</td>\n",
              "      <td>2</td>\n",
              "      <td>0</td>\n",
              "      <td>unfurnished</td>\n",
              "    </tr>\n",
              "    <tr>\n",
              "      <th>541</th>\n",
              "      <td>1767150</td>\n",
              "      <td>2400</td>\n",
              "      <td>3</td>\n",
              "      <td>1</td>\n",
              "      <td>1</td>\n",
              "      <td>0</td>\n",
              "      <td>0</td>\n",
              "      <td>0</td>\n",
              "      <td>0</td>\n",
              "      <td>0</td>\n",
              "      <td>0</td>\n",
              "      <td>0</td>\n",
              "      <td>semi-furnished</td>\n",
              "    </tr>\n",
              "    <tr>\n",
              "      <th>542</th>\n",
              "      <td>1750000</td>\n",
              "      <td>3620</td>\n",
              "      <td>2</td>\n",
              "      <td>1</td>\n",
              "      <td>1</td>\n",
              "      <td>1</td>\n",
              "      <td>0</td>\n",
              "      <td>0</td>\n",
              "      <td>0</td>\n",
              "      <td>0</td>\n",
              "      <td>0</td>\n",
              "      <td>0</td>\n",
              "      <td>unfurnished</td>\n",
              "    </tr>\n",
              "    <tr>\n",
              "      <th>543</th>\n",
              "      <td>1750000</td>\n",
              "      <td>2910</td>\n",
              "      <td>3</td>\n",
              "      <td>1</td>\n",
              "      <td>1</td>\n",
              "      <td>0</td>\n",
              "      <td>0</td>\n",
              "      <td>0</td>\n",
              "      <td>0</td>\n",
              "      <td>0</td>\n",
              "      <td>0</td>\n",
              "      <td>0</td>\n",
              "      <td>furnished</td>\n",
              "    </tr>\n",
              "    <tr>\n",
              "      <th>544</th>\n",
              "      <td>1750000</td>\n",
              "      <td>3850</td>\n",
              "      <td>3</td>\n",
              "      <td>1</td>\n",
              "      <td>2</td>\n",
              "      <td>1</td>\n",
              "      <td>0</td>\n",
              "      <td>0</td>\n",
              "      <td>0</td>\n",
              "      <td>0</td>\n",
              "      <td>0</td>\n",
              "      <td>0</td>\n",
              "      <td>unfurnished</td>\n",
              "    </tr>\n",
              "  </tbody>\n",
              "</table>\n",
              "<p>545 rows × 13 columns</p>\n",
              "</div>"
            ],
            "text/plain": [
              "        price  area  bedrooms  ...  parking  prefarea  furnishingstatus\n",
              "0    13300000  7420         4  ...        2         1         furnished\n",
              "1    12250000  8960         4  ...        3         0         furnished\n",
              "2    12250000  9960         3  ...        2         1    semi-furnished\n",
              "3    12215000  7500         4  ...        3         1         furnished\n",
              "4    11410000  7420         4  ...        2         0         furnished\n",
              "..        ...   ...       ...  ...      ...       ...               ...\n",
              "540   1820000  3000         2  ...        2         0       unfurnished\n",
              "541   1767150  2400         3  ...        0         0    semi-furnished\n",
              "542   1750000  3620         2  ...        0         0       unfurnished\n",
              "543   1750000  2910         3  ...        0         0         furnished\n",
              "544   1750000  3850         3  ...        0         0       unfurnished\n",
              "\n",
              "[545 rows x 13 columns]"
            ]
          },
          "metadata": {},
          "execution_count": 12
        }
      ]
    },
    {
      "cell_type": "code",
      "metadata": {
        "colab": {
          "base_uri": "https://localhost:8080/",
          "height": 205
        },
        "id": "1G5m7RKTvvrD",
        "outputId": "445ce541-7c93-440a-f46d-7f16adf92386"
      },
      "source": [
        "#dummy variable\n",
        "status=pd.get_dummies(housing['furnishingstatus'],drop_first=True)\n",
        "status.head()"
      ],
      "execution_count": 13,
      "outputs": [
        {
          "output_type": "execute_result",
          "data": {
            "text/html": [
              "<div>\n",
              "<style scoped>\n",
              "    .dataframe tbody tr th:only-of-type {\n",
              "        vertical-align: middle;\n",
              "    }\n",
              "\n",
              "    .dataframe tbody tr th {\n",
              "        vertical-align: top;\n",
              "    }\n",
              "\n",
              "    .dataframe thead th {\n",
              "        text-align: right;\n",
              "    }\n",
              "</style>\n",
              "<table border=\"1\" class=\"dataframe\">\n",
              "  <thead>\n",
              "    <tr style=\"text-align: right;\">\n",
              "      <th></th>\n",
              "      <th>semi-furnished</th>\n",
              "      <th>unfurnished</th>\n",
              "    </tr>\n",
              "  </thead>\n",
              "  <tbody>\n",
              "    <tr>\n",
              "      <th>0</th>\n",
              "      <td>0</td>\n",
              "      <td>0</td>\n",
              "    </tr>\n",
              "    <tr>\n",
              "      <th>1</th>\n",
              "      <td>0</td>\n",
              "      <td>0</td>\n",
              "    </tr>\n",
              "    <tr>\n",
              "      <th>2</th>\n",
              "      <td>1</td>\n",
              "      <td>0</td>\n",
              "    </tr>\n",
              "    <tr>\n",
              "      <th>3</th>\n",
              "      <td>0</td>\n",
              "      <td>0</td>\n",
              "    </tr>\n",
              "    <tr>\n",
              "      <th>4</th>\n",
              "      <td>0</td>\n",
              "      <td>0</td>\n",
              "    </tr>\n",
              "  </tbody>\n",
              "</table>\n",
              "</div>"
            ],
            "text/plain": [
              "   semi-furnished  unfurnished\n",
              "0               0            0\n",
              "1               0            0\n",
              "2               1            0\n",
              "3               0            0\n",
              "4               0            0"
            ]
          },
          "metadata": {},
          "execution_count": 13
        }
      ]
    },
    {
      "cell_type": "code",
      "metadata": {
        "colab": {
          "base_uri": "https://localhost:8080/",
          "height": 243
        },
        "id": "_oQ8Az_3wYJG",
        "outputId": "6037428f-df02-418a-c39b-ef18223138f8"
      },
      "source": [
        "housing1=pd.concat([housing,status],axis=1)\n",
        "housing1.head()"
      ],
      "execution_count": 14,
      "outputs": [
        {
          "output_type": "execute_result",
          "data": {
            "text/html": [
              "<div>\n",
              "<style scoped>\n",
              "    .dataframe tbody tr th:only-of-type {\n",
              "        vertical-align: middle;\n",
              "    }\n",
              "\n",
              "    .dataframe tbody tr th {\n",
              "        vertical-align: top;\n",
              "    }\n",
              "\n",
              "    .dataframe thead th {\n",
              "        text-align: right;\n",
              "    }\n",
              "</style>\n",
              "<table border=\"1\" class=\"dataframe\">\n",
              "  <thead>\n",
              "    <tr style=\"text-align: right;\">\n",
              "      <th></th>\n",
              "      <th>price</th>\n",
              "      <th>area</th>\n",
              "      <th>bedrooms</th>\n",
              "      <th>bathrooms</th>\n",
              "      <th>stories</th>\n",
              "      <th>mainroad</th>\n",
              "      <th>guestroom</th>\n",
              "      <th>basement</th>\n",
              "      <th>hotwaterheating</th>\n",
              "      <th>airconditioning</th>\n",
              "      <th>parking</th>\n",
              "      <th>prefarea</th>\n",
              "      <th>furnishingstatus</th>\n",
              "      <th>semi-furnished</th>\n",
              "      <th>unfurnished</th>\n",
              "    </tr>\n",
              "  </thead>\n",
              "  <tbody>\n",
              "    <tr>\n",
              "      <th>0</th>\n",
              "      <td>13300000</td>\n",
              "      <td>7420</td>\n",
              "      <td>4</td>\n",
              "      <td>2</td>\n",
              "      <td>3</td>\n",
              "      <td>1</td>\n",
              "      <td>0</td>\n",
              "      <td>0</td>\n",
              "      <td>0</td>\n",
              "      <td>1</td>\n",
              "      <td>2</td>\n",
              "      <td>1</td>\n",
              "      <td>furnished</td>\n",
              "      <td>0</td>\n",
              "      <td>0</td>\n",
              "    </tr>\n",
              "    <tr>\n",
              "      <th>1</th>\n",
              "      <td>12250000</td>\n",
              "      <td>8960</td>\n",
              "      <td>4</td>\n",
              "      <td>4</td>\n",
              "      <td>4</td>\n",
              "      <td>1</td>\n",
              "      <td>0</td>\n",
              "      <td>0</td>\n",
              "      <td>0</td>\n",
              "      <td>1</td>\n",
              "      <td>3</td>\n",
              "      <td>0</td>\n",
              "      <td>furnished</td>\n",
              "      <td>0</td>\n",
              "      <td>0</td>\n",
              "    </tr>\n",
              "    <tr>\n",
              "      <th>2</th>\n",
              "      <td>12250000</td>\n",
              "      <td>9960</td>\n",
              "      <td>3</td>\n",
              "      <td>2</td>\n",
              "      <td>2</td>\n",
              "      <td>1</td>\n",
              "      <td>0</td>\n",
              "      <td>1</td>\n",
              "      <td>0</td>\n",
              "      <td>0</td>\n",
              "      <td>2</td>\n",
              "      <td>1</td>\n",
              "      <td>semi-furnished</td>\n",
              "      <td>1</td>\n",
              "      <td>0</td>\n",
              "    </tr>\n",
              "    <tr>\n",
              "      <th>3</th>\n",
              "      <td>12215000</td>\n",
              "      <td>7500</td>\n",
              "      <td>4</td>\n",
              "      <td>2</td>\n",
              "      <td>2</td>\n",
              "      <td>1</td>\n",
              "      <td>0</td>\n",
              "      <td>1</td>\n",
              "      <td>0</td>\n",
              "      <td>1</td>\n",
              "      <td>3</td>\n",
              "      <td>1</td>\n",
              "      <td>furnished</td>\n",
              "      <td>0</td>\n",
              "      <td>0</td>\n",
              "    </tr>\n",
              "    <tr>\n",
              "      <th>4</th>\n",
              "      <td>11410000</td>\n",
              "      <td>7420</td>\n",
              "      <td>4</td>\n",
              "      <td>1</td>\n",
              "      <td>2</td>\n",
              "      <td>1</td>\n",
              "      <td>1</td>\n",
              "      <td>1</td>\n",
              "      <td>0</td>\n",
              "      <td>1</td>\n",
              "      <td>2</td>\n",
              "      <td>0</td>\n",
              "      <td>furnished</td>\n",
              "      <td>0</td>\n",
              "      <td>0</td>\n",
              "    </tr>\n",
              "  </tbody>\n",
              "</table>\n",
              "</div>"
            ],
            "text/plain": [
              "      price  area  bedrooms  ...  furnishingstatus  semi-furnished  unfurnished\n",
              "0  13300000  7420         4  ...         furnished               0            0\n",
              "1  12250000  8960         4  ...         furnished               0            0\n",
              "2  12250000  9960         3  ...    semi-furnished               1            0\n",
              "3  12215000  7500         4  ...         furnished               0            0\n",
              "4  11410000  7420         4  ...         furnished               0            0\n",
              "\n",
              "[5 rows x 15 columns]"
            ]
          },
          "metadata": {},
          "execution_count": 14
        }
      ]
    },
    {
      "cell_type": "code",
      "metadata": {
        "colab": {
          "base_uri": "https://localhost:8080/",
          "height": 243
        },
        "id": "QLDheRODAWsl",
        "outputId": "9bb0039f-3134-4a01-8da3-2a8216f14408"
      },
      "source": [
        "housing1.drop(['furnishingstatus'],axis=1,inplace=True)\n",
        "housing1.head()"
      ],
      "execution_count": 15,
      "outputs": [
        {
          "output_type": "execute_result",
          "data": {
            "text/html": [
              "<div>\n",
              "<style scoped>\n",
              "    .dataframe tbody tr th:only-of-type {\n",
              "        vertical-align: middle;\n",
              "    }\n",
              "\n",
              "    .dataframe tbody tr th {\n",
              "        vertical-align: top;\n",
              "    }\n",
              "\n",
              "    .dataframe thead th {\n",
              "        text-align: right;\n",
              "    }\n",
              "</style>\n",
              "<table border=\"1\" class=\"dataframe\">\n",
              "  <thead>\n",
              "    <tr style=\"text-align: right;\">\n",
              "      <th></th>\n",
              "      <th>price</th>\n",
              "      <th>area</th>\n",
              "      <th>bedrooms</th>\n",
              "      <th>bathrooms</th>\n",
              "      <th>stories</th>\n",
              "      <th>mainroad</th>\n",
              "      <th>guestroom</th>\n",
              "      <th>basement</th>\n",
              "      <th>hotwaterheating</th>\n",
              "      <th>airconditioning</th>\n",
              "      <th>parking</th>\n",
              "      <th>prefarea</th>\n",
              "      <th>semi-furnished</th>\n",
              "      <th>unfurnished</th>\n",
              "    </tr>\n",
              "  </thead>\n",
              "  <tbody>\n",
              "    <tr>\n",
              "      <th>0</th>\n",
              "      <td>13300000</td>\n",
              "      <td>7420</td>\n",
              "      <td>4</td>\n",
              "      <td>2</td>\n",
              "      <td>3</td>\n",
              "      <td>1</td>\n",
              "      <td>0</td>\n",
              "      <td>0</td>\n",
              "      <td>0</td>\n",
              "      <td>1</td>\n",
              "      <td>2</td>\n",
              "      <td>1</td>\n",
              "      <td>0</td>\n",
              "      <td>0</td>\n",
              "    </tr>\n",
              "    <tr>\n",
              "      <th>1</th>\n",
              "      <td>12250000</td>\n",
              "      <td>8960</td>\n",
              "      <td>4</td>\n",
              "      <td>4</td>\n",
              "      <td>4</td>\n",
              "      <td>1</td>\n",
              "      <td>0</td>\n",
              "      <td>0</td>\n",
              "      <td>0</td>\n",
              "      <td>1</td>\n",
              "      <td>3</td>\n",
              "      <td>0</td>\n",
              "      <td>0</td>\n",
              "      <td>0</td>\n",
              "    </tr>\n",
              "    <tr>\n",
              "      <th>2</th>\n",
              "      <td>12250000</td>\n",
              "      <td>9960</td>\n",
              "      <td>3</td>\n",
              "      <td>2</td>\n",
              "      <td>2</td>\n",
              "      <td>1</td>\n",
              "      <td>0</td>\n",
              "      <td>1</td>\n",
              "      <td>0</td>\n",
              "      <td>0</td>\n",
              "      <td>2</td>\n",
              "      <td>1</td>\n",
              "      <td>1</td>\n",
              "      <td>0</td>\n",
              "    </tr>\n",
              "    <tr>\n",
              "      <th>3</th>\n",
              "      <td>12215000</td>\n",
              "      <td>7500</td>\n",
              "      <td>4</td>\n",
              "      <td>2</td>\n",
              "      <td>2</td>\n",
              "      <td>1</td>\n",
              "      <td>0</td>\n",
              "      <td>1</td>\n",
              "      <td>0</td>\n",
              "      <td>1</td>\n",
              "      <td>3</td>\n",
              "      <td>1</td>\n",
              "      <td>0</td>\n",
              "      <td>0</td>\n",
              "    </tr>\n",
              "    <tr>\n",
              "      <th>4</th>\n",
              "      <td>11410000</td>\n",
              "      <td>7420</td>\n",
              "      <td>4</td>\n",
              "      <td>1</td>\n",
              "      <td>2</td>\n",
              "      <td>1</td>\n",
              "      <td>1</td>\n",
              "      <td>1</td>\n",
              "      <td>0</td>\n",
              "      <td>1</td>\n",
              "      <td>2</td>\n",
              "      <td>0</td>\n",
              "      <td>0</td>\n",
              "      <td>0</td>\n",
              "    </tr>\n",
              "  </tbody>\n",
              "</table>\n",
              "</div>"
            ],
            "text/plain": [
              "      price  area  bedrooms  ...  prefarea  semi-furnished  unfurnished\n",
              "0  13300000  7420         4  ...         1               0            0\n",
              "1  12250000  8960         4  ...         0               0            0\n",
              "2  12250000  9960         3  ...         1               1            0\n",
              "3  12215000  7500         4  ...         1               0            0\n",
              "4  11410000  7420         4  ...         0               0            0\n",
              "\n",
              "[5 rows x 14 columns]"
            ]
          },
          "metadata": {},
          "execution_count": 15
        }
      ]
    },
    {
      "cell_type": "code",
      "metadata": {
        "colab": {
          "base_uri": "https://localhost:8080/",
          "height": 243
        },
        "id": "WQ4C1BUnAuc3",
        "outputId": "1d362a4b-e392-418a-c084-9dee38d9283d"
      },
      "source": [
        "df_train,df_test=train_test_split(housing1,train_size=0.7,test_size=0.3,random_state=100)\n",
        "scaler=MinMaxScaler()\n",
        "numeric_vars=['area','bedrooms','bathrooms','stories','parking','price']\n",
        "df_train[numeric_vars]=scaler.fit_transform(df_train[numeric_vars])\n",
        "df_train.head()"
      ],
      "execution_count": 16,
      "outputs": [
        {
          "output_type": "execute_result",
          "data": {
            "text/html": [
              "<div>\n",
              "<style scoped>\n",
              "    .dataframe tbody tr th:only-of-type {\n",
              "        vertical-align: middle;\n",
              "    }\n",
              "\n",
              "    .dataframe tbody tr th {\n",
              "        vertical-align: top;\n",
              "    }\n",
              "\n",
              "    .dataframe thead th {\n",
              "        text-align: right;\n",
              "    }\n",
              "</style>\n",
              "<table border=\"1\" class=\"dataframe\">\n",
              "  <thead>\n",
              "    <tr style=\"text-align: right;\">\n",
              "      <th></th>\n",
              "      <th>price</th>\n",
              "      <th>area</th>\n",
              "      <th>bedrooms</th>\n",
              "      <th>bathrooms</th>\n",
              "      <th>stories</th>\n",
              "      <th>mainroad</th>\n",
              "      <th>guestroom</th>\n",
              "      <th>basement</th>\n",
              "      <th>hotwaterheating</th>\n",
              "      <th>airconditioning</th>\n",
              "      <th>parking</th>\n",
              "      <th>prefarea</th>\n",
              "      <th>semi-furnished</th>\n",
              "      <th>unfurnished</th>\n",
              "    </tr>\n",
              "  </thead>\n",
              "  <tbody>\n",
              "    <tr>\n",
              "      <th>359</th>\n",
              "      <td>0.169697</td>\n",
              "      <td>0.155227</td>\n",
              "      <td>0.4</td>\n",
              "      <td>0.0</td>\n",
              "      <td>0.000000</td>\n",
              "      <td>1</td>\n",
              "      <td>0</td>\n",
              "      <td>0</td>\n",
              "      <td>0</td>\n",
              "      <td>0</td>\n",
              "      <td>0.333333</td>\n",
              "      <td>0</td>\n",
              "      <td>0</td>\n",
              "      <td>1</td>\n",
              "    </tr>\n",
              "    <tr>\n",
              "      <th>19</th>\n",
              "      <td>0.615152</td>\n",
              "      <td>0.403379</td>\n",
              "      <td>0.4</td>\n",
              "      <td>0.5</td>\n",
              "      <td>0.333333</td>\n",
              "      <td>1</td>\n",
              "      <td>0</td>\n",
              "      <td>0</td>\n",
              "      <td>0</td>\n",
              "      <td>1</td>\n",
              "      <td>0.333333</td>\n",
              "      <td>1</td>\n",
              "      <td>1</td>\n",
              "      <td>0</td>\n",
              "    </tr>\n",
              "    <tr>\n",
              "      <th>159</th>\n",
              "      <td>0.321212</td>\n",
              "      <td>0.115628</td>\n",
              "      <td>0.4</td>\n",
              "      <td>0.5</td>\n",
              "      <td>0.000000</td>\n",
              "      <td>1</td>\n",
              "      <td>1</td>\n",
              "      <td>1</td>\n",
              "      <td>0</td>\n",
              "      <td>1</td>\n",
              "      <td>0.000000</td>\n",
              "      <td>0</td>\n",
              "      <td>0</td>\n",
              "      <td>0</td>\n",
              "    </tr>\n",
              "    <tr>\n",
              "      <th>35</th>\n",
              "      <td>0.548133</td>\n",
              "      <td>0.454417</td>\n",
              "      <td>0.4</td>\n",
              "      <td>0.5</td>\n",
              "      <td>1.000000</td>\n",
              "      <td>1</td>\n",
              "      <td>0</td>\n",
              "      <td>0</td>\n",
              "      <td>0</td>\n",
              "      <td>1</td>\n",
              "      <td>0.666667</td>\n",
              "      <td>0</td>\n",
              "      <td>0</td>\n",
              "      <td>0</td>\n",
              "    </tr>\n",
              "    <tr>\n",
              "      <th>28</th>\n",
              "      <td>0.575758</td>\n",
              "      <td>0.538015</td>\n",
              "      <td>0.8</td>\n",
              "      <td>0.5</td>\n",
              "      <td>0.333333</td>\n",
              "      <td>1</td>\n",
              "      <td>0</td>\n",
              "      <td>1</td>\n",
              "      <td>1</td>\n",
              "      <td>0</td>\n",
              "      <td>0.666667</td>\n",
              "      <td>0</td>\n",
              "      <td>0</td>\n",
              "      <td>1</td>\n",
              "    </tr>\n",
              "  </tbody>\n",
              "</table>\n",
              "</div>"
            ],
            "text/plain": [
              "        price      area  bedrooms  ...  prefarea  semi-furnished  unfurnished\n",
              "359  0.169697  0.155227       0.4  ...         0               0            1\n",
              "19   0.615152  0.403379       0.4  ...         1               1            0\n",
              "159  0.321212  0.115628       0.4  ...         0               0            0\n",
              "35   0.548133  0.454417       0.4  ...         0               0            0\n",
              "28   0.575758  0.538015       0.8  ...         0               0            1\n",
              "\n",
              "[5 rows x 14 columns]"
            ]
          },
          "metadata": {},
          "execution_count": 16
        }
      ]
    },
    {
      "cell_type": "code",
      "metadata": {
        "colab": {
          "base_uri": "https://localhost:8080/",
          "height": 243
        },
        "id": "_wUcv3z-Dmfq",
        "outputId": "f33fda4c-87a4-45ee-ac80-5ecb8d9ed2c0"
      },
      "source": [
        "df_test[numeric_vars]=scaler.fit_transform(df_test[numeric_vars])\n",
        "df_test.head()"
      ],
      "execution_count": 17,
      "outputs": [
        {
          "output_type": "execute_result",
          "data": {
            "text/html": [
              "<div>\n",
              "<style scoped>\n",
              "    .dataframe tbody tr th:only-of-type {\n",
              "        vertical-align: middle;\n",
              "    }\n",
              "\n",
              "    .dataframe tbody tr th {\n",
              "        vertical-align: top;\n",
              "    }\n",
              "\n",
              "    .dataframe thead th {\n",
              "        text-align: right;\n",
              "    }\n",
              "</style>\n",
              "<table border=\"1\" class=\"dataframe\">\n",
              "  <thead>\n",
              "    <tr style=\"text-align: right;\">\n",
              "      <th></th>\n",
              "      <th>price</th>\n",
              "      <th>area</th>\n",
              "      <th>bedrooms</th>\n",
              "      <th>bathrooms</th>\n",
              "      <th>stories</th>\n",
              "      <th>mainroad</th>\n",
              "      <th>guestroom</th>\n",
              "      <th>basement</th>\n",
              "      <th>hotwaterheating</th>\n",
              "      <th>airconditioning</th>\n",
              "      <th>parking</th>\n",
              "      <th>prefarea</th>\n",
              "      <th>semi-furnished</th>\n",
              "      <th>unfurnished</th>\n",
              "    </tr>\n",
              "  </thead>\n",
              "  <tbody>\n",
              "    <tr>\n",
              "      <th>265</th>\n",
              "      <td>0.247651</td>\n",
              "      <td>0.084536</td>\n",
              "      <td>0.333333</td>\n",
              "      <td>0.000000</td>\n",
              "      <td>0.333333</td>\n",
              "      <td>1</td>\n",
              "      <td>0</td>\n",
              "      <td>0</td>\n",
              "      <td>0</td>\n",
              "      <td>0</td>\n",
              "      <td>0.000000</td>\n",
              "      <td>1</td>\n",
              "      <td>1</td>\n",
              "      <td>0</td>\n",
              "    </tr>\n",
              "    <tr>\n",
              "      <th>54</th>\n",
              "      <td>0.530201</td>\n",
              "      <td>0.298969</td>\n",
              "      <td>0.333333</td>\n",
              "      <td>0.333333</td>\n",
              "      <td>0.333333</td>\n",
              "      <td>1</td>\n",
              "      <td>1</td>\n",
              "      <td>0</td>\n",
              "      <td>0</td>\n",
              "      <td>1</td>\n",
              "      <td>0.333333</td>\n",
              "      <td>0</td>\n",
              "      <td>1</td>\n",
              "      <td>0</td>\n",
              "    </tr>\n",
              "    <tr>\n",
              "      <th>171</th>\n",
              "      <td>0.328859</td>\n",
              "      <td>0.592371</td>\n",
              "      <td>0.333333</td>\n",
              "      <td>0.000000</td>\n",
              "      <td>0.000000</td>\n",
              "      <td>1</td>\n",
              "      <td>0</td>\n",
              "      <td>0</td>\n",
              "      <td>0</td>\n",
              "      <td>0</td>\n",
              "      <td>0.333333</td>\n",
              "      <td>1</td>\n",
              "      <td>1</td>\n",
              "      <td>0</td>\n",
              "    </tr>\n",
              "    <tr>\n",
              "      <th>244</th>\n",
              "      <td>0.261745</td>\n",
              "      <td>0.252234</td>\n",
              "      <td>0.333333</td>\n",
              "      <td>0.000000</td>\n",
              "      <td>0.333333</td>\n",
              "      <td>1</td>\n",
              "      <td>1</td>\n",
              "      <td>1</td>\n",
              "      <td>0</td>\n",
              "      <td>0</td>\n",
              "      <td>0.000000</td>\n",
              "      <td>1</td>\n",
              "      <td>1</td>\n",
              "      <td>0</td>\n",
              "    </tr>\n",
              "    <tr>\n",
              "      <th>268</th>\n",
              "      <td>0.245638</td>\n",
              "      <td>0.226804</td>\n",
              "      <td>0.666667</td>\n",
              "      <td>0.000000</td>\n",
              "      <td>0.333333</td>\n",
              "      <td>1</td>\n",
              "      <td>0</td>\n",
              "      <td>0</td>\n",
              "      <td>0</td>\n",
              "      <td>1</td>\n",
              "      <td>0.000000</td>\n",
              "      <td>0</td>\n",
              "      <td>1</td>\n",
              "      <td>0</td>\n",
              "    </tr>\n",
              "  </tbody>\n",
              "</table>\n",
              "</div>"
            ],
            "text/plain": [
              "        price      area  bedrooms  ...  prefarea  semi-furnished  unfurnished\n",
              "265  0.247651  0.084536  0.333333  ...         1               1            0\n",
              "54   0.530201  0.298969  0.333333  ...         0               1            0\n",
              "171  0.328859  0.592371  0.333333  ...         1               1            0\n",
              "244  0.261745  0.252234  0.333333  ...         1               1            0\n",
              "268  0.245638  0.226804  0.666667  ...         0               1            0\n",
              "\n",
              "[5 rows x 14 columns]"
            ]
          },
          "metadata": {},
          "execution_count": 17
        }
      ]
    },
    {
      "cell_type": "code",
      "metadata": {
        "id": "b6bDfD3ND-Uo"
      },
      "source": [
        "y_train=df_train.pop('price')\n",
        "X_train=df_train\n",
        "\n",
        "y_test=df_test.pop('price')\n",
        "X_test=df_test"
      ],
      "execution_count": 18,
      "outputs": []
    },
    {
      "cell_type": "code",
      "metadata": {
        "colab": {
          "base_uri": "https://localhost:8080/"
        },
        "id": "qaU4iSAyEbMV",
        "outputId": "49307f05-a2a6-4e34-bc20-260cedac2d32"
      },
      "source": [
        "lm=LinearRegression()\n",
        "#lm.fit(X_train,y_train)\n",
        "\n",
        "rfe=RFE(lm,10)\n",
        "rfe.fit(X_train,y_train)"
      ],
      "execution_count": 19,
      "outputs": [
        {
          "output_type": "execute_result",
          "data": {
            "text/plain": [
              "RFE(estimator=LinearRegression(copy_X=True, fit_intercept=True, n_jobs=None,\n",
              "                               normalize=False),\n",
              "    n_features_to_select=10, step=1, verbose=0)"
            ]
          },
          "metadata": {},
          "execution_count": 19
        }
      ]
    },
    {
      "cell_type": "code",
      "metadata": {
        "colab": {
          "base_uri": "https://localhost:8080/"
        },
        "id": "FRSYbjCCFqqD",
        "outputId": "4b01979d-8c32-44a1-f77e-35b8d1275a74"
      },
      "source": [
        "list(zip(X_train.columns,rfe.support_,rfe.ranking_))"
      ],
      "execution_count": 20,
      "outputs": [
        {
          "output_type": "execute_result",
          "data": {
            "text/plain": [
              "[('area', True, 1),\n",
              " ('bedrooms', True, 1),\n",
              " ('bathrooms', True, 1),\n",
              " ('stories', True, 1),\n",
              " ('mainroad', True, 1),\n",
              " ('guestroom', True, 1),\n",
              " ('basement', False, 3),\n",
              " ('hotwaterheating', True, 1),\n",
              " ('airconditioning', True, 1),\n",
              " ('parking', True, 1),\n",
              " ('prefarea', True, 1),\n",
              " ('semi-furnished', False, 4),\n",
              " ('unfurnished', False, 2)]"
            ]
          },
          "metadata": {},
          "execution_count": 20
        }
      ]
    },
    {
      "cell_type": "code",
      "metadata": {
        "id": "yo18nq7xF3yj"
      },
      "source": [
        "y_pred=rfe.predict(X_test)"
      ],
      "execution_count": 21,
      "outputs": []
    },
    {
      "cell_type": "code",
      "metadata": {
        "id": "8iCK_eNUGhkK"
      },
      "source": [
        "import sklearn"
      ],
      "execution_count": 22,
      "outputs": []
    },
    {
      "cell_type": "code",
      "metadata": {
        "colab": {
          "base_uri": "https://localhost:8080/"
        },
        "id": "CMcb1cAqGODM",
        "outputId": "ce6c9c05-cfc2-4ca7-8080-9e1f039e733e"
      },
      "source": [
        "r2_score=sklearn.metrics.r2_score(y_test,y_pred)\n",
        "r2_score"
      ],
      "execution_count": 23,
      "outputs": [
        {
          "output_type": "execute_result",
          "data": {
            "text/plain": [
              "0.5812051458999574"
            ]
          },
          "metadata": {},
          "execution_count": 23
        }
      ]
    },
    {
      "cell_type": "code",
      "metadata": {
        "colab": {
          "base_uri": "https://localhost:8080/"
        },
        "id": "6F-zcOYMGdtW",
        "outputId": "52d99219-904d-4e37-ba9c-be7876c1bf22"
      },
      "source": [
        "# try with another value of RFE\n",
        "lm = LinearRegression()\n",
        "lm.fit(X_train, y_train)\n",
        "\n",
        "rfe = RFE(lm, n_features_to_select=6)             \n",
        "rfe = rfe.fit(X_train, y_train)\n",
        "\n",
        "# predict prices of X_test\n",
        "y_pred = rfe.predict(X_test)\n",
        "r2 = sklearn.metrics.r2_score(y_test, y_pred)\n",
        "print(r2)"
      ],
      "execution_count": 24,
      "outputs": [
        {
          "output_type": "stream",
          "name": "stdout",
          "text": [
            "0.5350445027578822\n"
          ]
        }
      ]
    },
    {
      "cell_type": "markdown",
      "metadata": {
        "id": "fz7AtbHTHq-K"
      },
      "source": [
        "2. Problems in the Current Approach\n",
        "In train-test split, we have three options:\n",
        "\n",
        "Simply split into train and test: But that way tuning a hyperparameter makes the model 'see' the test data (i.e. knowledge of test data leaks into the model)\n",
        "\n",
        "Split into train, validation, test sets: Then the validation data would eat into the training set\n",
        "\n",
        "Cross-validation: Split into train and test, and train multiple models by sampling the train set. Finally, just test once on the test set."
      ]
    },
    {
      "cell_type": "code",
      "metadata": {
        "colab": {
          "base_uri": "https://localhost:8080/"
        },
        "id": "epnXnNBNG0aG",
        "outputId": "39e5121b-721b-43c9-d183-65007c1dd7ab"
      },
      "source": [
        "#Cross_val_Score\n",
        "scores=cross_val_score(lm,X_train,y_train,scoring='r2',cv=5)\n",
        "scores"
      ],
      "execution_count": 25,
      "outputs": [
        {
          "output_type": "execute_result",
          "data": {
            "text/plain": [
              "array([0.6829775 , 0.69324306, 0.6762109 , 0.61782891, 0.59266171])"
            ]
          },
          "metadata": {},
          "execution_count": 25
        }
      ]
    },
    {
      "cell_type": "code",
      "metadata": {
        "id": "0HnoDJnyJTxt"
      },
      "source": [
        "#KFold CV\n",
        "kfold=KFold(n_splits=5,shuffle=True,random_state=100)\n",
        "scores=cross_val_score(lm,X_train,y_train,cv=kfold,scoring='r2')"
      ],
      "execution_count": 26,
      "outputs": []
    },
    {
      "cell_type": "code",
      "metadata": {
        "colab": {
          "base_uri": "https://localhost:8080/"
        },
        "id": "OcHgTN5iJ6OY",
        "outputId": "04c06a4d-0221-489f-ac26-c42ab6e10820"
      },
      "source": [
        "scores"
      ],
      "execution_count": 27,
      "outputs": [
        {
          "output_type": "execute_result",
          "data": {
            "text/plain": [
              "array([0.59930574, 0.71307628, 0.61325733, 0.62739077, 0.6212937 ])"
            ]
          },
          "metadata": {},
          "execution_count": 27
        }
      ]
    },
    {
      "cell_type": "code",
      "metadata": {
        "colab": {
          "base_uri": "https://localhost:8080/"
        },
        "id": "E9vMiPGkJ71i",
        "outputId": "14cad079-cc8a-48c4-8aa1-a703bebb5c3a"
      },
      "source": [
        "# can tune other metrics, such as MSE\n",
        "scores = cross_val_score(lm, X_train, y_train, scoring='neg_mean_squared_error', cv=5)\n",
        "scores"
      ],
      "execution_count": 28,
      "outputs": [
        {
          "output_type": "execute_result",
          "data": {
            "text/plain": [
              "array([-0.00806336, -0.00658776, -0.0064797 , -0.0070743 , -0.01523682])"
            ]
          },
          "metadata": {},
          "execution_count": 28
        }
      ]
    },
    {
      "cell_type": "code",
      "metadata": {
        "colab": {
          "base_uri": "https://localhost:8080/"
        },
        "id": "WShsxWmPKFZC",
        "outputId": "f80a2f19-d2ed-4d5f-c07e-e1ef5d511d28"
      },
      "source": [
        "fold=KFold(n_splits=5,shuffle=True,random_state=100)\n",
        "\n",
        "hyper_params=[{'n_features_to_select':list(range(1,14))}]\n",
        "\n",
        "#perform gridsearch cv\n",
        "\n",
        "lm = LinearRegression()\n",
        "lm.fit(X_train, y_train)\n",
        "rfe = RFE(lm) \n",
        "\n",
        "model_cv=GridSearchCV(rfe,\n",
        "                      param_grid=hyper_params,\n",
        "                      scoring='r2',\n",
        "                      verbose=1,\n",
        "                      return_train_score=True)\n",
        "model_cv.fit(X_train,y_train)"
      ],
      "execution_count": 29,
      "outputs": [
        {
          "output_type": "stream",
          "name": "stdout",
          "text": [
            "Fitting 5 folds for each of 13 candidates, totalling 65 fits\n"
          ]
        },
        {
          "output_type": "stream",
          "name": "stderr",
          "text": [
            "[Parallel(n_jobs=1)]: Using backend SequentialBackend with 1 concurrent workers.\n",
            "[Parallel(n_jobs=1)]: Done  65 out of  65 | elapsed:    0.6s finished\n"
          ]
        },
        {
          "output_type": "execute_result",
          "data": {
            "text/plain": [
              "GridSearchCV(cv=None, error_score=nan,\n",
              "             estimator=RFE(estimator=LinearRegression(copy_X=True,\n",
              "                                                      fit_intercept=True,\n",
              "                                                      n_jobs=None,\n",
              "                                                      normalize=False),\n",
              "                           n_features_to_select=None, step=1, verbose=0),\n",
              "             iid='deprecated', n_jobs=None,\n",
              "             param_grid=[{'n_features_to_select': [1, 2, 3, 4, 5, 6, 7, 8, 9,\n",
              "                                                   10, 11, 12, 13]}],\n",
              "             pre_dispatch='2*n_jobs', refit=True, return_train_score=True,\n",
              "             scoring='r2', verbose=1)"
            ]
          },
          "metadata": {},
          "execution_count": 29
        }
      ]
    },
    {
      "cell_type": "code",
      "metadata": {
        "colab": {
          "base_uri": "https://localhost:8080/"
        },
        "id": "MOvraD8GsO6c",
        "outputId": "281cdf5a-30e2-4366-8920-3694755a69b7"
      },
      "source": [
        "model_cv.best_params_"
      ],
      "execution_count": 30,
      "outputs": [
        {
          "output_type": "execute_result",
          "data": {
            "text/plain": [
              "{'n_features_to_select': 12}"
            ]
          },
          "metadata": {},
          "execution_count": 30
        }
      ]
    },
    {
      "cell_type": "code",
      "metadata": {
        "colab": {
          "base_uri": "https://localhost:8080/",
          "height": 700
        },
        "id": "sgxLptKgsXTR",
        "outputId": "2e9adacb-090f-48ba-937e-4e5b9fbd337c"
      },
      "source": [
        "cv_results=pd.DataFrame(model_cv.cv_results_)\n",
        "cv_results"
      ],
      "execution_count": 31,
      "outputs": [
        {
          "output_type": "execute_result",
          "data": {
            "text/html": [
              "<div>\n",
              "<style scoped>\n",
              "    .dataframe tbody tr th:only-of-type {\n",
              "        vertical-align: middle;\n",
              "    }\n",
              "\n",
              "    .dataframe tbody tr th {\n",
              "        vertical-align: top;\n",
              "    }\n",
              "\n",
              "    .dataframe thead th {\n",
              "        text-align: right;\n",
              "    }\n",
              "</style>\n",
              "<table border=\"1\" class=\"dataframe\">\n",
              "  <thead>\n",
              "    <tr style=\"text-align: right;\">\n",
              "      <th></th>\n",
              "      <th>mean_fit_time</th>\n",
              "      <th>std_fit_time</th>\n",
              "      <th>mean_score_time</th>\n",
              "      <th>std_score_time</th>\n",
              "      <th>param_n_features_to_select</th>\n",
              "      <th>params</th>\n",
              "      <th>split0_test_score</th>\n",
              "      <th>split1_test_score</th>\n",
              "      <th>split2_test_score</th>\n",
              "      <th>split3_test_score</th>\n",
              "      <th>split4_test_score</th>\n",
              "      <th>mean_test_score</th>\n",
              "      <th>std_test_score</th>\n",
              "      <th>rank_test_score</th>\n",
              "      <th>split0_train_score</th>\n",
              "      <th>split1_train_score</th>\n",
              "      <th>split2_train_score</th>\n",
              "      <th>split3_train_score</th>\n",
              "      <th>split4_train_score</th>\n",
              "      <th>mean_train_score</th>\n",
              "      <th>std_train_score</th>\n",
              "    </tr>\n",
              "  </thead>\n",
              "  <tbody>\n",
              "    <tr>\n",
              "      <th>0</th>\n",
              "      <td>0.012247</td>\n",
              "      <td>0.000526</td>\n",
              "      <td>0.001470</td>\n",
              "      <td>0.000068</td>\n",
              "      <td>1</td>\n",
              "      <td>{'n_features_to_select': 1}</td>\n",
              "      <td>0.332126</td>\n",
              "      <td>0.354583</td>\n",
              "      <td>0.313473</td>\n",
              "      <td>0.208356</td>\n",
              "      <td>0.193695</td>\n",
              "      <td>0.280447</td>\n",
              "      <td>0.066303</td>\n",
              "      <td>13</td>\n",
              "      <td>0.269598</td>\n",
              "      <td>0.266078</td>\n",
              "      <td>0.274238</td>\n",
              "      <td>0.293756</td>\n",
              "      <td>0.316843</td>\n",
              "      <td>0.284103</td>\n",
              "      <td>0.018961</td>\n",
              "    </tr>\n",
              "    <tr>\n",
              "      <th>1</th>\n",
              "      <td>0.010843</td>\n",
              "      <td>0.000329</td>\n",
              "      <td>0.001380</td>\n",
              "      <td>0.000048</td>\n",
              "      <td>2</td>\n",
              "      <td>{'n_features_to_select': 2}</td>\n",
              "      <td>0.564088</td>\n",
              "      <td>0.476047</td>\n",
              "      <td>0.535103</td>\n",
              "      <td>0.409265</td>\n",
              "      <td>0.386452</td>\n",
              "      <td>0.474191</td>\n",
              "      <td>0.068860</td>\n",
              "      <td>12</td>\n",
              "      <td>0.456277</td>\n",
              "      <td>0.478146</td>\n",
              "      <td>0.466582</td>\n",
              "      <td>0.489266</td>\n",
              "      <td>0.514996</td>\n",
              "      <td>0.481054</td>\n",
              "      <td>0.020255</td>\n",
              "    </tr>\n",
              "    <tr>\n",
              "      <th>2</th>\n",
              "      <td>0.011727</td>\n",
              "      <td>0.003285</td>\n",
              "      <td>0.001653</td>\n",
              "      <td>0.000691</td>\n",
              "      <td>3</td>\n",
              "      <td>{'n_features_to_select': 3}</td>\n",
              "      <td>0.547223</td>\n",
              "      <td>0.589021</td>\n",
              "      <td>0.601719</td>\n",
              "      <td>0.498255</td>\n",
              "      <td>0.464872</td>\n",
              "      <td>0.540218</td>\n",
              "      <td>0.052251</td>\n",
              "      <td>9</td>\n",
              "      <td>0.542008</td>\n",
              "      <td>0.533796</td>\n",
              "      <td>0.532540</td>\n",
              "      <td>0.551370</td>\n",
              "      <td>0.575501</td>\n",
              "      <td>0.547043</td>\n",
              "      <td>0.015746</td>\n",
              "    </tr>\n",
              "    <tr>\n",
              "      <th>3</th>\n",
              "      <td>0.008845</td>\n",
              "      <td>0.000313</td>\n",
              "      <td>0.001509</td>\n",
              "      <td>0.000304</td>\n",
              "      <td>4</td>\n",
              "      <td>{'n_features_to_select': 4}</td>\n",
              "      <td>0.581111</td>\n",
              "      <td>0.547400</td>\n",
              "      <td>0.548076</td>\n",
              "      <td>0.468244</td>\n",
              "      <td>0.461748</td>\n",
              "      <td>0.521316</td>\n",
              "      <td>0.047617</td>\n",
              "      <td>11</td>\n",
              "      <td>0.559265</td>\n",
              "      <td>0.565411</td>\n",
              "      <td>0.583286</td>\n",
              "      <td>0.563045</td>\n",
              "      <td>0.584210</td>\n",
              "      <td>0.571043</td>\n",
              "      <td>0.010561</td>\n",
              "    </tr>\n",
              "    <tr>\n",
              "      <th>4</th>\n",
              "      <td>0.007903</td>\n",
              "      <td>0.000135</td>\n",
              "      <td>0.001273</td>\n",
              "      <td>0.000074</td>\n",
              "      <td>5</td>\n",
              "      <td>{'n_features_to_select': 5}</td>\n",
              "      <td>0.591194</td>\n",
              "      <td>0.549705</td>\n",
              "      <td>0.572553</td>\n",
              "      <td>0.493925</td>\n",
              "      <td>0.470339</td>\n",
              "      <td>0.535543</td>\n",
              "      <td>0.046154</td>\n",
              "      <td>10</td>\n",
              "      <td>0.600268</td>\n",
              "      <td>0.569250</td>\n",
              "      <td>0.596139</td>\n",
              "      <td>0.602052</td>\n",
              "      <td>0.589408</td>\n",
              "      <td>0.591424</td>\n",
              "      <td>0.011909</td>\n",
              "    </tr>\n",
              "    <tr>\n",
              "      <th>5</th>\n",
              "      <td>0.007520</td>\n",
              "      <td>0.000734</td>\n",
              "      <td>0.001191</td>\n",
              "      <td>0.000024</td>\n",
              "      <td>6</td>\n",
              "      <td>{'n_features_to_select': 6}</td>\n",
              "      <td>0.611143</td>\n",
              "      <td>0.535911</td>\n",
              "      <td>0.566240</td>\n",
              "      <td>0.583399</td>\n",
              "      <td>0.512358</td>\n",
              "      <td>0.561810</td>\n",
              "      <td>0.034744</td>\n",
              "      <td>8</td>\n",
              "      <td>0.605035</td>\n",
              "      <td>0.592223</td>\n",
              "      <td>0.639119</td>\n",
              "      <td>0.636415</td>\n",
              "      <td>0.632917</td>\n",
              "      <td>0.621142</td>\n",
              "      <td>0.018926</td>\n",
              "    </tr>\n",
              "    <tr>\n",
              "      <th>6</th>\n",
              "      <td>0.006567</td>\n",
              "      <td>0.000230</td>\n",
              "      <td>0.001229</td>\n",
              "      <td>0.000106</td>\n",
              "      <td>7</td>\n",
              "      <td>{'n_features_to_select': 7}</td>\n",
              "      <td>0.660339</td>\n",
              "      <td>0.531479</td>\n",
              "      <td>0.588949</td>\n",
              "      <td>0.592931</td>\n",
              "      <td>0.533003</td>\n",
              "      <td>0.581340</td>\n",
              "      <td>0.047446</td>\n",
              "      <td>7</td>\n",
              "      <td>0.637852</td>\n",
              "      <td>0.599716</td>\n",
              "      <td>0.650758</td>\n",
              "      <td>0.638769</td>\n",
              "      <td>0.658031</td>\n",
              "      <td>0.637025</td>\n",
              "      <td>0.020127</td>\n",
              "    </tr>\n",
              "    <tr>\n",
              "      <th>7</th>\n",
              "      <td>0.005963</td>\n",
              "      <td>0.000283</td>\n",
              "      <td>0.001165</td>\n",
              "      <td>0.000062</td>\n",
              "      <td>8</td>\n",
              "      <td>{'n_features_to_select': 8}</td>\n",
              "      <td>0.665153</td>\n",
              "      <td>0.582549</td>\n",
              "      <td>0.591880</td>\n",
              "      <td>0.605447</td>\n",
              "      <td>0.568750</td>\n",
              "      <td>0.602756</td>\n",
              "      <td>0.033417</td>\n",
              "      <td>6</td>\n",
              "      <td>0.639167</td>\n",
              "      <td>0.626099</td>\n",
              "      <td>0.653133</td>\n",
              "      <td>0.658033</td>\n",
              "      <td>0.683933</td>\n",
              "      <td>0.652073</td>\n",
              "      <td>0.019457</td>\n",
              "    </tr>\n",
              "    <tr>\n",
              "      <th>8</th>\n",
              "      <td>0.005150</td>\n",
              "      <td>0.000125</td>\n",
              "      <td>0.001094</td>\n",
              "      <td>0.000040</td>\n",
              "      <td>9</td>\n",
              "      <td>{'n_features_to_select': 9}</td>\n",
              "      <td>0.692573</td>\n",
              "      <td>0.670759</td>\n",
              "      <td>0.630966</td>\n",
              "      <td>0.620179</td>\n",
              "      <td>0.585970</td>\n",
              "      <td>0.640089</td>\n",
              "      <td>0.037693</td>\n",
              "      <td>5</td>\n",
              "      <td>0.650771</td>\n",
              "      <td>0.654203</td>\n",
              "      <td>0.663114</td>\n",
              "      <td>0.666674</td>\n",
              "      <td>0.688326</td>\n",
              "      <td>0.664618</td>\n",
              "      <td>0.013182</td>\n",
              "    </tr>\n",
              "    <tr>\n",
              "      <th>9</th>\n",
              "      <td>0.004444</td>\n",
              "      <td>0.000097</td>\n",
              "      <td>0.001191</td>\n",
              "      <td>0.000059</td>\n",
              "      <td>10</td>\n",
              "      <td>{'n_features_to_select': 10}</td>\n",
              "      <td>0.681441</td>\n",
              "      <td>0.667416</td>\n",
              "      <td>0.648982</td>\n",
              "      <td>0.624969</td>\n",
              "      <td>0.589166</td>\n",
              "      <td>0.642395</td>\n",
              "      <td>0.032653</td>\n",
              "      <td>4</td>\n",
              "      <td>0.662694</td>\n",
              "      <td>0.665251</td>\n",
              "      <td>0.669401</td>\n",
              "      <td>0.674336</td>\n",
              "      <td>0.698179</td>\n",
              "      <td>0.673972</td>\n",
              "      <td>0.012730</td>\n",
              "    </tr>\n",
              "    <tr>\n",
              "      <th>10</th>\n",
              "      <td>0.003684</td>\n",
              "      <td>0.000099</td>\n",
              "      <td>0.001156</td>\n",
              "      <td>0.000023</td>\n",
              "      <td>11</td>\n",
              "      <td>{'n_features_to_select': 11}</td>\n",
              "      <td>0.692857</td>\n",
              "      <td>0.678480</td>\n",
              "      <td>0.669836</td>\n",
              "      <td>0.626938</td>\n",
              "      <td>0.578172</td>\n",
              "      <td>0.649257</td>\n",
              "      <td>0.041784</td>\n",
              "      <td>3</td>\n",
              "      <td>0.670283</td>\n",
              "      <td>0.671568</td>\n",
              "      <td>0.676257</td>\n",
              "      <td>0.684513</td>\n",
              "      <td>0.706613</td>\n",
              "      <td>0.681847</td>\n",
              "      <td>0.013350</td>\n",
              "    </tr>\n",
              "    <tr>\n",
              "      <th>11</th>\n",
              "      <td>0.003039</td>\n",
              "      <td>0.000331</td>\n",
              "      <td>0.001280</td>\n",
              "      <td>0.000275</td>\n",
              "      <td>12</td>\n",
              "      <td>{'n_features_to_select': 12}</td>\n",
              "      <td>0.694945</td>\n",
              "      <td>0.693741</td>\n",
              "      <td>0.676182</td>\n",
              "      <td>0.621139</td>\n",
              "      <td>0.583108</td>\n",
              "      <td>0.653823</td>\n",
              "      <td>0.044392</td>\n",
              "      <td>1</td>\n",
              "      <td>0.673739</td>\n",
              "      <td>0.673247</td>\n",
              "      <td>0.679309</td>\n",
              "      <td>0.689007</td>\n",
              "      <td>0.709194</td>\n",
              "      <td>0.684899</td>\n",
              "      <td>0.013406</td>\n",
              "    </tr>\n",
              "    <tr>\n",
              "      <th>12</th>\n",
              "      <td>0.002270</td>\n",
              "      <td>0.000225</td>\n",
              "      <td>0.001257</td>\n",
              "      <td>0.000202</td>\n",
              "      <td>13</td>\n",
              "      <td>{'n_features_to_select': 13}</td>\n",
              "      <td>0.682978</td>\n",
              "      <td>0.693243</td>\n",
              "      <td>0.676211</td>\n",
              "      <td>0.617829</td>\n",
              "      <td>0.592662</td>\n",
              "      <td>0.652584</td>\n",
              "      <td>0.039834</td>\n",
              "      <td>2</td>\n",
              "      <td>0.674988</td>\n",
              "      <td>0.673312</td>\n",
              "      <td>0.679320</td>\n",
              "      <td>0.689205</td>\n",
              "      <td>0.710738</td>\n",
              "      <td>0.685513</td>\n",
              "      <td>0.013769</td>\n",
              "    </tr>\n",
              "  </tbody>\n",
              "</table>\n",
              "</div>"
            ],
            "text/plain": [
              "    mean_fit_time  std_fit_time  ...  mean_train_score  std_train_score\n",
              "0        0.012247      0.000526  ...          0.284103         0.018961\n",
              "1        0.010843      0.000329  ...          0.481054         0.020255\n",
              "2        0.011727      0.003285  ...          0.547043         0.015746\n",
              "3        0.008845      0.000313  ...          0.571043         0.010561\n",
              "4        0.007903      0.000135  ...          0.591424         0.011909\n",
              "5        0.007520      0.000734  ...          0.621142         0.018926\n",
              "6        0.006567      0.000230  ...          0.637025         0.020127\n",
              "7        0.005963      0.000283  ...          0.652073         0.019457\n",
              "8        0.005150      0.000125  ...          0.664618         0.013182\n",
              "9        0.004444      0.000097  ...          0.673972         0.012730\n",
              "10       0.003684      0.000099  ...          0.681847         0.013350\n",
              "11       0.003039      0.000331  ...          0.684899         0.013406\n",
              "12       0.002270      0.000225  ...          0.685513         0.013769\n",
              "\n",
              "[13 rows x 21 columns]"
            ]
          },
          "metadata": {},
          "execution_count": 31
        }
      ]
    },
    {
      "cell_type": "code",
      "metadata": {
        "colab": {
          "base_uri": "https://localhost:8080/",
          "height": 422
        },
        "id": "ToFIA9AWsf5d",
        "outputId": "8e25aac0-3b10-46aa-9bb6-af68755805cd"
      },
      "source": [
        "plt.figure(figsize=(16,6))\n",
        "plt.plot(cv_results['param_n_features_to_select'],cv_results['mean_test_score'])\n",
        "plt.plot(cv_results['param_n_features_to_select'],cv_results['mean_train_score'])\n",
        "plt.xlabel('Number of features')\n",
        "plt.ylabel('r_squared')\n",
        "plt.title('Optimal number of Features')\n",
        "plt.legend(['test_score','train_score'],loc='upper_left')\n"
      ],
      "execution_count": 32,
      "outputs": [
        {
          "output_type": "execute_result",
          "data": {
            "text/plain": [
              "<matplotlib.legend.Legend at 0x7f1b80e98c90>"
            ]
          },
          "metadata": {},
          "execution_count": 32
        },
        {
          "output_type": "display_data",
          "data": {
            "image/png": "[encoded data removed]",
            "text/plain": [
              "<Figure size 1152x432 with 1 Axes>"
            ]
          },
          "metadata": {
            "needs_background": "light"
          }
        }
      ]
    },
    {
      "cell_type": "code",
      "metadata": {
        "id": "EWCE-Qrrt1Dx"
      },
      "source": [
        ""
      ],
      "execution_count": null,
      "outputs": []
    }
  ]
}