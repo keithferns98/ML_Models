{
  "nbformat": 4,
  "nbformat_minor": 0,
  "metadata": {
    "colab": {
      "name": "polynomial_reg.ipynb",
      "provenance": [],
      "authorship_tag": "ABX9TyO8y6hEHItQUwB8LGyxnN/B",
      "include_colab_link": true
    },
    "kernelspec": {
      "name": "python3",
      "display_name": "Python 3"
    },
    "language_info": {
      "name": "python"
    }
  },
  "cells": [
    {
      "cell_type": "markdown",
      "metadata": {
        "id": "view-in-github",
        "colab_type": "text"
      },
      "source": [
        "<a href=\"https://colab.research.google.com/github/keithferns98/ML_Models/blob/main/polynomial_reg.ipynb\" target=\"_parent\"><img src=\"https://colab.research.google.com/assets/colab-badge.svg\" alt=\"Open In Colab\"/></a>"
      ]
    },
    {
      "cell_type": "code",
      "metadata": {
        "id": "EIkW106M7boa"
      },
      "source": [
        "import numpy as np\n",
        "import matplotlib.pyplot as plt\n",
        "from sklearn.model_selection import train_test_split\n",
        "from sklearn.linear_model import LinearRegression\n",
        "from sklearn.preprocessing import PolynomialFeatures\n",
        "from sklearn.metrics import r2_score"
      ],
      "execution_count": 1,
      "outputs": []
    },
    {
      "cell_type": "code",
      "metadata": {
        "id": "9dy37vlM-Opt"
      },
      "source": [
        "a=np.random.randn(200,1)"
      ],
      "execution_count": 4,
      "outputs": []
    },
    {
      "cell_type": "code",
      "metadata": {
        "colab": {
          "base_uri": "https://localhost:8080/"
        },
        "id": "VHCAEdd8-SdV",
        "outputId": "57977e6a-6d27-42b1-b70a-d7f111c699f1"
      },
      "source": [
        "a[0]"
      ],
      "execution_count": 5,
      "outputs": [
        {
          "output_type": "execute_result",
          "data": {
            "text/plain": [
              "array([1.82978508])"
            ]
          },
          "metadata": {},
          "execution_count": 5
        }
      ]
    },
    {
      "cell_type": "code",
      "metadata": {
        "colab": {
          "base_uri": "https://localhost:8080/",
          "height": 279
        },
        "id": "PntOPvYE-cfh",
        "outputId": "c245a9cf-d661-408a-c21b-9338bab42858"
      },
      "source": [
        "X=6*np.random.randn(200,1)-3\n",
        "y = 0.8 * X**2 + 0.9*X + 2 + np.random.randn(200, 1)\n",
        "plt.plot(X, y, 'b.')\n",
        "plt.xlabel(\"X\")\n",
        "plt.ylabel(\"Y\")\n",
        "plt.show()"
      ],
      "execution_count": 9,
      "outputs": [
        {
          "output_type": "display_data",
          "data": {
            "image/png": "[encoded data removed]",
            "text/plain": [
              "<Figure size 432x288 with 1 Axes>"
            ]
          },
          "metadata": {
            "needs_background": "light"
          }
        }
      ]
    },
    {
      "cell_type": "code",
      "metadata": {
        "id": "JdpuhWPH-ekX"
      },
      "source": [
        "x_train, x_test, y_train, y_test = train_test_split(X, y, test_size=0.2, random_state=2)"
      ],
      "execution_count": 10,
      "outputs": []
    },
    {
      "cell_type": "code",
      "metadata": {
        "colab": {
          "base_uri": "https://localhost:8080/"
        },
        "id": "QpakT2ZnAFNa",
        "outputId": "ef8862a2-92f3-4476-b2f5-5c2d27d1efe3"
      },
      "source": [
        "linearR=LinearRegression()\n",
        "linearR.fit(x_train,y_train)\n",
        "y_pred=linearR.predict(x_test)\n",
        "print(r2_score(y_test,y_pred))"
      ],
      "execution_count": 11,
      "outputs": [
        {
          "output_type": "stream",
          "name": "stdout",
          "text": [
            "0.12991712528610988\n"
          ]
        }
      ]
    },
    {
      "cell_type": "code",
      "metadata": {
        "id": "FUNT4iU0Akoq"
      },
      "source": [
        "ad_r2score=1-(1-r2_score(y_test,y_pred))*((len(X)+len(y))-1)/((len(X)+len(y))-len(X)-1)"
      ],
      "execution_count": 14,
      "outputs": []
    },
    {
      "cell_type": "code",
      "metadata": {
        "colab": {
          "base_uri": "https://localhost:8080/"
        },
        "id": "dCVTIWpECO8b",
        "outputId": "76ad4eba-6a57-451b-ec4a-35946c2b9324"
      },
      "source": [
        "ad_r2score"
      ],
      "execution_count": 15,
      "outputs": [
        {
          "output_type": "execute_result",
          "data": {
            "text/plain": [
              "-0.7445380251801113"
            ]
          },
          "metadata": {},
          "execution_count": 15
        }
      ]
    },
    {
      "cell_type": "code",
      "metadata": {
        "colab": {
          "base_uri": "https://localhost:8080/"
        },
        "id": "FxXV43URCQcI",
        "outputId": "f127fce7-bf0e-4b72-a5f5-70a18042fbb8"
      },
      "source": [
        "poly=PolynomialFeatures(degree=2)\n",
        "x_train_trans=poly.fit_transform(x_train)\n",
        "x_test_trans=poly.transform(x_test)\n",
        "lr=LinearRegression()\n",
        "lr.fit(x_train_trans,y_train)\n",
        "y_pred=lr.predict(x_test_trans)\n",
        "print(r2_score(y_test,y_pred))"
      ],
      "execution_count": 16,
      "outputs": [
        {
          "output_type": "stream",
          "name": "stdout",
          "text": [
            "0.9993382203056109\n"
          ]
        }
      ]
    },
    {
      "cell_type": "code",
      "metadata": {
        "colab": {
          "base_uri": "https://localhost:8080/"
        },
        "id": "87rPbZhgEE12",
        "outputId": "e7fb6556-6d2d-4a3c-ad54-1b3fec14d0c6"
      },
      "source": [
        "print(lr.coef_)\n",
        "print(lr.intercept_)"
      ],
      "execution_count": 17,
      "outputs": [
        {
          "output_type": "stream",
          "name": "stdout",
          "text": [
            "[[0.         0.8951178  0.79772211]]\n",
            "[2.18649123]\n"
          ]
        }
      ]
    },
    {
      "cell_type": "code",
      "metadata": {
        "colab": {
          "base_uri": "https://localhost:8080/",
          "height": 279
        },
        "id": "o2yzHUcvEILx",
        "outputId": "46176bb3-558b-46c4-88ca-7336300ca9a4"
      },
      "source": [
        "X_new=np.linspace(-3,3,200).reshape(200,1)\n",
        "X_new_poly=poly.transform(X_new)\n",
        "y_new=lr.predict(X_new_poly)\n",
        "plt.plot(X_new,y_new,\"r-\",linewidth=2,label='Predictions')\n",
        "plt.plot(x_train, y_train, \"b.\",label='Training points')\n",
        "plt.plot(x_test, y_test, \"g.\",label='Testing points')\n",
        "plt.xlabel(\"X\")\n",
        "plt.ylabel(\"y\")\n",
        "plt.legend()\n",
        "plt.show()"
      ],
      "execution_count": 25,
      "outputs": [
        {
          "output_type": "display_data",
          "data": {
            "image/png": "[encoded data removed]",
            "text/plain": [
              "<Figure size 432x288 with 1 Axes>"
            ]
          },
          "metadata": {
            "needs_background": "light"
          }
        }
      ]
    },
    {
      "cell_type": "code",
      "metadata": {
        "id": "jBeIy-EzFjNU"
      },
      "source": [
        "from sklearn.preprocessing import StandardScaler\n",
        "from sklearn.pipeline import Pipeline\n",
        "def polynomial_regression(degree):\n",
        "    X_new=np.linspace(-3,3,100).reshape(100,1)\n",
        "    X_new_poly=poly.transform(X_new)\n",
        "    polybig_features=PolynomialFeatures(degree=degree,include_bias=False)\n",
        "    std_scaler=StandardScaler()\n",
        "    lin_reg=LinearRegression()\n",
        "    polynomial_regression=Pipeline([\n",
        "            ('poly_fetaures',polybig_features),\n",
        "            ('std_scaler',std_scaler),\n",
        "            ('lin_reg',lin_reg),\n",
        "    ])\n",
        "    polynomial_regression.fit(X,y)\n",
        "    y_newbig=polynomial_regression.predict(X_new)\n",
        "    plt.plot(X_new,y_newbig,'r-',label='Degrees'+str(degree),linewidth=2)\n",
        "    plt.plot()\n",
        "    plt.plot(x_train, y_train, \"b.\", linewidth=3)\n",
        "    plt.plot(x_test, y_test, \"g.\", linewidth=3)\n",
        "    plt.legend(loc=\"upper left\")\n",
        "    plt.xlabel(\"X\")\n",
        "    plt.ylabel(\"y\")\n",
        "    plt.axis([-3, 3, 0, 10])\n",
        "    plt.show()"
      ],
      "execution_count": 26,
      "outputs": []
    },
    {
      "cell_type": "code",
      "metadata": {
        "colab": {
          "base_uri": "https://localhost:8080/",
          "height": 283
        },
        "id": "eiP1PgnfMzr2",
        "outputId": "2c91570c-0762-4a3a-cf75-153a267a5488"
      },
      "source": [
        "polynomial_regression(29)"
      ],
      "execution_count": 28,
      "outputs": [
        {
          "output_type": "display_data",
          "data": {
            "image/png": "[encoded data removed]",
            "text/plain": [
              "<Figure size 432x288 with 1 Axes>"
            ]
          },
          "metadata": {
            "needs_background": "light"
          }
        }
      ]
    },
    {
      "cell_type": "code",
      "metadata": {
        "id": "yIw253R2M4Bl"
      },
      "source": [
        "x=7*np.random.randn(100,1) - 2.8\n",
        "y=7*np.random.randn(100,1) - 2.8\n",
        "z = x**2 + y**2 + 0.2*x + 0.2*y + 0.1*x*y +2 + np.random.randn(100, 1)"
      ],
      "execution_count": 29,
      "outputs": []
    },
    {
      "cell_type": "code",
      "metadata": {
        "colab": {
          "base_uri": "https://localhost:8080/",
          "height": 542
        },
        "id": "pOrsegFbQjD8",
        "outputId": "f4e967d6-2125-4e6c-f312-13ebdad98c59"
      },
      "source": [
        "import plotly.express as px\n",
        "df=px.data.iris()\n",
        "fig=px.scatter_3d(df,x=x.ravel(),y=y.ravel(),z=z.ravel())\n",
        "fig.show()"
      ],
      "execution_count": 33,
      "outputs": [
        {
          "output_type": "display_data",
          "data": {
            "text/html": [
              "<html>\n",
              "<head><meta charset=\"utf-8\" /></head>\n",
              "<body>\n",
              "    <div>\n",
              "            <script src=\"https://cdnjs.cloudflare.com/ajax/libs/mathjax/2.7.5/MathJax.js?config=TeX-AMS-MML_SVG\"></script><script type=\"text/javascript\">if (window.MathJax) {MathJax.Hub.Config({SVG: {font: \"STIX-Web\"}});}</script>\n",
              "                <script type=\"text/javascript\">window.PlotlyConfig = {MathJaxConfig: 'local'};</script>\n",
              "        <script src=\"https://cdn.plot.ly/plotly-latest.min.js\"></script>    \n",
              "            <div id=\"2bc3045d-4132-4b11-95c6-6cc7bb3ddf51\" class=\"plotly-graph-div\" style=\"height:525px; width:100%;\"></div>\n",
              "            <script type=\"text/javascript\">\n",
              "                \n",
              "                    window.PLOTLYENV=window.PLOTLYENV || {};\n",
              "                    \n",
              "                if (document.getElementById(\"2bc3045d-4132-4b11-95c6-6cc7bb3ddf51\")) {\n",
              "                    Plotly.newPlot(\n",
              "                        '2bc3045d-4132-4b11-95c6-6cc7bb3ddf51',\n",
              "                        [{\"hoverlabel\": {\"namelength\": 0}, \"hovertemplate\": \"x=%{x}<br>y=%{y}<br>z=%{z}\", \"legendgroup\": \"\", \"marker\": {\"color\": \"#636efa\", \"symbol\": \"circle\"}, \"mode\": \"markers\", \"name\": \"\", \"scene\": \"scene\", \"showlegend\": false, \"type\": \"scatter3d\", \"x\": [0.5163141111793657, -1.4479370998386794, 0.40843498385300014, 7.167066513238178, -8.838119586361593, -3.7904342769496133, 0.08866166572563339, -1.8246026950970093, -4.99360219911341, 4.451473145402383, -9.151959992768298, -5.95875559196623, -12.166052201236408, 1.141414538966941, -2.4475526748956646, -12.429662356855076, -13.947236189598158, -8.056032471283128, 0.13700305763108123, -9.397030105468323, 1.4729330733338442, -3.3795439569075545, 5.9050988995426215, -3.889185286244753, -5.783295386264347, -4.515852894218914, 3.47299359512139, 2.5311447876218107, -3.057424053973682, -7.740860920894935, -6.547487633229416, 0.14647098310666617, -4.974996443529813, -4.274117910596486, -0.09090216513277749, -11.217446324808343, -6.096053102491124, -18.769181474741977, 1.4302970723880364, 7.493742860986328, -0.37627270834848536, -2.1158090287934126, -9.679881326177684, -6.987873148412819, -16.104272815030487, -9.90918692545473, -3.6990449232275777, -11.705770157624837, -0.9753564492070146, 3.6576010965149095, -15.648104712799615, 2.372958383494849, -16.75546391662819, -11.37481292905889, 1.408051072366491, -4.12641673705995, -1.2410646049682164, 2.2464458818273068, 9.054911902636757, -4.70928405256295, 1.999476764117892, 6.233006018071676, -4.323238679401598, -6.719113905391981, -2.3751351467229926, -13.865952123176687, 1.4786916024859478, -11.386650116296106, -2.11066433287142, -0.8625657440063019, 1.8951362814104922, -7.163008521783662, -8.937037061986981, -9.232213175608567, -6.650664900277624, 1.6458231611588428, 4.703217848912391, -12.516093616845424, 2.9270908613647455, -7.956046414187773, 4.351761543783213, -5.49258272033817, 1.5539635686747468, -3.3179353522730652, 4.01624512421893, -4.636873603281358, -9.460607642849583, 6.649352512258436, 0.6689791992050251, -14.5160058514894, 0.10062746941222489, 2.561556744116726, 6.3051786694116805, -7.6873421709840155, 1.276499268978518, 8.79621221247341, -2.4263465576151297, 1.2242316730252165, -11.617062303836843, 6.330295521232043], \"y\": [-8.409930116347251, -9.21064811404754, -9.93534061066244, -0.4523780554739689, 0.08529238297722763, 1.0093250162830638, -7.812404428045611, -8.327840243320543, 10.413189523002675, 4.346197984100511, 11.543472342582259, 2.9447388640903185, -0.00695431069496788, -4.093362904284404, -8.015041325048298, 15.396642246418129, -7.486635354436943, -2.5420139877125636, 3.9575791680241723, -2.3763642109336476, -2.064520834225957, -7.67698441187628, -6.920274973196905, -11.999821284580506, -10.574745700015534, -1.5591563808074578, 2.1030194248160594, -11.713126911336904, -5.702253862237981, -11.69344456011427, 5.3850223940675095, -3.8231621728419842, 7.248265045163021, -4.940063752799407, 3.1020988112553507, -3.3003163130183917, 1.2640501600669483, 5.1540429008267195, -7.420769896619999, -7.677861148809133, 4.379069054514535, 8.368995324540514, -3.6229028892537336, -4.681487518324212, -1.262798673960205, 4.18379499472958, -4.504150772107661, -6.618553710900946, -1.1660297378575015, -1.3330132801095897, -11.267202993599824, -7.113843965078818, 6.443645329413251, -0.13973121162730795, -1.9712563111292298, 4.815225701478294, -7.575678085088621, -2.8623656980440866, -6.937134770716494, 4.640023942194518, 7.405717273955141, 3.3639507139837868, -1.8478491984359862, 8.33429017450456, -10.032635118364722, -11.240892242046662, -7.229422618593463, -0.8728835679289921, 11.512204226638438, -6.110243664492688, -7.283529364587916, -6.9418063815583695, 7.863324245469266, -10.806895019794698, 8.057626640444816, 1.9593230691016759, 5.066485419533309, 6.611469695571512, 1.2628791313640555, -13.467839087551042, -1.9892321698605775, 2.269254933455591, 4.7701438364852855, 4.823533564388545, -4.257037104122464, -0.45772158049573486, 6.581928850984505, -4.9270149339497005, -7.1565597388229305, -1.6130561035638042, 4.62777864669962, -14.527362415433235, -12.870151820004462, 7.6143386295095405, -8.691896633605818, 2.6724038295844874, -4.898064599062838, 8.648917185362183, -6.493136446316611, -4.240875146892114], \"z\": [70.88555962847836, 86.42918647376916, 97.23481570335537, 55.53884923977328, 77.74509324485557, 17.1240094106315, 61.650057554998874, 73.27325432075726, 130.59881603756995, 44.6991166174796, 208.62094266172687, 44.29829331346427, 148.03460521947352, 19.125805462384168, 71.76818968736288, 376.2681867851407, 257.510584186201, 73.25305296614343, 19.356737990623607, 95.11273238418688, 8.61939920527556, 72.45745766458263, 78.98421709699771, 163.62702419718067, 149.58801241757908, 23.710334209661934, 20.30067637479393, 139.98463512804148, 45.34634345180111, 202.81090103818647, 69.21877433348351, 18.19706568800313, 74.24348601144935, 45.10915294872641, 12.142130982948792, 140.08442921183402, 38.897683844626236, 366.8775281401507, 56.740948675742366, 111.22654012286448, 23.622608618322825, 74.58773696934362, 111.61339853589668, 73.21798549063352, 262.2875217717995, 115.5894015400865, 35.738279369051476, 188.317170634704, 4.267807599751451, 16.230548969943317, 385.0666716062398, 56.08978794681539, 312.01899126686357, 129.64789404691334, 5.9549811265519565, 39.7003763001395, 60.786731003777035, 13.83512258035923, 123.04640113594161, 42.9241775193848, 63.898776490676475, 56.383219786061716, 24.07228982832759, 110.75788600606337, 108.81830738350497, 330.6018702862887, 55.75794380022453, 130.1778809504014, 137.5784393514225, 39.694654050320466, 57.61428963925985, 102.42037952442418, 137.12715574880582, 211.84636715375015, 105.20481329168956, 9.054517285545558, 52.015427367111776, 195.41464604974232, 12.08712124354741, 254.51575734221996, 24.907415408786655, 36.17330238013513, 29.939629443834725, 32.2035122823346, 35.02535521285452, 23.580227425594423, 128.75082087260265, 66.85008797218254, 52.6924321705106, 213.39331902588006, 23.68630655441513, 213.55157293341242, 197.12772822239475, 113.52403736235479, 77.94800926632841, 92.57334030634746, 32.069826717724546, 81.92099559512586, 183.78676497344145, 57.48103959571158]}],\n",
              "                        {\"legend\": {\"tracegroupgap\": 0}, \"margin\": {\"t\": 60}, \"scene\": {\"domain\": {\"x\": [0.0, 1.0], \"y\": [0.0, 1.0]}, \"xaxis\": {\"title\": {\"text\": \"x\"}}, \"yaxis\": {\"title\": {\"text\": \"y\"}}, \"zaxis\": {\"title\": {\"text\": \"z\"}}}, \"template\": {\"data\": {\"bar\": [{\"error_x\": {\"color\": \"#2a3f5f\"}, \"error_y\": {\"color\": \"#2a3f5f\"}, \"marker\": {\"line\": {\"color\": \"#E5ECF6\", \"width\": 0.5}}, \"type\": \"bar\"}], \"barpolar\": [{\"marker\": {\"line\": {\"color\": \"#E5ECF6\", \"width\": 0.5}}, \"type\": \"barpolar\"}], \"carpet\": [{\"aaxis\": {\"endlinecolor\": \"#2a3f5f\", \"gridcolor\": \"white\", \"linecolor\": \"white\", \"minorgridcolor\": \"white\", \"startlinecolor\": \"#2a3f5f\"}, \"baxis\": {\"endlinecolor\": \"#2a3f5f\", \"gridcolor\": \"white\", \"linecolor\": \"white\", \"minorgridcolor\": \"white\", \"startlinecolor\": \"#2a3f5f\"}, \"type\": \"carpet\"}], \"choropleth\": [{\"colorbar\": {\"outlinewidth\": 0, \"ticks\": \"\"}, \"type\": \"choropleth\"}], \"contour\": [{\"colorbar\": {\"outlinewidth\": 0, \"ticks\": \"\"}, \"colorscale\": [[0.0, \"#0d0887\"], [0.1111111111111111, \"#46039f\"], [0.2222222222222222, \"#7201a8\"], [0.3333333333333333, \"#9c179e\"], [0.4444444444444444, \"#bd3786\"], [0.5555555555555556, \"#d8576b\"], [0.6666666666666666, \"#ed7953\"], [0.7777777777777778, \"#fb9f3a\"], [0.8888888888888888, \"#fdca26\"], [1.0, \"#f0f921\"]], \"type\": \"contour\"}], \"contourcarpet\": [{\"colorbar\": {\"outlinewidth\": 0, \"ticks\": \"\"}, \"type\": \"contourcarpet\"}], \"heatmap\": [{\"colorbar\": {\"outlinewidth\": 0, \"ticks\": \"\"}, \"colorscale\": [[0.0, \"#0d0887\"], [0.1111111111111111, \"#46039f\"], [0.2222222222222222, \"#7201a8\"], [0.3333333333333333, \"#9c179e\"], [0.4444444444444444, \"#bd3786\"], [0.5555555555555556, \"#d8576b\"], [0.6666666666666666, \"#ed7953\"], [0.7777777777777778, \"#fb9f3a\"], [0.8888888888888888, \"#fdca26\"], [1.0, \"#f0f921\"]], \"type\": \"heatmap\"}], \"heatmapgl\": [{\"colorbar\": {\"outlinewidth\": 0, \"ticks\": \"\"}, \"colorscale\": [[0.0, \"#0d0887\"], [0.1111111111111111, \"#46039f\"], [0.2222222222222222, \"#7201a8\"], [0.3333333333333333, \"#9c179e\"], [0.4444444444444444, \"#bd3786\"], [0.5555555555555556, \"#d8576b\"], [0.6666666666666666, \"#ed7953\"], [0.7777777777777778, \"#fb9f3a\"], [0.8888888888888888, \"#fdca26\"], [1.0, \"#f0f921\"]], \"type\": \"heatmapgl\"}], \"histogram\": [{\"marker\": {\"colorbar\": {\"outlinewidth\": 0, \"ticks\": \"\"}}, \"type\": \"histogram\"}], \"histogram2d\": [{\"colorbar\": {\"outlinewidth\": 0, \"ticks\": \"\"}, \"colorscale\": [[0.0, \"#0d0887\"], [0.1111111111111111, \"#46039f\"], [0.2222222222222222, \"#7201a8\"], [0.3333333333333333, \"#9c179e\"], [0.4444444444444444, \"#bd3786\"], [0.5555555555555556, \"#d8576b\"], [0.6666666666666666, \"#ed7953\"], [0.7777777777777778, \"#fb9f3a\"], [0.8888888888888888, \"#fdca26\"], [1.0, \"#f0f921\"]], \"type\": \"histogram2d\"}], \"histogram2dcontour\": [{\"colorbar\": {\"outlinewidth\": 0, \"ticks\": \"\"}, \"colorscale\": [[0.0, \"#0d0887\"], [0.1111111111111111, \"#46039f\"], [0.2222222222222222, \"#7201a8\"], [0.3333333333333333, \"#9c179e\"], [0.4444444444444444, \"#bd3786\"], [0.5555555555555556, \"#d8576b\"], [0.6666666666666666, \"#ed7953\"], [0.7777777777777778, \"#fb9f3a\"], [0.8888888888888888, \"#fdca26\"], [1.0, \"#f0f921\"]], \"type\": \"histogram2dcontour\"}], \"mesh3d\": [{\"colorbar\": {\"outlinewidth\": 0, \"ticks\": \"\"}, \"type\": \"mesh3d\"}], \"parcoords\": [{\"line\": {\"colorbar\": {\"outlinewidth\": 0, \"ticks\": \"\"}}, \"type\": \"parcoords\"}], \"pie\": [{\"automargin\": true, \"type\": \"pie\"}], \"scatter\": [{\"marker\": {\"colorbar\": {\"outlinewidth\": 0, \"ticks\": \"\"}}, \"type\": \"scatter\"}], \"scatter3d\": [{\"line\": {\"colorbar\": {\"outlinewidth\": 0, \"ticks\": \"\"}}, \"marker\": {\"colorbar\": {\"outlinewidth\": 0, \"ticks\": \"\"}}, \"type\": \"scatter3d\"}], \"scattercarpet\": [{\"marker\": {\"colorbar\": {\"outlinewidth\": 0, \"ticks\": \"\"}}, \"type\": \"scattercarpet\"}], \"scattergeo\": [{\"marker\": {\"colorbar\": {\"outlinewidth\": 0, \"ticks\": \"\"}}, \"type\": \"scattergeo\"}], \"scattergl\": [{\"marker\": {\"colorbar\": {\"outlinewidth\": 0, \"ticks\": \"\"}}, \"type\": \"scattergl\"}], \"scattermapbox\": [{\"marker\": {\"colorbar\": {\"outlinewidth\": 0, \"ticks\": \"\"}}, \"type\": \"scattermapbox\"}], \"scatterpolar\": [{\"marker\": {\"colorbar\": {\"outlinewidth\": 0, \"ticks\": \"\"}}, \"type\": \"scatterpolar\"}], \"scatterpolargl\": [{\"marker\": {\"colorbar\": {\"outlinewidth\": 0, \"ticks\": \"\"}}, \"type\": \"scatterpolargl\"}], \"scatterternary\": [{\"marker\": {\"colorbar\": {\"outlinewidth\": 0, \"ticks\": \"\"}}, \"type\": \"scatterternary\"}], \"surface\": [{\"colorbar\": {\"outlinewidth\": 0, \"ticks\": \"\"}, \"colorscale\": [[0.0, \"#0d0887\"], [0.1111111111111111, \"#46039f\"], [0.2222222222222222, \"#7201a8\"], [0.3333333333333333, \"#9c179e\"], [0.4444444444444444, \"#bd3786\"], [0.5555555555555556, \"#d8576b\"], [0.6666666666666666, \"#ed7953\"], [0.7777777777777778, \"#fb9f3a\"], [0.8888888888888888, \"#fdca26\"], [1.0, \"#f0f921\"]], \"type\": \"surface\"}], \"table\": [{\"cells\": {\"fill\": {\"color\": \"#EBF0F8\"}, \"line\": {\"color\": \"white\"}}, \"header\": {\"fill\": {\"color\": \"#C8D4E3\"}, \"line\": {\"color\": \"white\"}}, \"type\": \"table\"}]}, \"layout\": {\"annotationdefaults\": {\"arrowcolor\": \"#2a3f5f\", \"arrowhead\": 0, \"arrowwidth\": 1}, \"coloraxis\": {\"colorbar\": {\"outlinewidth\": 0, \"ticks\": \"\"}}, \"colorscale\": {\"diverging\": [[0, \"#8e0152\"], [0.1, \"#c51b7d\"], [0.2, \"#de77ae\"], [0.3, \"#f1b6da\"], [0.4, \"#fde0ef\"], [0.5, \"#f7f7f7\"], [0.6, \"#e6f5d0\"], [0.7, \"#b8e186\"], [0.8, \"#7fbc41\"], [0.9, \"#4d9221\"], [1, \"#276419\"]], \"sequential\": [[0.0, \"#0d0887\"], [0.1111111111111111, \"#46039f\"], [0.2222222222222222, \"#7201a8\"], [0.3333333333333333, \"#9c179e\"], [0.4444444444444444, \"#bd3786\"], [0.5555555555555556, \"#d8576b\"], [0.6666666666666666, \"#ed7953\"], [0.7777777777777778, \"#fb9f3a\"], [0.8888888888888888, \"#fdca26\"], [1.0, \"#f0f921\"]], \"sequentialminus\": [[0.0, \"#0d0887\"], [0.1111111111111111, \"#46039f\"], [0.2222222222222222, \"#7201a8\"], [0.3333333333333333, \"#9c179e\"], [0.4444444444444444, \"#bd3786\"], [0.5555555555555556, \"#d8576b\"], [0.6666666666666666, \"#ed7953\"], [0.7777777777777778, \"#fb9f3a\"], [0.8888888888888888, \"#fdca26\"], [1.0, \"#f0f921\"]]}, \"colorway\": [\"#636efa\", \"#EF553B\", \"#00cc96\", \"#ab63fa\", \"#FFA15A\", \"#19d3f3\", \"#FF6692\", \"#B6E880\", \"#FF97FF\", \"#FECB52\"], \"font\": {\"color\": \"#2a3f5f\"}, \"geo\": {\"bgcolor\": \"white\", \"lakecolor\": \"white\", \"landcolor\": \"#E5ECF6\", \"showlakes\": true, \"showland\": true, \"subunitcolor\": \"white\"}, \"hoverlabel\": {\"align\": \"left\"}, \"hovermode\": \"closest\", \"mapbox\": {\"style\": \"light\"}, \"paper_bgcolor\": \"white\", \"plot_bgcolor\": \"#E5ECF6\", \"polar\": {\"angularaxis\": {\"gridcolor\": \"white\", \"linecolor\": \"white\", \"ticks\": \"\"}, \"bgcolor\": \"#E5ECF6\", \"radialaxis\": {\"gridcolor\": \"white\", \"linecolor\": \"white\", \"ticks\": \"\"}}, \"scene\": {\"xaxis\": {\"backgroundcolor\": \"#E5ECF6\", \"gridcolor\": \"white\", \"gridwidth\": 2, \"linecolor\": \"white\", \"showbackground\": true, \"ticks\": \"\", \"zerolinecolor\": \"white\"}, \"yaxis\": {\"backgroundcolor\": \"#E5ECF6\", \"gridcolor\": \"white\", \"gridwidth\": 2, \"linecolor\": \"white\", \"showbackground\": true, \"ticks\": \"\", \"zerolinecolor\": \"white\"}, \"zaxis\": {\"backgroundcolor\": \"#E5ECF6\", \"gridcolor\": \"white\", \"gridwidth\": 2, \"linecolor\": \"white\", \"showbackground\": true, \"ticks\": \"\", \"zerolinecolor\": \"white\"}}, \"shapedefaults\": {\"line\": {\"color\": \"#2a3f5f\"}}, \"ternary\": {\"aaxis\": {\"gridcolor\": \"white\", \"linecolor\": \"white\", \"ticks\": \"\"}, \"baxis\": {\"gridcolor\": \"white\", \"linecolor\": \"white\", \"ticks\": \"\"}, \"bgcolor\": \"#E5ECF6\", \"caxis\": {\"gridcolor\": \"white\", \"linecolor\": \"white\", \"ticks\": \"\"}}, \"title\": {\"x\": 0.05}, \"xaxis\": {\"automargin\": true, \"gridcolor\": \"white\", \"linecolor\": \"white\", \"ticks\": \"\", \"title\": {\"standoff\": 15}, \"zerolinecolor\": \"white\", \"zerolinewidth\": 2}, \"yaxis\": {\"automargin\": true, \"gridcolor\": \"white\", \"linecolor\": \"white\", \"ticks\": \"\", \"title\": {\"standoff\": 15}, \"zerolinecolor\": \"white\", \"zerolinewidth\": 2}}}},\n",
              "                        {\"responsive\": true}\n",
              "                    ).then(function(){\n",
              "                            \n",
              "var gd = document.getElementById('2bc3045d-4132-4b11-95c6-6cc7bb3ddf51');\n",
              "var x = new MutationObserver(function (mutations, observer) {{\n",
              "        var display = window.getComputedStyle(gd).display;\n",
              "        if (!display || display === 'none') {{\n",
              "            console.log([gd, 'removed!']);\n",
              "            Plotly.purge(gd);\n",
              "            observer.disconnect();\n",
              "        }}\n",
              "}});\n",
              "\n",
              "// Listen for the removal of the full notebook cells\n",
              "var notebookContainer = gd.closest('#notebook-container');\n",
              "if (notebookContainer) {{\n",
              "    x.observe(notebookContainer, {childList: true});\n",
              "}}\n",
              "\n",
              "// Listen for the clearing of the current output cell\n",
              "var outputEl = gd.closest('.output');\n",
              "if (outputEl) {{\n",
              "    x.observe(outputEl, {childList: true});\n",
              "}}\n",
              "\n",
              "                        })\n",
              "                };\n",
              "                \n",
              "            </script>\n",
              "        </div>\n",
              "</body>\n",
              "</html>"
            ]
          },
          "metadata": {}
        }
      ]
    },
    {
      "cell_type": "code",
      "metadata": {
        "colab": {
          "base_uri": "https://localhost:8080/",
          "height": 542
        },
        "id": "w1I-pxFORmZi",
        "outputId": "e6dd7adc-699e-42e2-b049-f5c684be5f75"
      },
      "source": [
        "import plotly.graph_objects as go\n",
        "fig=px.scatter_3d(df,x=x.ravel(),y=y.ravel(),z=z.ravel())\n",
        "fig.add_trace(go.Surface(x=x,y=y,z=z))\n",
        "fig.show()"
      ],
      "execution_count": 36,
      "outputs": [
        {
          "output_type": "display_data",
          "data": {
            "text/html": [
              "<html>\n",
              "<head><meta charset=\"utf-8\" /></head>\n",
              "<body>\n",
              "    <div>\n",
              "            <script src=\"https://cdnjs.cloudflare.com/ajax/libs/mathjax/2.7.5/MathJax.js?config=TeX-AMS-MML_SVG\"></script><script type=\"text/javascript\">if (window.MathJax) {MathJax.Hub.Config({SVG: {font: \"STIX-Web\"}});}</script>\n",
              "                <script type=\"text/javascript\">window.PlotlyConfig = {MathJaxConfig: 'local'};</script>\n",
              "        <script src=\"https://cdn.plot.ly/plotly-latest.min.js\"></script>    \n",
              "            <div id=\"e88fe0b7-09f3-4c39-abe6-ec3624c3babc\" class=\"plotly-graph-div\" style=\"height:525px; width:100%;\"></div>\n",
              "            <script type=\"text/javascript\">\n",
              "                \n",
              "                    window.PLOTLYENV=window.PLOTLYENV || {};\n",
              "                    \n",
              "                if (document.getElementById(\"e88fe0b7-09f3-4c39-abe6-ec3624c3babc\")) {\n",
              "                    Plotly.newPlot(\n",
              "                        'e88fe0b7-09f3-4c39-abe6-ec3624c3babc',\n",
              "                        [{\"hoverlabel\": {\"namelength\": 0}, \"hovertemplate\": \"x=%{x}<br>y=%{y}<br>z=%{z}\", \"legendgroup\": \"\", \"marker\": {\"color\": \"#636efa\", \"symbol\": \"circle\"}, \"mode\": \"markers\", \"name\": \"\", \"scene\": \"scene\", \"showlegend\": false, \"type\": \"scatter3d\", \"x\": [0.5163141111793657, -1.4479370998386794, 0.40843498385300014, 7.167066513238178, -8.838119586361593, -3.7904342769496133, 0.08866166572563339, -1.8246026950970093, -4.99360219911341, 4.451473145402383, -9.151959992768298, -5.95875559196623, -12.166052201236408, 1.141414538966941, -2.4475526748956646, -12.429662356855076, -13.947236189598158, -8.056032471283128, 0.13700305763108123, -9.397030105468323, 1.4729330733338442, -3.3795439569075545, 5.9050988995426215, -3.889185286244753, -5.783295386264347, -4.515852894218914, 3.47299359512139, 2.5311447876218107, -3.057424053973682, -7.740860920894935, -6.547487633229416, 0.14647098310666617, -4.974996443529813, -4.274117910596486, -0.09090216513277749, -11.217446324808343, -6.096053102491124, -18.769181474741977, 1.4302970723880364, 7.493742860986328, -0.37627270834848536, -2.1158090287934126, -9.679881326177684, -6.987873148412819, -16.104272815030487, -9.90918692545473, -3.6990449232275777, -11.705770157624837, -0.9753564492070146, 3.6576010965149095, -15.648104712799615, 2.372958383494849, -16.75546391662819, -11.37481292905889, 1.408051072366491, -4.12641673705995, -1.2410646049682164, 2.2464458818273068, 9.054911902636757, -4.70928405256295, 1.999476764117892, 6.233006018071676, -4.323238679401598, -6.719113905391981, -2.3751351467229926, -13.865952123176687, 1.4786916024859478, -11.386650116296106, -2.11066433287142, -0.8625657440063019, 1.8951362814104922, -7.163008521783662, -8.937037061986981, -9.232213175608567, -6.650664900277624, 1.6458231611588428, 4.703217848912391, -12.516093616845424, 2.9270908613647455, -7.956046414187773, 4.351761543783213, -5.49258272033817, 1.5539635686747468, -3.3179353522730652, 4.01624512421893, -4.636873603281358, -9.460607642849583, 6.649352512258436, 0.6689791992050251, -14.5160058514894, 0.10062746941222489, 2.561556744116726, 6.3051786694116805, -7.6873421709840155, 1.276499268978518, 8.79621221247341, -2.4263465576151297, 1.2242316730252165, -11.617062303836843, 6.330295521232043], \"y\": [-8.409930116347251, -9.21064811404754, -9.93534061066244, -0.4523780554739689, 0.08529238297722763, 1.0093250162830638, -7.812404428045611, -8.327840243320543, 10.413189523002675, 4.346197984100511, 11.543472342582259, 2.9447388640903185, -0.00695431069496788, -4.093362904284404, -8.015041325048298, 15.396642246418129, -7.486635354436943, -2.5420139877125636, 3.9575791680241723, -2.3763642109336476, -2.064520834225957, -7.67698441187628, -6.920274973196905, -11.999821284580506, -10.574745700015534, -1.5591563808074578, 2.1030194248160594, -11.713126911336904, -5.702253862237981, -11.69344456011427, 5.3850223940675095, -3.8231621728419842, 7.248265045163021, -4.940063752799407, 3.1020988112553507, -3.3003163130183917, 1.2640501600669483, 5.1540429008267195, -7.420769896619999, -7.677861148809133, 4.379069054514535, 8.368995324540514, -3.6229028892537336, -4.681487518324212, -1.262798673960205, 4.18379499472958, -4.504150772107661, -6.618553710900946, -1.1660297378575015, -1.3330132801095897, -11.267202993599824, -7.113843965078818, 6.443645329413251, -0.13973121162730795, -1.9712563111292298, 4.815225701478294, -7.575678085088621, -2.8623656980440866, -6.937134770716494, 4.640023942194518, 7.405717273955141, 3.3639507139837868, -1.8478491984359862, 8.33429017450456, -10.032635118364722, -11.240892242046662, -7.229422618593463, -0.8728835679289921, 11.512204226638438, -6.110243664492688, -7.283529364587916, -6.9418063815583695, 7.863324245469266, -10.806895019794698, 8.057626640444816, 1.9593230691016759, 5.066485419533309, 6.611469695571512, 1.2628791313640555, -13.467839087551042, -1.9892321698605775, 2.269254933455591, 4.7701438364852855, 4.823533564388545, -4.257037104122464, -0.45772158049573486, 6.581928850984505, -4.9270149339497005, -7.1565597388229305, -1.6130561035638042, 4.62777864669962, -14.527362415433235, -12.870151820004462, 7.6143386295095405, -8.691896633605818, 2.6724038295844874, -4.898064599062838, 8.648917185362183, -6.493136446316611, -4.240875146892114], \"z\": [70.88555962847836, 86.42918647376916, 97.23481570335537, 55.53884923977328, 77.74509324485557, 17.1240094106315, 61.650057554998874, 73.27325432075726, 130.59881603756995, 44.6991166174796, 208.62094266172687, 44.29829331346427, 148.03460521947352, 19.125805462384168, 71.76818968736288, 376.2681867851407, 257.510584186201, 73.25305296614343, 19.356737990623607, 95.11273238418688, 8.61939920527556, 72.45745766458263, 78.98421709699771, 163.62702419718067, 149.58801241757908, 23.710334209661934, 20.30067637479393, 139.98463512804148, 45.34634345180111, 202.81090103818647, 69.21877433348351, 18.19706568800313, 74.24348601144935, 45.10915294872641, 12.142130982948792, 140.08442921183402, 38.897683844626236, 366.8775281401507, 56.740948675742366, 111.22654012286448, 23.622608618322825, 74.58773696934362, 111.61339853589668, 73.21798549063352, 262.2875217717995, 115.5894015400865, 35.738279369051476, 188.317170634704, 4.267807599751451, 16.230548969943317, 385.0666716062398, 56.08978794681539, 312.01899126686357, 129.64789404691334, 5.9549811265519565, 39.7003763001395, 60.786731003777035, 13.83512258035923, 123.04640113594161, 42.9241775193848, 63.898776490676475, 56.383219786061716, 24.07228982832759, 110.75788600606337, 108.81830738350497, 330.6018702862887, 55.75794380022453, 130.1778809504014, 137.5784393514225, 39.694654050320466, 57.61428963925985, 102.42037952442418, 137.12715574880582, 211.84636715375015, 105.20481329168956, 9.054517285545558, 52.015427367111776, 195.41464604974232, 12.08712124354741, 254.51575734221996, 24.907415408786655, 36.17330238013513, 29.939629443834725, 32.2035122823346, 35.02535521285452, 23.580227425594423, 128.75082087260265, 66.85008797218254, 52.6924321705106, 213.39331902588006, 23.68630655441513, 213.55157293341242, 197.12772822239475, 113.52403736235479, 77.94800926632841, 92.57334030634746, 32.069826717724546, 81.92099559512586, 183.78676497344145, 57.48103959571158]}, {\"type\": \"surface\", \"x\": [[0.5163141111793657], [-1.4479370998386794], [0.40843498385300014], [7.167066513238178], [-8.838119586361593], [-3.7904342769496133], [0.08866166572563339], [-1.8246026950970093], [-4.99360219911341], [4.451473145402383], [-9.151959992768298], [-5.95875559196623], [-12.166052201236408], [1.141414538966941], [-2.4475526748956646], [-12.429662356855076], [-13.947236189598158], [-8.056032471283128], [0.13700305763108123], [-9.397030105468323], [1.4729330733338442], [-3.3795439569075545], [5.9050988995426215], [-3.889185286244753], [-5.783295386264347], [-4.515852894218914], [3.47299359512139], [2.5311447876218107], [-3.057424053973682], [-7.740860920894935], [-6.547487633229416], [0.14647098310666617], [-4.974996443529813], [-4.274117910596486], [-0.09090216513277749], [-11.217446324808343], [-6.096053102491124], [-18.769181474741977], [1.4302970723880364], [7.493742860986328], [-0.37627270834848536], [-2.1158090287934126], [-9.679881326177684], [-6.987873148412819], [-16.104272815030487], [-9.90918692545473], [-3.6990449232275777], [-11.705770157624837], [-0.9753564492070146], [3.6576010965149095], [-15.648104712799615], [2.372958383494849], [-16.75546391662819], [-11.37481292905889], [1.408051072366491], [-4.12641673705995], [-1.2410646049682164], [2.2464458818273068], [9.054911902636757], [-4.70928405256295], [1.999476764117892], [6.233006018071676], [-4.323238679401598], [-6.719113905391981], [-2.3751351467229926], [-13.865952123176687], [1.4786916024859478], [-11.386650116296106], [-2.11066433287142], [-0.8625657440063019], [1.8951362814104922], [-7.163008521783662], [-8.937037061986981], [-9.232213175608567], [-6.650664900277624], [1.6458231611588428], [4.703217848912391], [-12.516093616845424], [2.9270908613647455], [-7.956046414187773], [4.351761543783213], [-5.49258272033817], [1.5539635686747468], [-3.3179353522730652], [4.01624512421893], [-4.636873603281358], [-9.460607642849583], [6.649352512258436], [0.6689791992050251], [-14.5160058514894], [0.10062746941222489], [2.561556744116726], [6.3051786694116805], [-7.6873421709840155], [1.276499268978518], [8.79621221247341], [-2.4263465576151297], [1.2242316730252165], [-11.617062303836843], [6.330295521232043]], \"y\": [[-8.409930116347251], [-9.21064811404754], [-9.93534061066244], [-0.4523780554739689], [0.08529238297722763], [1.0093250162830638], [-7.812404428045611], [-8.327840243320543], [10.413189523002675], [4.346197984100511], [11.543472342582259], [2.9447388640903185], [-0.00695431069496788], [-4.093362904284404], [-8.015041325048298], [15.396642246418129], [-7.486635354436943], [-2.5420139877125636], [3.9575791680241723], [-2.3763642109336476], [-2.064520834225957], [-7.67698441187628], [-6.920274973196905], [-11.999821284580506], [-10.574745700015534], [-1.5591563808074578], [2.1030194248160594], [-11.713126911336904], [-5.702253862237981], [-11.69344456011427], [5.3850223940675095], [-3.8231621728419842], [7.248265045163021], [-4.940063752799407], [3.1020988112553507], [-3.3003163130183917], [1.2640501600669483], [5.1540429008267195], [-7.420769896619999], [-7.677861148809133], [4.379069054514535], [8.368995324540514], [-3.6229028892537336], [-4.681487518324212], [-1.262798673960205], [4.18379499472958], [-4.504150772107661], [-6.618553710900946], [-1.1660297378575015], [-1.3330132801095897], [-11.267202993599824], [-7.113843965078818], [6.443645329413251], [-0.13973121162730795], [-1.9712563111292298], [4.815225701478294], [-7.575678085088621], [-2.8623656980440866], [-6.937134770716494], [4.640023942194518], [7.405717273955141], [3.3639507139837868], [-1.8478491984359862], [8.33429017450456], [-10.032635118364722], [-11.240892242046662], [-7.229422618593463], [-0.8728835679289921], [11.512204226638438], [-6.110243664492688], [-7.283529364587916], [-6.9418063815583695], [7.863324245469266], [-10.806895019794698], [8.057626640444816], [1.9593230691016759], [5.066485419533309], [6.611469695571512], [1.2628791313640555], [-13.467839087551042], [-1.9892321698605775], [2.269254933455591], [4.7701438364852855], [4.823533564388545], [-4.257037104122464], [-0.45772158049573486], [6.581928850984505], [-4.9270149339497005], [-7.1565597388229305], [-1.6130561035638042], [4.62777864669962], [-14.527362415433235], [-12.870151820004462], [7.6143386295095405], [-8.691896633605818], [2.6724038295844874], [-4.898064599062838], [8.648917185362183], [-6.493136446316611], [-4.240875146892114]], \"z\": [[70.88555962847836], [86.42918647376916], [97.23481570335537], [55.53884923977328], [77.74509324485557], [17.1240094106315], [61.650057554998874], [73.27325432075726], [130.59881603756995], [44.6991166174796], [208.62094266172687], [44.29829331346427], [148.03460521947352], [19.125805462384168], [71.76818968736288], [376.2681867851407], [257.510584186201], [73.25305296614343], [19.356737990623607], [95.11273238418688], [8.61939920527556], [72.45745766458263], [78.98421709699771], [163.62702419718067], [149.58801241757908], [23.710334209661934], [20.30067637479393], [139.98463512804148], [45.34634345180111], [202.81090103818647], [69.21877433348351], [18.19706568800313], [74.24348601144935], [45.10915294872641], [12.142130982948792], [140.08442921183402], [38.897683844626236], [366.8775281401507], [56.740948675742366], [111.22654012286448], [23.622608618322825], [74.58773696934362], [111.61339853589668], [73.21798549063352], [262.2875217717995], [115.5894015400865], [35.738279369051476], [188.317170634704], [4.267807599751451], [16.230548969943317], [385.0666716062398], [56.08978794681539], [312.01899126686357], [129.64789404691334], [5.9549811265519565], [39.7003763001395], [60.786731003777035], [13.83512258035923], [123.04640113594161], [42.9241775193848], [63.898776490676475], [56.383219786061716], [24.07228982832759], [110.75788600606337], [108.81830738350497], [330.6018702862887], [55.75794380022453], [130.1778809504014], [137.5784393514225], [39.694654050320466], [57.61428963925985], [102.42037952442418], [137.12715574880582], [211.84636715375015], [105.20481329168956], [9.054517285545558], [52.015427367111776], [195.41464604974232], [12.08712124354741], [254.51575734221996], [24.907415408786655], [36.17330238013513], [29.939629443834725], [32.2035122823346], [35.02535521285452], [23.580227425594423], [128.75082087260265], [66.85008797218254], [52.6924321705106], [213.39331902588006], [23.68630655441513], [213.55157293341242], [197.12772822239475], [113.52403736235479], [77.94800926632841], [92.57334030634746], [32.069826717724546], [81.92099559512586], [183.78676497344145], [57.48103959571158]]}],\n",
              "                        {\"legend\": {\"tracegroupgap\": 0}, \"margin\": {\"t\": 60}, \"scene\": {\"domain\": {\"x\": [0.0, 1.0], \"y\": [0.0, 1.0]}, \"xaxis\": {\"title\": {\"text\": \"x\"}}, \"yaxis\": {\"title\": {\"text\": \"y\"}}, \"zaxis\": {\"title\": {\"text\": \"z\"}}}, \"template\": {\"data\": {\"bar\": [{\"error_x\": {\"color\": \"#2a3f5f\"}, \"error_y\": {\"color\": \"#2a3f5f\"}, \"marker\": {\"line\": {\"color\": \"#E5ECF6\", \"width\": 0.5}}, \"type\": \"bar\"}], \"barpolar\": [{\"marker\": {\"line\": {\"color\": \"#E5ECF6\", \"width\": 0.5}}, \"type\": \"barpolar\"}], \"carpet\": [{\"aaxis\": {\"endlinecolor\": \"#2a3f5f\", \"gridcolor\": \"white\", \"linecolor\": \"white\", \"minorgridcolor\": \"white\", \"startlinecolor\": \"#2a3f5f\"}, \"baxis\": {\"endlinecolor\": \"#2a3f5f\", \"gridcolor\": \"white\", \"linecolor\": \"white\", \"minorgridcolor\": \"white\", \"startlinecolor\": \"#2a3f5f\"}, \"type\": \"carpet\"}], \"choropleth\": [{\"colorbar\": {\"outlinewidth\": 0, \"ticks\": \"\"}, \"type\": \"choropleth\"}], \"contour\": [{\"colorbar\": {\"outlinewidth\": 0, \"ticks\": \"\"}, \"colorscale\": [[0.0, \"#0d0887\"], [0.1111111111111111, \"#46039f\"], [0.2222222222222222, \"#7201a8\"], [0.3333333333333333, \"#9c179e\"], [0.4444444444444444, \"#bd3786\"], [0.5555555555555556, \"#d8576b\"], [0.6666666666666666, \"#ed7953\"], [0.7777777777777778, \"#fb9f3a\"], [0.8888888888888888, \"#fdca26\"], [1.0, \"#f0f921\"]], \"type\": \"contour\"}], \"contourcarpet\": [{\"colorbar\": {\"outlinewidth\": 0, \"ticks\": \"\"}, \"type\": \"contourcarpet\"}], \"heatmap\": [{\"colorbar\": {\"outlinewidth\": 0, \"ticks\": \"\"}, \"colorscale\": [[0.0, \"#0d0887\"], [0.1111111111111111, \"#46039f\"], [0.2222222222222222, \"#7201a8\"], [0.3333333333333333, \"#9c179e\"], [0.4444444444444444, \"#bd3786\"], [0.5555555555555556, \"#d8576b\"], [0.6666666666666666, \"#ed7953\"], [0.7777777777777778, \"#fb9f3a\"], [0.8888888888888888, \"#fdca26\"], [1.0, \"#f0f921\"]], \"type\": \"heatmap\"}], \"heatmapgl\": [{\"colorbar\": {\"outlinewidth\": 0, \"ticks\": \"\"}, \"colorscale\": [[0.0, \"#0d0887\"], [0.1111111111111111, \"#46039f\"], [0.2222222222222222, \"#7201a8\"], [0.3333333333333333, \"#9c179e\"], [0.4444444444444444, \"#bd3786\"], [0.5555555555555556, \"#d8576b\"], [0.6666666666666666, \"#ed7953\"], [0.7777777777777778, \"#fb9f3a\"], [0.8888888888888888, \"#fdca26\"], [1.0, \"#f0f921\"]], \"type\": \"heatmapgl\"}], \"histogram\": [{\"marker\": {\"colorbar\": {\"outlinewidth\": 0, \"ticks\": \"\"}}, \"type\": \"histogram\"}], \"histogram2d\": [{\"colorbar\": {\"outlinewidth\": 0, \"ticks\": \"\"}, \"colorscale\": [[0.0, \"#0d0887\"], [0.1111111111111111, \"#46039f\"], [0.2222222222222222, \"#7201a8\"], [0.3333333333333333, \"#9c179e\"], [0.4444444444444444, \"#bd3786\"], [0.5555555555555556, \"#d8576b\"], [0.6666666666666666, \"#ed7953\"], [0.7777777777777778, \"#fb9f3a\"], [0.8888888888888888, \"#fdca26\"], [1.0, \"#f0f921\"]], \"type\": \"histogram2d\"}], \"histogram2dcontour\": [{\"colorbar\": {\"outlinewidth\": 0, \"ticks\": \"\"}, \"colorscale\": [[0.0, \"#0d0887\"], [0.1111111111111111, \"#46039f\"], [0.2222222222222222, \"#7201a8\"], [0.3333333333333333, \"#9c179e\"], [0.4444444444444444, \"#bd3786\"], [0.5555555555555556, \"#d8576b\"], [0.6666666666666666, \"#ed7953\"], [0.7777777777777778, \"#fb9f3a\"], [0.8888888888888888, \"#fdca26\"], [1.0, \"#f0f921\"]], \"type\": \"histogram2dcontour\"}], \"mesh3d\": [{\"colorbar\": {\"outlinewidth\": 0, \"ticks\": \"\"}, \"type\": \"mesh3d\"}], \"parcoords\": [{\"line\": {\"colorbar\": {\"outlinewidth\": 0, \"ticks\": \"\"}}, \"type\": \"parcoords\"}], \"pie\": [{\"automargin\": true, \"type\": \"pie\"}], \"scatter\": [{\"marker\": {\"colorbar\": {\"outlinewidth\": 0, \"ticks\": \"\"}}, \"type\": \"scatter\"}], \"scatter3d\": [{\"line\": {\"colorbar\": {\"outlinewidth\": 0, \"ticks\": \"\"}}, \"marker\": {\"colorbar\": {\"outlinewidth\": 0, \"ticks\": \"\"}}, \"type\": \"scatter3d\"}], \"scattercarpet\": [{\"marker\": {\"colorbar\": {\"outlinewidth\": 0, \"ticks\": \"\"}}, \"type\": \"scattercarpet\"}], \"scattergeo\": [{\"marker\": {\"colorbar\": {\"outlinewidth\": 0, \"ticks\": \"\"}}, \"type\": \"scattergeo\"}], \"scattergl\": [{\"marker\": {\"colorbar\": {\"outlinewidth\": 0, \"ticks\": \"\"}}, \"type\": \"scattergl\"}], \"scattermapbox\": [{\"marker\": {\"colorbar\": {\"outlinewidth\": 0, \"ticks\": \"\"}}, \"type\": \"scattermapbox\"}], \"scatterpolar\": [{\"marker\": {\"colorbar\": {\"outlinewidth\": 0, \"ticks\": \"\"}}, \"type\": \"scatterpolar\"}], \"scatterpolargl\": [{\"marker\": {\"colorbar\": {\"outlinewidth\": 0, \"ticks\": \"\"}}, \"type\": \"scatterpolargl\"}], \"scatterternary\": [{\"marker\": {\"colorbar\": {\"outlinewidth\": 0, \"ticks\": \"\"}}, \"type\": \"scatterternary\"}], \"surface\": [{\"colorbar\": {\"outlinewidth\": 0, \"ticks\": \"\"}, \"colorscale\": [[0.0, \"#0d0887\"], [0.1111111111111111, \"#46039f\"], [0.2222222222222222, \"#7201a8\"], [0.3333333333333333, \"#9c179e\"], [0.4444444444444444, \"#bd3786\"], [0.5555555555555556, \"#d8576b\"], [0.6666666666666666, \"#ed7953\"], [0.7777777777777778, \"#fb9f3a\"], [0.8888888888888888, \"#fdca26\"], [1.0, \"#f0f921\"]], \"type\": \"surface\"}], \"table\": [{\"cells\": {\"fill\": {\"color\": \"#EBF0F8\"}, \"line\": {\"color\": \"white\"}}, \"header\": {\"fill\": {\"color\": \"#C8D4E3\"}, \"line\": {\"color\": \"white\"}}, \"type\": \"table\"}]}, \"layout\": {\"annotationdefaults\": {\"arrowcolor\": \"#2a3f5f\", \"arrowhead\": 0, \"arrowwidth\": 1}, \"coloraxis\": {\"colorbar\": {\"outlinewidth\": 0, \"ticks\": \"\"}}, \"colorscale\": {\"diverging\": [[0, \"#8e0152\"], [0.1, \"#c51b7d\"], [0.2, \"#de77ae\"], [0.3, \"#f1b6da\"], [0.4, \"#fde0ef\"], [0.5, \"#f7f7f7\"], [0.6, \"#e6f5d0\"], [0.7, \"#b8e186\"], [0.8, \"#7fbc41\"], [0.9, \"#4d9221\"], [1, \"#276419\"]], \"sequential\": [[0.0, \"#0d0887\"], [0.1111111111111111, \"#46039f\"], [0.2222222222222222, \"#7201a8\"], [0.3333333333333333, \"#9c179e\"], [0.4444444444444444, \"#bd3786\"], [0.5555555555555556, \"#d8576b\"], [0.6666666666666666, \"#ed7953\"], [0.7777777777777778, \"#fb9f3a\"], [0.8888888888888888, \"#fdca26\"], [1.0, \"#f0f921\"]], \"sequentialminus\": [[0.0, \"#0d0887\"], [0.1111111111111111, \"#46039f\"], [0.2222222222222222, \"#7201a8\"], [0.3333333333333333, \"#9c179e\"], [0.4444444444444444, \"#bd3786\"], [0.5555555555555556, \"#d8576b\"], [0.6666666666666666, \"#ed7953\"], [0.7777777777777778, \"#fb9f3a\"], [0.8888888888888888, \"#fdca26\"], [1.0, \"#f0f921\"]]}, \"colorway\": [\"#636efa\", \"#EF553B\", \"#00cc96\", \"#ab63fa\", \"#FFA15A\", \"#19d3f3\", \"#FF6692\", \"#B6E880\", \"#FF97FF\", \"#FECB52\"], \"font\": {\"color\": \"#2a3f5f\"}, \"geo\": {\"bgcolor\": \"white\", \"lakecolor\": \"white\", \"landcolor\": \"#E5ECF6\", \"showlakes\": true, \"showland\": true, \"subunitcolor\": \"white\"}, \"hoverlabel\": {\"align\": \"left\"}, \"hovermode\": \"closest\", \"mapbox\": {\"style\": \"light\"}, \"paper_bgcolor\": \"white\", \"plot_bgcolor\": \"#E5ECF6\", \"polar\": {\"angularaxis\": {\"gridcolor\": \"white\", \"linecolor\": \"white\", \"ticks\": \"\"}, \"bgcolor\": \"#E5ECF6\", \"radialaxis\": {\"gridcolor\": \"white\", \"linecolor\": \"white\", \"ticks\": \"\"}}, \"scene\": {\"xaxis\": {\"backgroundcolor\": \"#E5ECF6\", \"gridcolor\": \"white\", \"gridwidth\": 2, \"linecolor\": \"white\", \"showbackground\": true, \"ticks\": \"\", \"zerolinecolor\": \"white\"}, \"yaxis\": {\"backgroundcolor\": \"#E5ECF6\", \"gridcolor\": \"white\", \"gridwidth\": 2, \"linecolor\": \"white\", \"showbackground\": true, \"ticks\": \"\", \"zerolinecolor\": \"white\"}, \"zaxis\": {\"backgroundcolor\": \"#E5ECF6\", \"gridcolor\": \"white\", \"gridwidth\": 2, \"linecolor\": \"white\", \"showbackground\": true, \"ticks\": \"\", \"zerolinecolor\": \"white\"}}, \"shapedefaults\": {\"line\": {\"color\": \"#2a3f5f\"}}, \"ternary\": {\"aaxis\": {\"gridcolor\": \"white\", \"linecolor\": \"white\", \"ticks\": \"\"}, \"baxis\": {\"gridcolor\": \"white\", \"linecolor\": \"white\", \"ticks\": \"\"}, \"bgcolor\": \"#E5ECF6\", \"caxis\": {\"gridcolor\": \"white\", \"linecolor\": \"white\", \"ticks\": \"\"}}, \"title\": {\"x\": 0.05}, \"xaxis\": {\"automargin\": true, \"gridcolor\": \"white\", \"linecolor\": \"white\", \"ticks\": \"\", \"title\": {\"standoff\": 15}, \"zerolinecolor\": \"white\", \"zerolinewidth\": 2}, \"yaxis\": {\"automargin\": true, \"gridcolor\": \"white\", \"linecolor\": \"white\", \"ticks\": \"\", \"title\": {\"standoff\": 15}, \"zerolinecolor\": \"white\", \"zerolinewidth\": 2}}}},\n",
              "                        {\"responsive\": true}\n",
              "                    ).then(function(){\n",
              "                            \n",
              "var gd = document.getElementById('e88fe0b7-09f3-4c39-abe6-ec3624c3babc');\n",
              "var x = new MutationObserver(function (mutations, observer) {{\n",
              "        var display = window.getComputedStyle(gd).display;\n",
              "        if (!display || display === 'none') {{\n",
              "            console.log([gd, 'removed!']);\n",
              "            Plotly.purge(gd);\n",
              "            observer.disconnect();\n",
              "        }}\n",
              "}});\n",
              "\n",
              "// Listen for the removal of the full notebook cells\n",
              "var notebookContainer = gd.closest('#notebook-container');\n",
              "if (notebookContainer) {{\n",
              "    x.observe(notebookContainer, {childList: true});\n",
              "}}\n",
              "\n",
              "// Listen for the clearing of the current output cell\n",
              "var outputEl = gd.closest('.output');\n",
              "if (outputEl) {{\n",
              "    x.observe(outputEl, {childList: true});\n",
              "}}\n",
              "\n",
              "                        })\n",
              "                };\n",
              "                \n",
              "            </script>\n",
              "        </div>\n",
              "</body>\n",
              "</html>"
            ]
          },
          "metadata": {}
        }
      ]
    },
    {
      "cell_type": "code",
      "metadata": {
        "colab": {
          "base_uri": "https://localhost:8080/"
        },
        "id": "c4fCvGNiRs6b",
        "outputId": "2d94aca4-1da5-4c92-b216-08c9bd3275fe"
      },
      "source": [
        "X_multi=np.array([x,y]).reshape(100,2)\n",
        "poly=PolynomialFeatures(degree=30)\n",
        "X_multi_trans=poly.fit_transform(X_multi)\n",
        "print(\"Input\",poly.n_input_features_)\n",
        "print(\"Ouput\",poly.n_output_features_)\n",
        "print(\"Powersn\",poly.powers_)"
      ],
      "execution_count": 37,
      "outputs": [
        {
          "output_type": "stream",
          "name": "stdout",
          "text": [
            "Input 2\n",
            "Ouput 496\n",
            "Powersn [[ 0  0]\n",
            " [ 1  0]\n",
            " [ 0  1]\n",
            " [ 2  0]\n",
            " [ 1  1]\n",
            " [ 0  2]\n",
            " [ 3  0]\n",
            " [ 2  1]\n",
            " [ 1  2]\n",
            " [ 0  3]\n",
            " [ 4  0]\n",
            " [ 3  1]\n",
            " [ 2  2]\n",
            " [ 1  3]\n",
            " [ 0  4]\n",
            " [ 5  0]\n",
            " [ 4  1]\n",
            " [ 3  2]\n",
            " [ 2  3]\n",
            " [ 1  4]\n",
            " [ 0  5]\n",
            " [ 6  0]\n",
            " [ 5  1]\n",
            " [ 4  2]\n",
            " [ 3  3]\n",
            " [ 2  4]\n",
            " [ 1  5]\n",
            " [ 0  6]\n",
            " [ 7  0]\n",
            " [ 6  1]\n",
            " [ 5  2]\n",
            " [ 4  3]\n",
            " [ 3  4]\n",
            " [ 2  5]\n",
            " [ 1  6]\n",
            " [ 0  7]\n",
            " [ 8  0]\n",
            " [ 7  1]\n",
            " [ 6  2]\n",
            " [ 5  3]\n",
            " [ 4  4]\n",
            " [ 3  5]\n",
            " [ 2  6]\n",
            " [ 1  7]\n",
            " [ 0  8]\n",
            " [ 9  0]\n",
            " [ 8  1]\n",
            " [ 7  2]\n",
            " [ 6  3]\n",
            " [ 5  4]\n",
            " [ 4  5]\n",
            " [ 3  6]\n",
            " [ 2  7]\n",
            " [ 1  8]\n",
            " [ 0  9]\n",
            " [10  0]\n",
            " [ 9  1]\n",
            " [ 8  2]\n",
            " [ 7  3]\n",
            " [ 6  4]\n",
            " [ 5  5]\n",
            " [ 4  6]\n",
            " [ 3  7]\n",
            " [ 2  8]\n",
            " [ 1  9]\n",
            " [ 0 10]\n",
            " [11  0]\n",
            " [10  1]\n",
            " [ 9  2]\n",
            " [ 8  3]\n",
            " [ 7  4]\n",
            " [ 6  5]\n",
            " [ 5  6]\n",
            " [ 4  7]\n",
            " [ 3  8]\n",
            " [ 2  9]\n",
            " [ 1 10]\n",
            " [ 0 11]\n",
            " [12  0]\n",
            " [11  1]\n",
            " [10  2]\n",
            " [ 9  3]\n",
            " [ 8  4]\n",
            " [ 7  5]\n",
            " [ 6  6]\n",
            " [ 5  7]\n",
            " [ 4  8]\n",
            " [ 3  9]\n",
            " [ 2 10]\n",
            " [ 1 11]\n",
            " [ 0 12]\n",
            " [13  0]\n",
            " [12  1]\n",
            " [11  2]\n",
            " [10  3]\n",
            " [ 9  4]\n",
            " [ 8  5]\n",
            " [ 7  6]\n",
            " [ 6  7]\n",
            " [ 5  8]\n",
            " [ 4  9]\n",
            " [ 3 10]\n",
            " [ 2 11]\n",
            " [ 1 12]\n",
            " [ 0 13]\n",
            " [14  0]\n",
            " [13  1]\n",
            " [12  2]\n",
            " [11  3]\n",
            " [10  4]\n",
            " [ 9  5]\n",
            " [ 8  6]\n",
            " [ 7  7]\n",
            " [ 6  8]\n",
            " [ 5  9]\n",
            " [ 4 10]\n",
            " [ 3 11]\n",
            " [ 2 12]\n",
            " [ 1 13]\n",
            " [ 0 14]\n",
            " [15  0]\n",
            " [14  1]\n",
            " [13  2]\n",
            " [12  3]\n",
            " [11  4]\n",
            " [10  5]\n",
            " [ 9  6]\n",
            " [ 8  7]\n",
            " [ 7  8]\n",
            " [ 6  9]\n",
            " [ 5 10]\n",
            " [ 4 11]\n",
            " [ 3 12]\n",
            " [ 2 13]\n",
            " [ 1 14]\n",
            " [ 0 15]\n",
            " [16  0]\n",
            " [15  1]\n",
            " [14  2]\n",
            " [13  3]\n",
            " [12  4]\n",
            " [11  5]\n",
            " [10  6]\n",
            " [ 9  7]\n",
            " [ 8  8]\n",
            " [ 7  9]\n",
            " [ 6 10]\n",
            " [ 5 11]\n",
            " [ 4 12]\n",
            " [ 3 13]\n",
            " [ 2 14]\n",
            " [ 1 15]\n",
            " [ 0 16]\n",
            " [17  0]\n",
            " [16  1]\n",
            " [15  2]\n",
            " [14  3]\n",
            " [13  4]\n",
            " [12  5]\n",
            " [11  6]\n",
            " [10  7]\n",
            " [ 9  8]\n",
            " [ 8  9]\n",
            " [ 7 10]\n",
            " [ 6 11]\n",
            " [ 5 12]\n",
            " [ 4 13]\n",
            " [ 3 14]\n",
            " [ 2 15]\n",
            " [ 1 16]\n",
            " [ 0 17]\n",
            " [18  0]\n",
            " [17  1]\n",
            " [16  2]\n",
            " [15  3]\n",
            " [14  4]\n",
            " [13  5]\n",
            " [12  6]\n",
            " [11  7]\n",
            " [10  8]\n",
            " [ 9  9]\n",
            " [ 8 10]\n",
            " [ 7 11]\n",
            " [ 6 12]\n",
            " [ 5 13]\n",
            " [ 4 14]\n",
            " [ 3 15]\n",
            " [ 2 16]\n",
            " [ 1 17]\n",
            " [ 0 18]\n",
            " [19  0]\n",
            " [18  1]\n",
            " [17  2]\n",
            " [16  3]\n",
            " [15  4]\n",
            " [14  5]\n",
            " [13  6]\n",
            " [12  7]\n",
            " [11  8]\n",
            " [10  9]\n",
            " [ 9 10]\n",
            " [ 8 11]\n",
            " [ 7 12]\n",
            " [ 6 13]\n",
            " [ 5 14]\n",
            " [ 4 15]\n",
            " [ 3 16]\n",
            " [ 2 17]\n",
            " [ 1 18]\n",
            " [ 0 19]\n",
            " [20  0]\n",
            " [19  1]\n",
            " [18  2]\n",
            " [17  3]\n",
            " [16  4]\n",
            " [15  5]\n",
            " [14  6]\n",
            " [13  7]\n",
            " [12  8]\n",
            " [11  9]\n",
            " [10 10]\n",
            " [ 9 11]\n",
            " [ 8 12]\n",
            " [ 7 13]\n",
            " [ 6 14]\n",
            " [ 5 15]\n",
            " [ 4 16]\n",
            " [ 3 17]\n",
            " [ 2 18]\n",
            " [ 1 19]\n",
            " [ 0 20]\n",
            " [21  0]\n",
            " [20  1]\n",
            " [19  2]\n",
            " [18  3]\n",
            " [17  4]\n",
            " [16  5]\n",
            " [15  6]\n",
            " [14  7]\n",
            " [13  8]\n",
            " [12  9]\n",
            " [11 10]\n",
            " [10 11]\n",
            " [ 9 12]\n",
            " [ 8 13]\n",
            " [ 7 14]\n",
            " [ 6 15]\n",
            " [ 5 16]\n",
            " [ 4 17]\n",
            " [ 3 18]\n",
            " [ 2 19]\n",
            " [ 1 20]\n",
            " [ 0 21]\n",
            " [22  0]\n",
            " [21  1]\n",
            " [20  2]\n",
            " [19  3]\n",
            " [18  4]\n",
            " [17  5]\n",
            " [16  6]\n",
            " [15  7]\n",
            " [14  8]\n",
            " [13  9]\n",
            " [12 10]\n",
            " [11 11]\n",
            " [10 12]\n",
            " [ 9 13]\n",
            " [ 8 14]\n",
            " [ 7 15]\n",
            " [ 6 16]\n",
            " [ 5 17]\n",
            " [ 4 18]\n",
            " [ 3 19]\n",
            " [ 2 20]\n",
            " [ 1 21]\n",
            " [ 0 22]\n",
            " [23  0]\n",
            " [22  1]\n",
            " [21  2]\n",
            " [20  3]\n",
            " [19  4]\n",
            " [18  5]\n",
            " [17  6]\n",
            " [16  7]\n",
            " [15  8]\n",
            " [14  9]\n",
            " [13 10]\n",
            " [12 11]\n",
            " [11 12]\n",
            " [10 13]\n",
            " [ 9 14]\n",
            " [ 8 15]\n",
            " [ 7 16]\n",
            " [ 6 17]\n",
            " [ 5 18]\n",
            " [ 4 19]\n",
            " [ 3 20]\n",
            " [ 2 21]\n",
            " [ 1 22]\n",
            " [ 0 23]\n",
            " [24  0]\n",
            " [23  1]\n",
            " [22  2]\n",
            " [21  3]\n",
            " [20  4]\n",
            " [19  5]\n",
            " [18  6]\n",
            " [17  7]\n",
            " [16  8]\n",
            " [15  9]\n",
            " [14 10]\n",
            " [13 11]\n",
            " [12 12]\n",
            " [11 13]\n",
            " [10 14]\n",
            " [ 9 15]\n",
            " [ 8 16]\n",
            " [ 7 17]\n",
            " [ 6 18]\n",
            " [ 5 19]\n",
            " [ 4 20]\n",
            " [ 3 21]\n",
            " [ 2 22]\n",
            " [ 1 23]\n",
            " [ 0 24]\n",
            " [25  0]\n",
            " [24  1]\n",
            " [23  2]\n",
            " [22  3]\n",
            " [21  4]\n",
            " [20  5]\n",
            " [19  6]\n",
            " [18  7]\n",
            " [17  8]\n",
            " [16  9]\n",
            " [15 10]\n",
            " [14 11]\n",
            " [13 12]\n",
            " [12 13]\n",
            " [11 14]\n",
            " [10 15]\n",
            " [ 9 16]\n",
            " [ 8 17]\n",
            " [ 7 18]\n",
            " [ 6 19]\n",
            " [ 5 20]\n",
            " [ 4 21]\n",
            " [ 3 22]\n",
            " [ 2 23]\n",
            " [ 1 24]\n",
            " [ 0 25]\n",
            " [26  0]\n",
            " [25  1]\n",
            " [24  2]\n",
            " [23  3]\n",
            " [22  4]\n",
            " [21  5]\n",
            " [20  6]\n",
            " [19  7]\n",
            " [18  8]\n",
            " [17  9]\n",
            " [16 10]\n",
            " [15 11]\n",
            " [14 12]\n",
            " [13 13]\n",
            " [12 14]\n",
            " [11 15]\n",
            " [10 16]\n",
            " [ 9 17]\n",
            " [ 8 18]\n",
            " [ 7 19]\n",
            " [ 6 20]\n",
            " [ 5 21]\n",
            " [ 4 22]\n",
            " [ 3 23]\n",
            " [ 2 24]\n",
            " [ 1 25]\n",
            " [ 0 26]\n",
            " [27  0]\n",
            " [26  1]\n",
            " [25  2]\n",
            " [24  3]\n",
            " [23  4]\n",
            " [22  5]\n",
            " [21  6]\n",
            " [20  7]\n",
            " [19  8]\n",
            " [18  9]\n",
            " [17 10]\n",
            " [16 11]\n",
            " [15 12]\n",
            " [14 13]\n",
            " [13 14]\n",
            " [12 15]\n",
            " [11 16]\n",
            " [10 17]\n",
            " [ 9 18]\n",
            " [ 8 19]\n",
            " [ 7 20]\n",
            " [ 6 21]\n",
            " [ 5 22]\n",
            " [ 4 23]\n",
            " [ 3 24]\n",
            " [ 2 25]\n",
            " [ 1 26]\n",
            " [ 0 27]\n",
            " [28  0]\n",
            " [27  1]\n",
            " [26  2]\n",
            " [25  3]\n",
            " [24  4]\n",
            " [23  5]\n",
            " [22  6]\n",
            " [21  7]\n",
            " [20  8]\n",
            " [19  9]\n",
            " [18 10]\n",
            " [17 11]\n",
            " [16 12]\n",
            " [15 13]\n",
            " [14 14]\n",
            " [13 15]\n",
            " [12 16]\n",
            " [11 17]\n",
            " [10 18]\n",
            " [ 9 19]\n",
            " [ 8 20]\n",
            " [ 7 21]\n",
            " [ 6 22]\n",
            " [ 5 23]\n",
            " [ 4 24]\n",
            " [ 3 25]\n",
            " [ 2 26]\n",
            " [ 1 27]\n",
            " [ 0 28]\n",
            " [29  0]\n",
            " [28  1]\n",
            " [27  2]\n",
            " [26  3]\n",
            " [25  4]\n",
            " [24  5]\n",
            " [23  6]\n",
            " [22  7]\n",
            " [21  8]\n",
            " [20  9]\n",
            " [19 10]\n",
            " [18 11]\n",
            " [17 12]\n",
            " [16 13]\n",
            " [15 14]\n",
            " [14 15]\n",
            " [13 16]\n",
            " [12 17]\n",
            " [11 18]\n",
            " [10 19]\n",
            " [ 9 20]\n",
            " [ 8 21]\n",
            " [ 7 22]\n",
            " [ 6 23]\n",
            " [ 5 24]\n",
            " [ 4 25]\n",
            " [ 3 26]\n",
            " [ 2 27]\n",
            " [ 1 28]\n",
            " [ 0 29]\n",
            " [30  0]\n",
            " [29  1]\n",
            " [28  2]\n",
            " [27  3]\n",
            " [26  4]\n",
            " [25  5]\n",
            " [24  6]\n",
            " [23  7]\n",
            " [22  8]\n",
            " [21  9]\n",
            " [20 10]\n",
            " [19 11]\n",
            " [18 12]\n",
            " [17 13]\n",
            " [16 14]\n",
            " [15 15]\n",
            " [14 16]\n",
            " [13 17]\n",
            " [12 18]\n",
            " [11 19]\n",
            " [10 20]\n",
            " [ 9 21]\n",
            " [ 8 22]\n",
            " [ 7 23]\n",
            " [ 6 24]\n",
            " [ 5 25]\n",
            " [ 4 26]\n",
            " [ 3 27]\n",
            " [ 2 28]\n",
            " [ 1 29]\n",
            " [ 0 30]]\n"
          ]
        }
      ]
    },
    {
      "cell_type": "code",
      "metadata": {
        "id": "5gwKKx9YhiUx"
      },
      "source": [
        "lr=LinearRegression()\n",
        "lr.fit(X_multi_trans,z)\n",
        "#X_test_multi = poly.transform(final)\n",
        "z_final = lr.predict(X_multi_trans).reshape(10,10)"
      ],
      "execution_count": 39,
      "outputs": []
    },
    {
      "cell_type": "code",
      "metadata": {
        "id": "VJXX__qPiMvF"
      },
      "source": [
        ""
      ],
      "execution_count": null,
      "outputs": []
    }
  ]
}